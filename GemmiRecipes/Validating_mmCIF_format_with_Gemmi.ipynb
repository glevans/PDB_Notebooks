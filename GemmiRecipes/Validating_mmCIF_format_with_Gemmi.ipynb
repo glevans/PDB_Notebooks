{
  "cells": [
    {
      "cell_type": "markdown",
      "metadata": {
        "id": "view-in-github",
        "colab_type": "text"
      },
      "source": [
        "<a href=\"https://colab.research.google.com/github/glevans/PDB_Notebooks/blob/main/GemmiRecipes/Validating_mmCIF_format_with_Gemmi.ipynb\" target=\"_parent\"><img src=\"https://colab.research.google.com/assets/colab-badge.svg\" alt=\"Open In Colab\"/></a>"
      ]
    },
    {
      "cell_type": "markdown",
      "metadata": {
        "id": "-y5SIhJ1N1jc"
      },
      "source": [
        "## 1. Setting up Notebook"
      ]
    },
    {
      "cell_type": "markdown",
      "metadata": {
        "id": "LDq2MDHuyd0P"
      },
      "source": [
        "The below installs a software package called `gemmi` index from [PyPi](https://pypi.org/).\n",
        "\n",
        "There are a versatile set of options available from the `gemmi`  Python library.\n",
        "\n",
        "These options greatly aid when working with structural biology data."
      ]
    },
    {
      "cell_type": "code",
      "execution_count": 1,
      "metadata": {
        "colab": {
          "base_uri": "https://localhost:8080/"
        },
        "id": "PsYQqyqckHAs",
        "outputId": "e46c81e4-d71f-44da-d681-485320ce07ae"
      },
      "outputs": [
        {
          "output_type": "stream",
          "name": "stdout",
          "text": [
            "Collecting gemmi\n",
            "  Downloading gemmi-0.7.3-cp312-cp312-manylinux_2_27_x86_64.manylinux_2_28_x86_64.whl.metadata (2.3 kB)\n",
            "Downloading gemmi-0.7.3-cp312-cp312-manylinux_2_27_x86_64.manylinux_2_28_x86_64.whl (2.6 MB)\n",
            "\u001b[2K   \u001b[90m━━━━━━━━━━━━━━━━━━━━━━━━━━━━━━━━━━━━━━━━\u001b[0m \u001b[32m2.6/2.6 MB\u001b[0m \u001b[31m39.8 MB/s\u001b[0m eta \u001b[36m0:00:00\u001b[0m\n",
            "\u001b[?25hInstalling collected packages: gemmi\n",
            "Successfully installed gemmi-0.7.3\n"
          ]
        }
      ],
      "source": [
        "!pip install gemmi\n",
        "import gemmi"
      ]
    },
    {
      "cell_type": "markdown",
      "metadata": {
        "id": "nFmA7KTbyAlv"
      },
      "source": [
        "The below installation of **Gemmi-program** makes more options available.\n",
        "\n",
        "Some of these options are not available from the `gemmi` Python library.\n",
        "\n",
        "This weblink indicates options available *via* commandline\n",
        "[Gemmi-program](https://gemmi.readthedocs.io/en/latest/program.html)\n",
        "\n",
        "In this jupyter notebook we will access these additional options by using `!gemmi`.\n",
        "\n",
        "Examples using **Gemmi-program**:\n",
        "\n",
        "\n",
        "```\n",
        "# Get list of all tags for the types of data and metadata in a '.CIF' file\n",
        "!gemmi tags structure.cif >> structure_tags.txt\n",
        "```"
      ]
    },
    {
      "cell_type": "code",
      "execution_count": 2,
      "metadata": {
        "colab": {
          "base_uri": "https://localhost:8080/"
        },
        "id": "oIuqeEr2qfXo",
        "outputId": "43fd8c11-4f04-48ba-94dd-c4649c64919c"
      },
      "outputs": [
        {
          "output_type": "stream",
          "name": "stdout",
          "text": [
            "Collecting gemmi-program\n",
            "  Downloading gemmi_program-0.7.3-py2.py3-none-manylinux_2_27_x86_64.manylinux_2_28_x86_64.whl.metadata (1.6 kB)\n",
            "Downloading gemmi_program-0.7.3-py2.py3-none-manylinux_2_27_x86_64.manylinux_2_28_x86_64.whl (1.6 MB)\n",
            "\u001b[2K   \u001b[90m━━━━━━━━━━━━━━━━━━━━━━━━━━━━━━━━━━━━━━━━\u001b[0m \u001b[32m1.6/1.6 MB\u001b[0m \u001b[31m11.0 MB/s\u001b[0m eta \u001b[36m0:00:00\u001b[0m\n",
            "\u001b[?25hInstalling collected packages: gemmi-program\n",
            "Successfully installed gemmi-program-0.7.3\n"
          ]
        }
      ],
      "source": [
        "!pip install gemmi-program"
      ]
    },
    {
      "cell_type": "code",
      "source": [
        "# More useful software packages\n",
        "\n",
        "import requests\n",
        "import urllib.request\n",
        "import os"
      ],
      "metadata": {
        "id": "6a5qWQ9wtB_0"
      },
      "execution_count": 3,
      "outputs": []
    },
    {
      "cell_type": "markdown",
      "source": [
        "## 2. Retrieve useful files"
      ],
      "metadata": {
        "id": "PwNU3fKHs631"
      }
    },
    {
      "cell_type": "code",
      "source": [
        "def download_file(url, save_as):\n",
        "    \"\"\"\n",
        "    Downloads the mmCIF dictionary file from the given URL and saves it locally.\n",
        "\n",
        "    Parameters:\n",
        "    - url (str): URL of the mmCIF dictionary file.\n",
        "    - save_as (str): Local filename to save the downloaded file.\n",
        "\n",
        "    Returns:\n",
        "    - str: Path to the saved file.\n",
        "    \"\"\"\n",
        "    response = requests.get(url)\n",
        "    response.raise_for_status()  # Raise an error for bad status codes\n",
        "\n",
        "    with open(save_as, 'wb') as f:\n",
        "        f.write(response.content)\n",
        "\n",
        "    print(f\"File downloaded and saved as '{save_as}'\")\n",
        "    return\n"
      ],
      "metadata": {
        "id": "3pBN8Bt2s6V5"
      },
      "execution_count": 4,
      "outputs": []
    },
    {
      "cell_type": "code",
      "source": [
        "download_file(\"https://mmcif.wwpdb.org/dictionaries/ascii/mmcif_ddl.dic\", \"mmcif_ddl.dic\")\n",
        "download_file(\"https://mmcif.wwpdb.org/dictionaries/mmcif_pdbx_v50.dic/\", \"mmcif_pdbx_v50.dic\")\n",
        "download_file(\"https://www.ebi.ac.uk/pdbe/entry-files/download/1xxx.cif\", \"1xxx.cif\")"
      ],
      "metadata": {
        "colab": {
          "base_uri": "https://localhost:8080/"
        },
        "id": "k0B6S9FQtbF6",
        "outputId": "e386eade-c0e1-4c91-a708-2b8aac37b1a2"
      },
      "execution_count": 5,
      "outputs": [
        {
          "output_type": "stream",
          "name": "stdout",
          "text": [
            "File downloaded and saved as 'mmcif_ddl.dic'\n",
            "File downloaded and saved as 'mmcif_pdbx_v50.dic'\n",
            "File downloaded and saved as '1xxx.cif'\n"
          ]
        }
      ]
    },
    {
      "cell_type": "code",
      "source": [
        "def download_github_file(raw_url: str, output_filename: str):\n",
        "    \"\"\"\n",
        "    Downloads a file from a GitHub raw URL and saves it locally.\n",
        "\n",
        "    Parameters:\n",
        "    - raw_url (str): The direct raw URL to the file on GitHub.\n",
        "    - output_filename (str): The name to save the downloaded file as.\n",
        "    \"\"\"\n",
        "    try:\n",
        "        urllib.request.urlretrieve(raw_url, output_filename)\n",
        "        print(f\"Downloaded and saved as '{output_filename}'.\")\n",
        "    except Exception as e:\n",
        "        print(f\"Download failed: {e}\")"
      ],
      "metadata": {
        "id": "OYqCpm9KLdLx"
      },
      "execution_count": 6,
      "outputs": []
    },
    {
      "cell_type": "code",
      "source": [
        "download_github_file(\n",
        "    \"https://raw.githubusercontent.com/glevans/PDB_Notebooks/main/GemmiRecipes/mmcif_pdbx.dic\",\n",
        "    \"mmcif_pdbx.dic\")"
      ],
      "metadata": {
        "colab": {
          "base_uri": "https://localhost:8080/"
        },
        "id": "dV_nNcB_NNlF",
        "outputId": "c08cfe97-45c6-4f46-d423-32a74d3155b0"
      },
      "execution_count": 7,
      "outputs": [
        {
          "output_type": "stream",
          "name": "stdout",
          "text": [
            "Downloaded and saved as 'mmcif_pdbx.dic'.\n"
          ]
        }
      ]
    },
    {
      "cell_type": "code",
      "source": [
        "# Define the original and new file names\n",
        "old_filename = \"mmcif_pdbx_v50.dic\"\n",
        "new_filename = \"mmcif_pdbx.dic\"\n",
        "\n",
        "# Check if the target file already exists\n",
        "if os.path.exists(new_filename):\n",
        "    print(f\"Target file '{new_filename}' already exists. Rename aborted.\")\n",
        "else:\n",
        "    # Attempt to rename the file\n",
        "    try:\n",
        "        os.rename(old_filename, new_filename)\n",
        "        print(f\"Renamed '{old_filename}' to '{new_filename}' successfully.\")\n",
        "    except FileNotFoundError:\n",
        "        print(f\"Source file '{old_filename}' not found.\")\n",
        "    except Exception as e:\n",
        "        print(f\"Error renaming file: {e}\")"
      ],
      "metadata": {
        "colab": {
          "base_uri": "https://localhost:8080/"
        },
        "id": "D29MEz75GtQg",
        "outputId": "aa0a13d0-b893-45a8-a7a4-de3581632bdc"
      },
      "execution_count": 8,
      "outputs": [
        {
          "output_type": "stream",
          "name": "stdout",
          "text": [
            "Target file 'mmcif_pdbx.dic' already exists. Rename aborted.\n"
          ]
        }
      ]
    },
    {
      "cell_type": "markdown",
      "source": [
        "## 3. Helpful insight - Gemmi validation options"
      ],
      "metadata": {
        "id": "MEeY_i_8pwQt"
      }
    },
    {
      "cell_type": "code",
      "source": [
        "!gemmi validate -help"
      ],
      "metadata": {
        "colab": {
          "base_uri": "https://localhost:8080/"
        },
        "id": "p4Rws1JmVV6T",
        "outputId": "20a31e7f-7e21-4d9e-e961-ba808e05e819"
      },
      "execution_count": 9,
      "outputs": [
        {
          "output_type": "stream",
          "name": "stdout",
          "text": [
            "Usage: gemmi validate [options] FILE [...]\n",
            "\n",
            "Options:\n",
            "  -h, --help       Print usage and exit.\n",
            "  -V, --version    Print version and exit.\n",
            "  -v, --verbose    Verbose output.\n",
            "  -q, --quiet      Show only errors.\n",
            "  -f, --fast       Syntax-only check.\n",
            "  -s, --stat       Show token statistics\n",
            "  -r, --recursive  Recurse directories and process all CIF files.\n",
            "  -d, --ddl=PATH   DDL for validation.\n",
            "\n",
            "Optional checks (when using DDL2):\n",
            "  -c, --context    Check _pdbx_{category|item}_context.type.\n",
            "  --no-regex       Skip regex checking\n",
            "  --no-mandatory   Skip checking if mandatory tags are present.\n",
            "  --no-unique      Skip checking if category keys are unique.\n",
            "  -p               Check if parent items are present.\n",
            "  --depo           Deposition checks (_pdbx_item_range not _item_range, etc).\n",
            "\n",
            "Validation specific to CCP4 monomer files:\n",
            "  -m, --monomer    Run checks specific to monomer dictionary.\n",
            "  --z-score=Z      Use Z for validating _chem_comp_atom.[xyz] (default: 2.0).\n",
            "  --ccd=PATH       CCD file for comparison.\n",
            "  --audit-on=DATE  Check only if CCD component was remediated on DATE.\n"
          ]
        }
      ]
    },
    {
      "cell_type": "markdown",
      "source": [
        "We can validate all mmCIF dictionaries that are available at:\n",
        "[https://mmcif.wwpdb.org/](https://mmcif.wwpdb.org/)  "
      ],
      "metadata": {
        "id": "7azvBigSM53K"
      }
    },
    {
      "cell_type": "markdown",
      "source": [
        "We validate mmCIF dictionaries against a reference -- the dictionary for mmCIF dictionaries:\n",
        "\n",
        "`mmcif_ddl.dic`\n",
        "\n",
        "\n",
        "\n",
        "---\n",
        "\n",
        "\n",
        "\n",
        "[mmCIF dictionary homepage for mmCIF dictionary for dictionaries](https://mmcif.wwpdb.org/dictionaries/mmcif_ddl.dic/Index/)\n",
        "\n",
        "**The below checks the dictionary for mmCIF dictionaries against itself.**\n"
      ],
      "metadata": {
        "id": "Ziw7MXsqVW1b"
      }
    },
    {
      "cell_type": "code",
      "source": [
        "!gemmi validate -s -d mmcif_ddl.dic mmcif_ddl.dic"
      ],
      "metadata": {
        "colab": {
          "base_uri": "https://localhost:8080/"
        },
        "outputId": "0f04c4a9-8a84-43e9-ab7c-19527b91ab3d",
        "id": "mIMoWexEbBds"
      },
      "execution_count": 10,
      "outputs": [
        {
          "output_type": "stream",
          "name": "stdout",
          "text": [
            "      1 block(s)\n",
            "    289 frames\n",
            "      5 non-loop items:  char:5  numb:0  '.':0  '?':0\n",
            "      7 loops w/\n",
            "             28 tags:  char:24  numb:2  '.':2  '?':0\n",
            "           1216 values\n",
            "\n"
          ]
        }
      ]
    },
    {
      "cell_type": "markdown",
      "source": [
        "Files such as the 3D coordinates of macromolecules available for download from [PDBe.org](https://www.ebi.ac.uk/pdbe/) (and other [wwPDB](https://www.wwpdb.org/) partners) should validate against the wwPDB mmCIF dictionary:\n",
        "\n",
        "`mmcif_pdbx.dic`\n",
        "\n",
        "\n",
        "\n",
        "---\n",
        "\n",
        "\n",
        "\n",
        "[mmCIF dictionary homepage for wwPDB dictionary](https://mmcif.wwpdb.org/dictionaries/mmcif_pdbx_v50.dic/Index/)\n",
        "\n"
      ],
      "metadata": {
        "id": "mTzWwMnULoAG"
      }
    },
    {
      "cell_type": "markdown",
      "source": [
        "## 4. Running Gemmi file validation against a dictionary"
      ],
      "metadata": {
        "id": "4r9twQKE4Gm8"
      }
    },
    {
      "cell_type": "markdown",
      "source": [
        "Relevant wwPDB dictionary file:\n",
        "`mmcif_pdbx.dic`\n",
        "\n",
        "Example to PDB file to test with:\n",
        "`1xxx.cif`\n",
        "\n"
      ],
      "metadata": {
        "id": "4mhLBdcipVVj"
      }
    },
    {
      "cell_type": "code",
      "source": [
        "!gemmi validate -s --verbose 1xxx.cif -d mmcif_pdbx.dic"
      ],
      "metadata": {
        "colab": {
          "base_uri": "https://localhost:8080/"
        },
        "id": "HvR0UN-NqcKF",
        "outputId": "c51fc4db-bfe2-4712-94cd-a0faa0ca913f"
      },
      "execution_count": 11,
      "outputs": [
        {
          "output_type": "stream",
          "name": "stdout",
          "text": [
            "Reading 1xxx.cif...\n",
            "      1 block(s)\n",
            "      0 frames\n",
            "    388 non-loop items:  char:100  numb:149  '.':2  '?':137\n",
            "     48 loops w/\n",
            "            531 tags:  char:237  numb:193  '.':10  '?':91\n",
            "         461196 values\n",
            "\n",
            "OK\n"
          ]
        }
      ]
    }
  ],
  "metadata": {
    "colab": {
      "provenance": [],
      "mount_file_id": "14nWf3kgWrOtLdi1HBMHJvoxpUoweQ9ag",
      "authorship_tag": "ABX9TyNs9pIUT5C278RGv7ew6GhS",
      "include_colab_link": true
    },
    "kernelspec": {
      "display_name": "Python 3",
      "name": "python3"
    },
    "language_info": {
      "name": "python"
    }
  },
  "nbformat": 4,
  "nbformat_minor": 0
}