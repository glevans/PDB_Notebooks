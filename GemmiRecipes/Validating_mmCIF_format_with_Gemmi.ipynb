{
  "cells": [
    {
      "cell_type": "markdown",
      "metadata": {
        "id": "view-in-github",
        "colab_type": "text"
      },
      "source": [
        "<a href=\"https://colab.research.google.com/github/glevans/PDB_Notebooks/blob/main/GemmiRecipes/Validating_mmCIF_format_with_Gemmi.ipynb\" target=\"_parent\"><img src=\"https://colab.research.google.com/assets/colab-badge.svg\" alt=\"Open In Colab\"/></a>"
      ]
    },
    {
      "cell_type": "markdown",
      "metadata": {
        "id": "-y5SIhJ1N1jc"
      },
      "source": [
        "## 1. Setting up Notebook"
      ]
    },
    {
      "cell_type": "markdown",
      "metadata": {
        "id": "LDq2MDHuyd0P"
      },
      "source": [
        "The below installs a software package called `gemmi` index from [PyPi](https://pypi.org/).\n",
        "\n",
        "There are a versatile set of options available from the `gemmi`  Python library.\n",
        "\n",
        "These options greatly aid when working with structural biology data."
      ]
    },
    {
      "cell_type": "code",
      "execution_count": null,
      "metadata": {
        "id": "PsYQqyqckHAs"
      },
      "outputs": [],
      "source": [
        "!pip install gemmi\n",
        "import gemmi"
      ]
    },
    {
      "cell_type": "markdown",
      "metadata": {
        "id": "nFmA7KTbyAlv"
      },
      "source": [
        "The below installation of **Gemmi-program** makes more options available.\n",
        "\n",
        "Some of these options are not available from the `gemmi` Python library.\n",
        "\n",
        "This weblink indicates options available *via* commandline\n",
        "[Gemmi-program](https://gemmi.readthedocs.io/en/latest/program.html)\n",
        "\n",
        "In this jupyter notebook we will access these additional options by using `!gemmi`.\n",
        "\n",
        "Examples using **Gemmi-program**:\n",
        "\n",
        "\n",
        "```\n",
        "# Get list of all tags for the types of data and metadata in a '.CIF' file\n",
        "!gemmi tags structure.cif >> structure_tags.txt\n",
        "```"
      ]
    },
    {
      "cell_type": "code",
      "execution_count": null,
      "metadata": {
        "id": "oIuqeEr2qfXo"
      },
      "outputs": [],
      "source": [
        "!pip install gemmi-program"
      ]
    },
    {
      "cell_type": "code",
      "source": [
        "# More useful software packages\n",
        "\n",
        "import requests\n",
        "import urllib.request\n",
        "import os"
      ],
      "metadata": {
        "id": "6a5qWQ9wtB_0"
      },
      "execution_count": null,
      "outputs": []
    },
    {
      "cell_type": "markdown",
      "source": [
        "## 2. Retrieve useful files"
      ],
      "metadata": {
        "id": "PwNU3fKHs631"
      }
    },
    {
      "cell_type": "code",
      "source": [
        "def download_file(url, save_as):\n",
        "    \"\"\"\n",
        "    Downloads the mmCIF dictionary file from the given URL and saves it locally.\n",
        "\n",
        "    Parameters:\n",
        "    - url (str): URL of the mmCIF dictionary file.\n",
        "    - save_as (str): Local filename to save the downloaded file.\n",
        "\n",
        "    Returns:\n",
        "    - str: Path to the saved file.\n",
        "    \"\"\"\n",
        "    response = requests.get(url)\n",
        "    response.raise_for_status()  # Raise an error for bad status codes\n",
        "\n",
        "    with open(save_as, 'wb') as f:\n",
        "        f.write(response.content)\n",
        "\n",
        "    print(f\"File downloaded and saved as '{save_as}'\")\n",
        "    return\n"
      ],
      "metadata": {
        "id": "3pBN8Bt2s6V5"
      },
      "execution_count": null,
      "outputs": []
    },
    {
      "cell_type": "code",
      "source": [
        "download_file(\"https://mmcif.wwpdb.org/dictionaries/ascii/mmcif_ddl.dic\", \"mmcif_ddl.dic\")\n",
        "download_file(\"https://mmcif.wwpdb.org/dictionaries/mmcif_pdbx_v50.dic/\", \"mmcif_pdbx_v50.dic\")\n",
        "download_file(\"https://www.ebi.ac.uk/pdbe/entry-files/download/1xxx.cif\", \"1xxx.cif\")"
      ],
      "metadata": {
        "id": "k0B6S9FQtbF6"
      },
      "execution_count": null,
      "outputs": []
    },
    {
      "cell_type": "code",
      "source": [
        "def download_github_file(raw_url: str, output_filename: str):\n",
        "    \"\"\"\n",
        "    Downloads a file from a GitHub raw URL and saves it locally.\n",
        "\n",
        "    Parameters:\n",
        "    - raw_url (str): The direct raw URL to the file on GitHub.\n",
        "    - output_filename (str): The name to save the downloaded file as.\n",
        "    \"\"\"\n",
        "    try:\n",
        "        urllib.request.urlretrieve(raw_url, output_filename)\n",
        "        print(f\"Downloaded and saved as '{output_filename}'.\")\n",
        "    except Exception as e:\n",
        "        print(f\"Download failed: {e}\")"
      ],
      "metadata": {
        "id": "OYqCpm9KLdLx"
      },
      "execution_count": null,
      "outputs": []
    },
    {
      "cell_type": "code",
      "source": [
        "download_github_file(\n",
        "    \"https://raw.githubusercontent.com/glevans/PDB_Notebooks/main/GemmiRecipes/mmcif_pdbx.dic\",\n",
        "    \"mmcif_pdbx.dic\")"
      ],
      "metadata": {
        "id": "dV_nNcB_NNlF"
      },
      "execution_count": null,
      "outputs": []
    },
    {
      "cell_type": "code",
      "source": [
        "# Define the original and new file names\n",
        "old_filename = \"mmcif_pdbx_v50.dic\"\n",
        "new_filename = \"mmcif_pdbx.dic\"\n",
        "\n",
        "# Check if the target file already exists\n",
        "if os.path.exists(new_filename):\n",
        "    print(f\"Target file '{new_filename}' already exists. Rename aborted.\")\n",
        "else:\n",
        "    # Attempt to rename the file\n",
        "    try:\n",
        "        os.rename(old_filename, new_filename)\n",
        "        print(f\"Renamed '{old_filename}' to '{new_filename}' successfully.\")\n",
        "    except FileNotFoundError:\n",
        "        print(f\"Source file '{old_filename}' not found.\")\n",
        "    except Exception as e:\n",
        "        print(f\"Error renaming file: {e}\")"
      ],
      "metadata": {
        "id": "D29MEz75GtQg"
      },
      "execution_count": null,
      "outputs": []
    },
    {
      "cell_type": "markdown",
      "source": [
        "## 3. Helpful insight - Gemmi validation options"
      ],
      "metadata": {
        "id": "MEeY_i_8pwQt"
      }
    },
    {
      "cell_type": "code",
      "source": [
        "!gemmi validate -help"
      ],
      "metadata": {
        "id": "p4Rws1JmVV6T"
      },
      "execution_count": null,
      "outputs": []
    },
    {
      "cell_type": "markdown",
      "source": [
        "We can validate all mmCIF dictionaries that are available at:\n",
        "[https://mmcif.wwpdb.org/](https://mmcif.wwpdb.org/)  "
      ],
      "metadata": {
        "id": "7azvBigSM53K"
      }
    },
    {
      "cell_type": "markdown",
      "source": [
        "We validate mmCIF dictionaries against a reference -- the dictionary for mmCIF dictionaries:\n",
        "\n",
        "`mmcif_ddl.dic`\n",
        "\n",
        "\n",
        "\n",
        "---\n",
        "\n",
        "\n",
        "\n",
        "[mmCIF dictionary homepage for mmCIF dictionary for dictionaries](https://mmcif.wwpdb.org/dictionaries/mmcif_ddl.dic/Index/)\n",
        "\n",
        "**The below checks the dictionary for mmCIF dictionaries against itself.**\n"
      ],
      "metadata": {
        "id": "Ziw7MXsqVW1b"
      }
    },
    {
      "cell_type": "code",
      "source": [
        "!gemmi validate -s -d mmcif_ddl.dic mmcif_investigation_v106.dic"
      ],
      "metadata": {
        "id": "mIMoWexEbBds"
      },
      "execution_count": null,
      "outputs": []
    },
    {
      "cell_type": "markdown",
      "source": [
        "Files such as the 3D coordinates of macromolecules available for download from [PDBe.org](https://www.ebi.ac.uk/pdbe/) (and other [wwPDB](https://www.wwpdb.org/) partners) should validate against the wwPDB mmCIF dictionary:\n",
        "\n",
        "`mmcif_pdbx.dic`\n",
        "\n",
        "\n",
        "\n",
        "---\n",
        "\n",
        "\n",
        "\n",
        "[mmCIF dictionary homepage for wwPDB dictionary](https://mmcif.wwpdb.org/dictionaries/mmcif_pdbx_v50.dic/Index/)\n",
        "\n"
      ],
      "metadata": {
        "id": "mTzWwMnULoAG"
      }
    },
    {
      "cell_type": "markdown",
      "source": [
        "## 4. Running Gemmi file validation against a dictionary"
      ],
      "metadata": {
        "id": "4r9twQKE4Gm8"
      }
    },
    {
      "cell_type": "markdown",
      "source": [
        "Relevant wwPDB dictionary file:\n",
        "`mmcif_pdbx.dic`\n",
        "\n",
        "Example to PDB file to test with:\n",
        "`1xxx.cif`\n",
        "\n"
      ],
      "metadata": {
        "id": "4mhLBdcipVVj"
      }
    },
    {
      "cell_type": "code",
      "source": [
        "!gemmi validate -s --verbose 1xxx.cif -d mmcif_pdbx.dic"
      ],
      "metadata": {
        "id": "HvR0UN-NqcKF"
      },
      "execution_count": null,
      "outputs": []
    }
  ],
  "metadata": {
    "colab": {
      "provenance": [],
      "include_colab_link": true
    },
    "kernelspec": {
      "display_name": "Python 3",
      "name": "python3"
    },
    "language_info": {
      "name": "python"
    }
  },
  "nbformat": 4,
  "nbformat_minor": 0
}