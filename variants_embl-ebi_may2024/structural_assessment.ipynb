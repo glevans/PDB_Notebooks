{
  "nbformat": 4,
  "nbformat_minor": 0,
  "metadata": {
    "colab": {
      "provenance": [],
      "toc_visible": true,
      "authorship_tag": "ABX9TyPO3fGLM6P2PkwdUxEUNo/p",
      "include_colab_link": true
    },
    "kernelspec": {
      "name": "python3",
      "display_name": "Python 3"
    },
    "language_info": {
      "name": "python"
    }
  },
  "cells": [
    {
      "cell_type": "markdown",
      "metadata": {
        "id": "view-in-github",
        "colab_type": "text"
      },
      "source": [
        "<a href=\"https://colab.research.google.com/github/glevans/PDBe_Notebooks/blob/main/variants_embl-ebi_may2024/structural_assessment.ipynb\" target=\"_parent\"><img src=\"https://colab.research.google.com/assets/colab-badge.svg\" alt=\"Open In Colab\"/></a>"
      ]
    },
    {
      "cell_type": "markdown",
      "source": [
        "**<H1>Structural assessment of a variant</H1>**\n",
        "**Using PDBe-KB & 3D-Beacons to gain understanding on genetic variants**\n",
        "<img src=\"https://www.ebi.ac.uk/pdbe/docs_dev/logos/images/RGB/PDBe-logo-RGB_2013.png\" height=\"300\" align=\"right\">\n",
        "\n",
        "#Welcome to this notebook form!\n",
        "\n",
        "To use this notebook in Colab (link at top of the page):\n",
        "\n",
        "*   you will need to have a Google account\n",
        "*   be logged in to Google Colab (by being logged into Google account)\n",
        "\n",
        "<br>\n",
        "\n",
        "You can also access this notebook *via* the GitHub repository:<br>\n",
        "https://github.com/PDBeurope/pdbe-notebooks/\n",
        "\n",
        "<br>"
      ],
      "metadata": {
        "id": "MEhhtOcBfwxf"
      }
    },
    {
      "cell_type": "markdown",
      "source": [
        "\n",
        "\n",
        "---\n",
        "\n",
        "  ## How to use this notebook:\n",
        "1. To run a code cell, click on the cell to select it. You will notice a play button (▶️) on the left side of the cell. Click on the play button or **press Shift+Enter** to run the code in the selected cell.\n",
        "2. The code will start executing, and you will see the output, if any, displayed below the code cell.\n",
        "3. Move to the next code cell and repeat steps 2 and 3 until you have executed all the desired code cells in sequence.\n",
        "4. The currently running step is indicated by a circle with a stop sign next to it.\n",
        "If you need to stop or interrupt the execution of a code cell, you can click on the stop button (■) located next to the play button.\n",
        "\n",
        "*Remember to run the code cells in the correct order, as their execution might depend on variables or functions defined in previous cells. You can modify the code in a code cell and re-run it to see updated results.*\n",
        "\n",
        "<br>\n",
        "\n",
        "---\n",
        "\n",
        "## Contact us\n",
        "\n",
        "If you experience any bugs please contact pdbehelp@ebi.ac.uk and put \"Help with\" and the title of the notebook in the subject line of the message.\n"
      ],
      "metadata": {
        "id": "6Mg5aemEWkiz"
      }
    },
    {
      "cell_type": "markdown",
      "source": [
        "# Amino acid details"
      ],
      "metadata": {
        "id": "V-KqJR8JFq1r"
      }
    },
    {
      "cell_type": "code",
      "execution_count": 10,
      "metadata": {
        "cellView": "form",
        "id": "WQX1WXSLuBU2",
        "colab": {
          "base_uri": "https://localhost:8080/"
        },
        "outputId": "628b5174-2126-43e8-f765-0e35881f3b6f"
      },
      "outputs": [
        {
          "output_type": "stream",
          "name": "stdout",
          "text": [
            "Requirement already satisfied: ColabTurtlePlus in /usr/local/lib/python3.10/dist-packages (2.0.1)\n",
            "Succesfully installed!\n"
          ]
        }
      ],
      "source": [
        "# @title Amino acid change\n",
        "# @markdown\n",
        "# @markdown Not all genetic variants resulted in an amino acid change, but here we will be focusing the genetic variants that cause an amino acid change.\n",
        "# @markdown\n",
        "# @markdown We will be contrasting the amino acid present in the genetic variant, with the canonical amino acid.\n",
        "# @markdown The canonical amino acid is the one most commonly observed at this particular position in the protein sequence.\n",
        "# @markdown\n",
        "# @markdown ---\n",
        "# @markdown For the variant, what was the canonical amino acid?\n",
        "Canonical_Amino_Acid = 'LEU' # @param ['Select the amino acid', 'GLY', 'ALA', 'VAL', 'LEU', 'ILE', 'THR', 'SER', 'MET', 'CYS', 'PRO', 'PHE', 'TYR', 'TRP', 'HIS', 'LYS', 'ARG', 'ASP', 'GLU', 'ASN', 'GLN']\n",
        "# @markdown ---\n",
        "# @markdown For the variant, what was its position in the amino acid sequence (in UniProt numbering)?\n",
        "Variant_Position = 435 # @param {type:\"number\"}\n",
        "# @markdown ---\n",
        "# @markdown For the variant, what was the amino acid changed to by the genetic variant?\n",
        "New_Amino_Acid = 'PHE' # @param ['Select the amino acid', 'GLY', 'ALA', 'VAL', 'LEU', 'ILE', 'THR', 'SER', 'MET', 'CYS', 'PRO', 'PHE', 'TYR', 'TRP', 'HIS', 'LYS', 'ARG', 'ASP', 'GLU', 'ASN', 'GLN']\n",
        "# @markdown ---\n",
        "\n",
        "!pip install ColabTurtlePlus\n",
        "from ColabTurtlePlus.Turtle import *\n",
        "\n",
        "print(\"Succesfully installed!\")\n",
        "\n",
        "####### COLOURS\n",
        "#defining colour variables based on amino acids identity\n",
        "\n",
        "if Canonical_Amino_Acid == 'CYS' or Canonical_Amino_Acid == 'PRO' or Canonical_Amino_Acid == 'GLY':\n",
        "    colour1 = '#cccc00'\n",
        "elif Canonical_Amino_Acid == 'SER' or Canonical_Amino_Acid == 'THR' or Canonical_Amino_Acid == 'ASN' or Canonical_Amino_Acid == 'GLN':\n",
        "    colour1 = '#cc99ff'\n",
        "elif Canonical_Amino_Acid == 'ARG' or Canonical_Amino_Acid == 'HIS' or Canonical_Amino_Acid == 'LYS' or Canonical_Amino_Acid == 'ASP' or Canonical_Amino_Acid == 'GLU':\n",
        "    colour1 = '#9999ff'\n",
        "elif Canonical_Amino_Acid == 'ALA' or Canonical_Amino_Acid == 'VAL' or Canonical_Amino_Acid == 'ILE' or Canonical_Amino_Acid == 'LEU':\n",
        "    colour1 = '#99ff66'\n",
        "elif Canonical_Amino_Acid == 'MET' or Canonical_Amino_Acid == 'PHE' or Canonical_Amino_Acid == 'TYR' or Canonical_Amino_Acid == 'TRP':\n",
        "    colour1 = '#99ff66'\n",
        "else:\n",
        "    colour1 = '#b3b3b3'\n",
        "\n",
        "if New_Amino_Acid == 'CYS' or New_Amino_Acid == 'PRO' or New_Amino_Acid == 'GLY':\n",
        "    colour2 = '#cccc00'\n",
        "elif New_Amino_Acid == 'SER' or New_Amino_Acid == 'THR' or New_Amino_Acid == 'ASN' or New_Amino_Acid == 'GLN':\n",
        "    colour2 = '#cc99ff'\n",
        "elif New_Amino_Acid == 'ARG' or New_Amino_Acid == 'HIS' or New_Amino_Acid == 'LYS' or New_Amino_Acid == 'ASP' or New_Amino_Acid == 'GLU':\n",
        "    colour2 = '#9999ff'\n",
        "elif New_Amino_Acid == 'ALA' or New_Amino_Acid == 'VAL' or New_Amino_Acid == 'ILE' or New_Amino_Acid == 'LEU':\n",
        "    colour2 = '#99ff66'\n",
        "elif New_Amino_Acid == 'MET' or New_Amino_Acid == 'PHE' or New_Amino_Acid == 'TYR' or New_Amino_Acid == 'TRP':\n",
        "    colour2 = '#99ff66'\n",
        "else:\n",
        "    colour2 = '#b3b3b3'\n",
        "\n",
        "if Canonical_Amino_Acid == 'CYS' or Canonical_Amino_Acid == 'ASP' or Canonical_Amino_Acid == 'GLU' or Canonical_Amino_Acid == 'THR':\n",
        "    colour3 = 'red'\n",
        "elif Canonical_Amino_Acid == 'SER' or Canonical_Amino_Acid == 'TYR':\n",
        "    colour3 = '#ff6666'\n",
        "elif Canonical_Amino_Acid == 'ARG' or Canonical_Amino_Acid == 'LYS':\n",
        "    colour3 = 'blue'\n",
        "elif  Canonical_Amino_Acid == 'HIS' or Canonical_Amino_Acid == 'TRP' or Canonical_Amino_Acid == 'ASN' or Canonical_Amino_Acid == 'GLN':\n",
        "    colour3 = '#6699ff'\n",
        "elif Canonical_Amino_Acid == 'ALA' or Canonical_Amino_Acid == 'VAL' or Canonical_Amino_Acid == 'ILE' or Canonical_Amino_Acid == 'LEU':\n",
        "    colour3 = '#b3b3b3'\n",
        "elif Canonical_Amino_Acid == 'MET' or Canonical_Amino_Acid == 'PHE' or Canonical_Amino_Acid == 'PRO':\n",
        "    colour3 = '#b3b3b3'\n",
        "else:\n",
        "    colour3 = '#b3b3b3'\n",
        "\n",
        "if New_Amino_Acid == 'CYS' or New_Amino_Acid == 'ASP' or New_Amino_Acid == 'GLU' or New_Amino_Acid == 'THR':\n",
        "    colour4 = 'red'\n",
        "elif New_Amino_Acid == 'SER' or New_Amino_Acid == 'TYR':\n",
        "    colour4 = '#ff6666'\n",
        "elif New_Amino_Acid == 'ARG' or New_Amino_Acid == 'LYS':\n",
        "    colour4 = 'blue'\n",
        "elif  New_Amino_Acid == 'HIS' or New_Amino_Acid == 'TRP' or New_Amino_Acid == 'ASN' or New_Amino_Acid == 'GLN':\n",
        "    colour4 = '#6699ff'\n",
        "elif New_Amino_Acid == 'ALA' or New_Amino_Acid == 'VAL' or New_Amino_Acid == 'ILE' or New_Amino_Acid == 'LEU':\n",
        "    colour4 = '#b3b3b3'\n",
        "elif New_Amino_Acid == 'MET' or New_Amino_Acid == 'PHE' or New_Amino_Acid == 'PRO':\n",
        "    colour4 = '#b3b3b3'\n",
        "else:\n",
        "    colour4 = '#b3b3b3'"
      ]
    },
    {
      "cell_type": "markdown",
      "source": [
        "## Amino acid table\n",
        "\n",
        "<img src=\"https://upload.wikimedia.org/wikipedia/commons/4/4f/ProteinogenicAminoAcids.svg\" height=\"700\" align=\"center\">"
      ],
      "metadata": {
        "id": "abDv79_773fd"
      }
    },
    {
      "cell_type": "markdown",
      "source": [
        "The side chains on amino acids can be classed as follows:\n",
        "\n",
        "* **<font color='#9999ff'> Polar charged side chains </font>** (hydrophilic)\n",
        "* **<font color='#cc99ff'> Polar uncharged side chains </font>** (hydrophilic)\n",
        "* **<font color='#99ff66'> Hydrophobic & aliphatic side chains </font>** (hydrophobic)\n",
        "* **<font color='#99ff66'> Hydrophobic & aromatic side chains </font>** (hydrophobic)\n",
        "* **<font color='#cccc00'> Special case side chains </font>**\n",
        "\n",
        "The below colour contrast shows if the variant changes hydrophobicity:"
      ],
      "metadata": {
        "id": "HJBBsOD5BfWw"
      }
    },
    {
      "cell_type": "code",
      "source": [
        "# @title Hydrophobic *vs.* Hydrophilic\n",
        "# @markdown ---\n",
        "# @markdown\n",
        "\n",
        "clearscreen()\n",
        "setup(500,125)\n",
        "T = Turtle()\n",
        "T.color(colour1)\n",
        "T.speed(15)\n",
        "S = T.clone()\n",
        "S.color(colour2)\n",
        "T.jumpto(-150,50)\n",
        "S.jumpto(25,50)\n",
        "T.begin_fill()\n",
        "S.begin_fill()\n",
        "T.circle(-50)\n",
        "S.circle(-50)\n",
        "T.end_fill()\n",
        "S.end_fill()"
      ],
      "metadata": {
        "colab": {
          "base_uri": "https://localhost:8080/",
          "height": 165
        },
        "cellView": "form",
        "id": "BfMKz-505urS",
        "outputId": "72bf14ca-4a57-4458-9053-8d5f43381a71"
      },
      "execution_count": 11,
      "outputs": [
        {
          "output_type": "display_data",
          "data": {
            "text/plain": [
              "<IPython.core.display.HTML object>"
            ],
            "text/html": [
              "\n",
              "      <svg width=\"500\" height=\"125\">  \n",
              "        <rect width=\"100%\" height=\"100%\" style=\"fill:white;stroke:;stroke-width:1\"/>\n",
              "        \n",
              "        \n",
              "        <path fill-rule=\"evenodd\" fill-opacity=\"1\" d=\"M 100.0 12.5  A -50 -50 0 0 1 100.0 112.5  A -50 -50 0 0 1 100.0 12.5 \" stroke-linecap=\"round\" style=\"stroke:#99ff66;stroke-width:1\" fill=\"#99ff66\" /><path fill-rule=\"evenodd\" fill-opacity=\"1\" d=\"M 275.0 12.5  A -50 -50 0 0 1 275.0 112.5  A -50 -50 0 0 1 275.0 12.5 \" stroke-linecap=\"round\" style=\"stroke:#99ff66;stroke-width:1\" fill=\"#99ff66\" />\n",
              "        \n",
              "        \n",
              "        <g id=\"classic\" visibility=\"visible\" transform=\"rotate(-90.0,100.0,12.5) translate(100.0, 12.5)\">\n",
              "<polygon points=\"-5,-4.5 0,-2.5 5,-4.5 0,4.5\" transform=\"skewX(0) scale(1,1)\" style=\"stroke:#99ff66;fill:#99ff66;stroke-width:1\" />\n",
              "</g><g id=\"classic\" visibility=\"visible\" transform=\"rotate(-90.0,275.0,12.5) translate(275.0, 12.5)\">\n",
              "<polygon points=\"-5,-4.5 0,-2.5 5,-4.5 0,4.5\" transform=\"skewX(0.0) scale(1,1)\" style=\"stroke:#99ff66;fill:#99ff66;stroke-width:1\" />\n",
              "</g>\n",
              "      </svg>\n",
              "    "
            ]
          },
          "metadata": {}
        }
      ]
    },
    {
      "cell_type": "markdown",
      "source": [
        "The below colour contrast shows if the variant changes the charge / polarity of the side chain:\n",
        "<br>\n",
        "\n",
        "<font color='blue'> **basic**</font> (positively charged) --> <font color='#6699ff'> **weakly basic**</font> (uncharged but polar) -->\n",
        "<br>**neutral** --> <font color='#ff6666'> **weakly acidic**</font> (uncharged but polar) --> <font color='red'> **acidic**</font> (negatively charged)\n",
        "<br>\n",
        "<br>\n",
        "<font color='red'> **acidic**</font> (negatively charged) --> <font color='#ff6666'> **weakly acidic**</font> (uncharged but polar) -->\n",
        "<br>**neutral** --> <font color='#6699ff'> **weakly basic**</font> (uncharged but polar) --> <font color='blue'> **basic**</font> (positively charged) -->"
      ],
      "metadata": {
        "id": "w9ZjipAQMkj7"
      }
    },
    {
      "cell_type": "code",
      "source": [
        "# @title Acidic *vs.* Basic\n",
        "# @markdown ---\n",
        "# @markdown\n",
        "\n",
        "clearscreen()\n",
        "setup(500,125)\n",
        "T = Turtle()\n",
        "T.color(colour3)\n",
        "T.speed(15)\n",
        "S = T.clone()\n",
        "S.color(colour4)\n",
        "T.jumpto(-150,50)\n",
        "S.jumpto(25,50)\n",
        "T.begin_fill()\n",
        "S.begin_fill()\n",
        "T.circle(-50)\n",
        "S.circle(-50)\n",
        "T.end_fill()\n",
        "S.end_fill()"
      ],
      "metadata": {
        "colab": {
          "base_uri": "https://localhost:8080/",
          "height": 165
        },
        "cellView": "form",
        "id": "MRK488g6OgZ6",
        "outputId": "1611cee3-69ed-456d-8ea1-5c4387987454"
      },
      "execution_count": 12,
      "outputs": [
        {
          "output_type": "display_data",
          "data": {
            "text/plain": [
              "<IPython.core.display.HTML object>"
            ],
            "text/html": [
              "\n",
              "      <svg width=\"500\" height=\"125\">  \n",
              "        <rect width=\"100%\" height=\"100%\" style=\"fill:white;stroke:;stroke-width:1\"/>\n",
              "        \n",
              "        \n",
              "        <path fill-rule=\"evenodd\" fill-opacity=\"1\" d=\"M 100.0 12.5  A -50 -50 0 0 1 100.0 112.5  A -50 -50 0 0 1 100.0 12.5 \" stroke-linecap=\"round\" style=\"stroke:#b3b3b3;stroke-width:1\" fill=\"#b3b3b3\" /><path fill-rule=\"evenodd\" fill-opacity=\"1\" d=\"M 275.0 12.5  A -50 -50 0 0 1 275.0 112.5  A -50 -50 0 0 1 275.0 12.5 \" stroke-linecap=\"round\" style=\"stroke:#b3b3b3;stroke-width:1\" fill=\"#b3b3b3\" />\n",
              "        \n",
              "        \n",
              "        <g id=\"classic\" visibility=\"visible\" transform=\"rotate(-90.0,100.0,12.5) translate(100.0, 12.5)\">\n",
              "<polygon points=\"-5,-4.5 0,-2.5 5,-4.5 0,4.5\" transform=\"skewX(0) scale(1,1)\" style=\"stroke:#b3b3b3;fill:#b3b3b3;stroke-width:1\" />\n",
              "</g><g id=\"classic\" visibility=\"visible\" transform=\"rotate(-90.0,275.0,12.5) translate(275.0, 12.5)\">\n",
              "<polygon points=\"-5,-4.5 0,-2.5 5,-4.5 0,4.5\" transform=\"skewX(0.0) scale(1,1)\" style=\"stroke:#b3b3b3;fill:#b3b3b3;stroke-width:1\" />\n",
              "</g>\n",
              "      </svg>\n",
              "    "
            ]
          },
          "metadata": {}
        }
      ]
    },
    {
      "cell_type": "markdown",
      "source": [
        "The below show if the variant changes the size of the side chain:\n",
        "<br>(with basic vs acidic colouring)."
      ],
      "metadata": {
        "id": "7VebV338YIX-"
      }
    },
    {
      "cell_type": "code",
      "source": [
        "# @title Tiny *vs.* Small *vs.* Big\n",
        "# @markdown ---\n",
        "# @markdown\n",
        "\n",
        "clearscreen()\n",
        "setup(500,250)\n",
        "T = Turtle()\n",
        "T.color(colour3)\n",
        "T.speed(15)\n",
        "S = T.clone()\n",
        "S.color(colour4)\n",
        "T.jumpto(-150,50)\n",
        "S.jumpto(25,50)\n",
        "T.begin_fill()\n",
        "S.begin_fill()\n",
        "\n",
        "if Canonical_Amino_Acid == 'ALA' or Canonical_Amino_Acid == 'GLY' or Canonical_Amino_Acid == 'SER':\n",
        "    T.circle(-20)\n",
        "elif Canonical_Amino_Acid == 'ASP' or Canonical_Amino_Acid == 'ASN' or Canonical_Amino_Acid == 'THR' or Canonical_Amino_Acid == 'VAL' or Canonical_Amino_Acid == 'PRO':\n",
        "    T.circle(-30)\n",
        "elif Canonical_Amino_Acid == 'ARG' or Canonical_Amino_Acid == 'HIS' or Canonical_Amino_Acid == 'PHE' or Canonical_Amino_Acid == 'TRP' or Canonical_Amino_Acid == 'TYR':\n",
        "    T.circle(-75)\n",
        "else:\n",
        "    T.circle(-50)\n",
        "\n",
        "if New_Amino_Acid == 'ALA' or New_Amino_Acid == 'GLY' or New_Amino_Acid == 'SER':\n",
        "    S.circle(-20)\n",
        "elif New_Amino_Acid == 'ASP' or New_Amino_Acid == 'ASN' or New_Amino_Acid == 'THR' or New_Amino_Acid == 'VAL' or New_Amino_Acid == 'PRO':\n",
        "    S.circle(-30)\n",
        "elif New_Amino_Acid == 'ARG' or New_Amino_Acid == 'HIS' or New_Amino_Acid == 'PHE' or New_Amino_Acid == 'TRP' or New_Amino_Acid == 'TYR':\n",
        "    S.circle(-75)\n",
        "else:\n",
        "    S.circle(-50)\n",
        "\n",
        "T.end_fill()\n",
        "S.end_fill()"
      ],
      "metadata": {
        "colab": {
          "base_uri": "https://localhost:8080/",
          "height": 290
        },
        "cellView": "form",
        "id": "6DO8jooRYHZv",
        "outputId": "1e3e69f6-45a0-4bc0-9da4-1a4e3657b56a"
      },
      "execution_count": 13,
      "outputs": [
        {
          "output_type": "display_data",
          "data": {
            "text/plain": [
              "<IPython.core.display.HTML object>"
            ],
            "text/html": [
              "\n",
              "      <svg width=\"500\" height=\"250\">  \n",
              "        <rect width=\"100%\" height=\"100%\" style=\"fill:white;stroke:;stroke-width:1\"/>\n",
              "        \n",
              "        \n",
              "        <path fill-rule=\"evenodd\" fill-opacity=\"1\" d=\"M 100.0 75.0  A -50 -50 0 0 1 100.0 175.0  A -50 -50 0 0 1 100.0 75.0 \" stroke-linecap=\"round\" style=\"stroke:#b3b3b3;stroke-width:1\" fill=\"#b3b3b3\" /><path fill-rule=\"evenodd\" fill-opacity=\"1\" d=\"M 275.0 75.0  A -75 -75 0 0 1 275.0 225.0  A -75 -75 0 0 1 275.0 75.0 \" stroke-linecap=\"round\" style=\"stroke:#b3b3b3;stroke-width:1\" fill=\"#b3b3b3\" />\n",
              "        \n",
              "        \n",
              "        <g id=\"classic\" visibility=\"visible\" transform=\"rotate(-90.0,100.0,75.0) translate(100.0, 75.0)\">\n",
              "<polygon points=\"-5,-4.5 0,-2.5 5,-4.5 0,4.5\" transform=\"skewX(0) scale(1,1)\" style=\"stroke:#b3b3b3;fill:#b3b3b3;stroke-width:1\" />\n",
              "</g><g id=\"classic\" visibility=\"visible\" transform=\"rotate(-90.0,275.0,75.0) translate(275.0, 75.0)\">\n",
              "<polygon points=\"-5,-4.5 0,-2.5 5,-4.5 0,4.5\" transform=\"skewX(0.0) scale(1,1)\" style=\"stroke:#b3b3b3;fill:#b3b3b3;stroke-width:1\" />\n",
              "</g>\n",
              "      </svg>\n",
              "    "
            ]
          },
          "metadata": {}
        }
      ]
    },
    {
      "cell_type": "markdown",
      "source": [
        "## BLOSUM62 Matrix\n",
        "<img src=\"https://upload.wikimedia.org/wikipedia/commons/f/f5/Blosum62-dayhoff-ordering.svg\" height=\"500\" align=\"right\">\n",
        "\n",
        "The BLOSUM62 (BLOcks SUbstitution Matrix) is a substitution matrix that can be used in alignment of protein sequences (*e.g.* [BLASTp](https://blast.ncbi.nlm.nih.gov/Blast.cgi?PROGRAM=blastp&PAGE_TYPE=BlastSearch&LINK_LOC=blasthome) and [UniProt's BLAST](https://www.uniprot.org/blast)). It was generated from analysis of many protein sequences.\n",
        "\n",
        "<br>\n",
        "\n",
        "Positive values indicate frequent exchanges between amino acid pairs during evolution, negative values indicate amino acid pairs that rarely replace each other. The colouring in the image of BLOSUM62 is from Margaret Dayhoff's amino acid classification. Together these highlight that amino acids can be clustered in terms of more and less similar.\n",
        "\n",
        "<br>\n",
        "\n",
        "For an overview of the development of BLOSUM, click [here](https://en.wikipedia.org/wiki/BLOSUM)<br>\n",
        "\n",
        "<br>\n",
        "\n",
        "\n"
      ],
      "metadata": {
        "id": "6PJIwLTRUiSt"
      }
    },
    {
      "cell_type": "markdown",
      "source": [
        "## **Table of Margaret Dayhoff's encoding of amino acids**\n",
        "\n",
        "|                     Amino acids                      | 1-letter code  |      3-letter code       |        Property        | Dayhoff  |\n",
        "|:----------------------------------------------------:|:--------------:|:------------------------:|:----------------------:|:--------:|\n",
        "| Cysteine                                             | C              | Cys                      | Sulfur polymerization  | a        |\n",
        "| Glycine, Serine, Threonine, Alanine, Proline         | G, S, T, A, P  | Gly, Ser, Thr, Ala, Pro  | Small                  | b        |\n",
        "| Aspartic acid, Glutamic acid, Asparagine, Glutamine  | D, E, N, Q     | Asp, Glu, Asn, Gln       | Acid and amide         | c        |\n",
        "| Arginine, Histidine, Lysine                          | R, H, K        | Arg, His, Lys            | Basic                  | d        |\n",
        "| Leucine, Valine, Methionine, Isoleucine              | L, V, M, I     | Leu, Val, Met, Ile       | Hydrophobic            | e        |\n",
        "| Tyrosine, Phenylalanine, Tryptophan                  | Y, F, W        | Tyr, Phe, Trp            | Aromatic               | f        |"
      ],
      "metadata": {
        "id": "0H9dVT5JB-_E"
      }
    },
    {
      "cell_type": "code",
      "source": [
        "# @title Questions\n",
        "# @markdown\n",
        "# @markdown\n",
        "# @markdown ---\n",
        "# @markdown What is the BLOSUM62 value for the substitution?\n",
        "BLOSUM62_value = 0 # @param {type:\"number\"}\n",
        "# @markdown ---\n",
        "# @markdown If the canonical and variant amino acid are in the same Dayhoff group, which one?\n",
        "Dayhoff_group = 'Not_same_group' # @param [\"Not_same_group\", \"Sulfur_polymerization\",\"Small\", \"Acid_and_amide\", \"Basic\", \"Hydrophobic\", \"Aromatic\"]\n",
        "# @markdown ---"
      ],
      "metadata": {
        "cellView": "form",
        "id": "0PdWwk7J_Zsw"
      },
      "execution_count": null,
      "outputs": []
    },
    {
      "cell_type": "markdown",
      "source": [
        "# 3D structures\n",
        "\n",
        "There are various ways to obtain the below information, including a [Structures Available Notebook](https://colab.research.google.com/github/PDBeurope/pdbe-notebooks/blob/main/variants_embl-ebi_may2024/structures_available.ipynb) we have developed for this purpose. Alternatively, a combination of quering and examining the webpages with [3D Beacons](https://www.ebi.ac.uk/pdbe/pdbe-kb/3dbeacons/) and [PDBe-KB](https://www.ebi.ac.uk/pdbe/pdbe-kb/) pages should enable the information to be obtained."
      ],
      "metadata": {
        "id": "uMKTDiW8GAJT"
      }
    },
    {
      "cell_type": "code",
      "source": [
        "# @title Structural data availablity\n",
        "\n",
        "UniProt_ID = 'P49768' # @param {type:\"string\"}\n",
        "# @markdown ---\n",
        "# @markdown Are any experimentally determined structures available?\n",
        "EXPERIMENTALLY_DETERMINED_STRUCTURES = 'Yes' # @param [\"Input Answer\",\"Yes\", \"No\"]\n",
        "# @markdown ---\n",
        "# @markdown How many strutures (both predicted experimentally-determined) are available for the UniProt ID? <br> HINT: Use **3D-Beacons** query\n",
        "No_of_all_available = 26 # @param {type:\"number\"}\n",
        "# @markdown ---\n",
        "# @markdown How many experimentally-determined structures (with PDB ids) are available for the UniProt ID? <br> HINT: Use either **3D-Beacons** or **PDBe-KB**\n",
        "No_of_exp_available = 18 # @param {type:\"number\"}\n",
        "# @markdown ---\n",
        "# @markdown Are any experimentally-determined structures (with PDB ids) available where the variant is present? <br> HINT use **PDBe-KB**\n",
        "VARIANT_STRUCTURE = 'No' # @param [\"Input Answer\",\"Yes\", \"No\"]\n",
        "# @markdown ---\n",
        "\n",
        "print(f\"There are {No_of_all_available} structures (predicted and experimentally determined) available associated with UniProt ID {UniProt_ID}.\")\n",
        "print(f\"There are {No_of_exp_available} experimentally-determined structures associated with UniProt ID {UniProt_ID}.\")\n",
        "if VARIANT_STRUCTURE == 'No':\n",
        "    print(f\"There are NO experimentally-determined structure available that contain {New_Amino_Acid} at {Variant_Position} instead of {Canonical_Amino_Acid}.\")\n",
        "else:\n",
        "    print(f\"There are experimentally-determined structure available that contain {New_Amino_Acid} at {Variant_Position} instead of {Canonical_Amino_Acid}.\")"
      ],
      "metadata": {
        "cellView": "form",
        "id": "MSrIzGLAhOOc",
        "colab": {
          "base_uri": "https://localhost:8080/"
        },
        "outputId": "8e2997d6-8eae-4edb-e452-dcae9f0703e9"
      },
      "execution_count": 22,
      "outputs": [
        {
          "output_type": "stream",
          "name": "stdout",
          "text": [
            "There are 26 structures (predicted and experimentally determined) available associated with UniProt ID P49768.\n",
            "There are 18 experimentally-determined structures associated with UniProt ID P49768.\n",
            "There are NO experimentally-determined structure available that contain PHE at 435 instead of LEU.\n"
          ]
        }
      ]
    },
    {
      "cell_type": "markdown",
      "source": [
        "# Local structural environment of the variant position"
      ],
      "metadata": {
        "id": "WTDelvgecjFc"
      }
    },
    {
      "cell_type": "markdown",
      "source": [
        "## **Buried?**\n",
        "\n",
        "<img src=\"https://upload.wikimedia.org/wikipedia/commons/c/c5/Protein_folding_schematic.png\" height=\"500\" align=\"right\">\n",
        "\n",
        "<p>Amino acids can be positioned at the protein surface, or buried inside a structural fold.</p>\n",
        "\n",
        "<br>\n",
        "<p>Often hydrophobic ('water-hating') amino acids are buried, and hydrophilic ('water-loving') amino acids are on the protein surface. The image on the right shows almost all hydrophobic residues (black) buried and all hydrophilic residues (white) on the surface. This is a simplification because in most structures a mixture of amino acid types are observed buried within the structural fold. However, the buried hydrophilic residues tend to have amino acid partners that are forming complimentary interactions (salt-bridges, hydrogen bonds, etc).\n",
        "</p>\n",
        "\n",
        "<br>\n",
        "<p>If an amino acid appears at the surface when considering a single protein chain, it may actually be buried by protein-protein interactions when considering a higher level complex. For example between protein chains within a protein, or by a protein partner that forms a temporary complex with another protein or protein(s) for a specific purpose.</p>\n",
        "\n",
        "<br>\n",
        "<p>We will first only be considering the amino acid at the variant position within the context of a single protein chain.\n",
        "</p>"
      ],
      "metadata": {
        "id": "MVQ4_xq20W6l"
      }
    },
    {
      "cell_type": "code",
      "source": [
        "# @title Question\n",
        "# @markdown\n",
        "# @markdown\n",
        "# @markdown ---\n",
        "# @markdown Where is the amino acid with respect to the rest of the protein chain?\n",
        "FOUND_AT = 'Input Answer' # @param [\"Input Answer\",\"Protein_surface\", \"Buried_site\",\"Unclear\"]\n",
        "# @markdown HINT: Use structural superpositions on **PDBe-KB** Structures page and/or view a protein structure / structure(s) using mol* to aid analysis\n",
        "# @markdown\n",
        "# @markdown ---"
      ],
      "metadata": {
        "cellView": "form",
        "id": "0ljyJfqt0VKl"
      },
      "execution_count": 15,
      "outputs": []
    },
    {
      "cell_type": "markdown",
      "source": [
        "## Salt bridges & hydrogen bonds\n",
        "<img src=\"https://upload.wikimedia.org/wikipedia/commons/b/b4/Next_Revisit_Glutamic_Acid_Lysine_salt_bridge.png\" height=\"300\" align=\"right\">\n",
        "\n",
        "A key feature contributing to protein folding and protein stability are hydrogen bonds and salt bridges. A salt bridge is a combination of hydrogen bonding and ionic bonding.\n",
        "\n",
        "<br>\n",
        "\n",
        "The most common amino acid pairs involved in a salt bridge:\n",
        "\n",
        "*  ASP - LYS\n",
        "*  ASP - ARG\n",
        "*  GLU - LYS\n",
        "*  GLU - ARG\n",
        "\n",
        "<br>\n",
        "\n",
        "If an acidic or basic amino acid is buried within a structural fold, it is typically forming either a salt bridge or hydrogen bonds with another amino acid.\n"
      ],
      "metadata": {
        "id": "ZzyyJytjBTty"
      }
    },
    {
      "cell_type": "code",
      "source": [
        "# @title Question\n",
        "# @markdown\n",
        "# @markdown\n",
        "# @markdown ---\n",
        "# @markdown If the amino acid is basic or acidic, as well as buried, <br> is there an amino acid partner that can be identified?\n",
        "ACIDIC_or_BASIC_PARTNER = 'Canonical_aa_not_acidic_or_basic' # @param [\"Yes\", \"No\",\"Unclear\",\"Canonical_aa_not_acidic_or_basic\"]\n",
        "# @markdown HINT: Use structural superpositions on **PDBe-KB** Structures page and/or view a protein structure / structure(s) using mol* to aid analysis\n",
        "# @markdown\n",
        "# @markdown ---"
      ],
      "metadata": {
        "cellView": "form",
        "id": "GfL0alHB1CBv"
      },
      "execution_count": 16,
      "outputs": []
    },
    {
      "cell_type": "markdown",
      "source": [
        "## **Secondary structure**\n",
        "\n",
        "The most common secondary structure elements are $\\beta$-sheets and $\\alpha$-helices.\n",
        "\n",
        "As shown in the image below, the formation of these features involves hydrogen bonds (black dashes). The hydrogen bond network in $\\beta$-sheets or  $\\alpha$-helices involves mostly the backbone of amino acids (aka NOT the side chain that changes between amino acids and changes if a genetic variant results in a new amino acid within the protein sequence). Thus, the variant should not directly impact the hydrogen bonding network, but rather the secondary structure will be indirectly impacted when the new amino acid is repositioned with respect to adjacent amino acids because it cannot be accommodated at the same position in the same way as the canonical amino acid. The exception is proline, where the backbone is fused with the side chain, so has special behaviour, if it is being replaced or being introduced by a genetic variant.\n",
        "\n",
        "<br>\n",
        "\n",
        "<img src=\"https://upload.wikimedia.org/wikipedia/commons/c/c5/Alpha_beta_structure_(full).png\" height=\"400\" align=\"center\">\n"
      ],
      "metadata": {
        "id": "YSZjjATKeMua"
      }
    },
    {
      "cell_type": "code",
      "source": [
        "# @title Questions\n",
        "# @markdown\n",
        "# @markdown\n",
        "# @markdown HINT: The following subsection can be aided by the **PDBe-KB** Structures page, especially the protein sequence view.\n",
        "# @markdown\n",
        "# @markdown ---\n",
        "# @markdown What is the secondary structure where the variant occurs?\n",
        "# @markdown <br> Selecting **LOOP** indicates NO secondary structure element is present.\n",
        "SECONDARY_STRUCTURE = 'SHEET' # @param [\"Input Answer\",\"HELIX\", \"SHEET\", \"LOOP\"]\n",
        "# @markdown ---\n",
        "# @markdown If the answer is **LOOP**, <br> is there a secondary structure element starting or ending in the position directly adjacent to where the variant occurs?\n",
        "Adjacent_has_SS = 'Yes' # @param [\"Input Answer\",\"Yes\", \"No\"]\n",
        "# @markdown ---\n",
        "# @markdown If the answer to the above is **Yes**, <br> what is the a secondary structure element starting or ending in the adjacent residues to the variant position in the protein sequence?\n",
        "ADJACENT_SECONDARY_STRUCTURE = 'SHEET' # @param [\"Input Answer\",\"HELIX\", \"SHEET\", \"LOOP\"]\n",
        "# @markdown ---\n",
        "# @markdown Is it likely that the mutation disrupts the secondary structure?\n",
        "LIKELY_DISRUPTING_SS= 'Maybe' # @param [\"Input Answer\",\"Yes\", \"No\", \"Maybe\"]\n",
        "# @markdown <br>\n",
        "# @markdown Some examples that would distupt secondary structure are:\n",
        "# @markdown\n",
        "# @markdown   *  any changes that involve a proline\n",
        "# @markdown   *  original amino acid is small and new amino acid is large\n",
        "# @markdown   *  *potentially, but not always:* amino acid acidic / basic changing charge thus no longer position to form salt-bridge or hydrogen bonds with appropriate amino acid partner(s).\n",
        "\n",
        "# @markdown ---\n",
        "# @markdown\n",
        "# @markdown It should be noted that disrupting secondary structure will NOT necessarily impact on protein function.\n"
      ],
      "metadata": {
        "cellView": "form",
        "id": "1IPCB6GddG62"
      },
      "execution_count": 17,
      "outputs": []
    },
    {
      "cell_type": "markdown",
      "source": [
        "## **Protein domains**\n",
        "\n",
        "<H3>A protein domain can be thought of a combination of secondary elements, folded in a compact manner, that is found amongst diverse proteins (<i>i.e.</i> in proteins with different functions or from different organisms). It is typically thought to be a section of protein sequence which folds independently of other sections when the protein is being generated.</H3>\n",
        "\n",
        "<p>However, it is not necessary that that a protein's function (<i>e.g.</i> enzyme's active site) is not found within a single domain, as it may be at the interface between two domains. Thus a 'feature' / 'functional unit' highlighted on UniProt pages may or may not correspond to a protein domain.</p>\n",
        "\n",
        "Protein domains have generally been defined / understood in the context of multiple sequences and structural comparisons such as that available from databases like [InterPro](https://www.ebi.ac.uk/interpro/), [Pfam](http://pfam.xfam.org/), [SCOPe](https://scop.berkeley.edu/), SCOP, [CATH](https://www.cathdb.info/), etc). Protein classifications / families / superfamilies as defined by these resources reflect analysis of molecular evolution (comparison of diverse proteins' sequence and/or structure), but may be more focused on protein function, rather than shared structural and sequence features between a diverse set of proteins. For example, a Pfam annotation, focused on function, may corresponds to two or more domains, found with comparison of diverse proteins, as defined in SCOPe, SCOP or CATH. A quick overview of the type of classification / analysis performed by these databases is available [here](https://www.ebi.ac.uk/interpro/about/interpro/)<br>\n",
        "\n",
        "<br>\n",
        "\n",
        "---\n",
        "\n",
        "<p>Investigating domains and finding related proteins with the same / similar domains may be an avenue of further analysis if no rationale can be developed to understand why the variant causes disease after answering all the questions in this guide. Additionally, if this guide reveals a rationale for understanding why a variant causes disease, related proteins may provide further evidence or insight to support the answer.</p>\n",
        "\n",
        "---"
      ],
      "metadata": {
        "id": "Qh16G240BUL9"
      }
    },
    {
      "cell_type": "markdown",
      "source": [
        "A valuable tool for evaluating structures is the **Predicted aligned error (PAE)** plots associated with predicted protein structures, such as those available from the [AlphaFold database](https://alphafold.ebi.ac.uk/). The **PAE** plot is a relationship matrix that indicates confidence with respect to two amino acids positions relative to each other.\n",
        "\n",
        "<p>Thus, perhaps unsurprisingly, blocks of green, showing confidence in the prediction for the relative position of amino acids to each other often correlates with protein domains, but not always. That is, sometimes a block of green corresponds to two or more domains.</p>\n",
        "\n",
        "<br>\n",
        "\n",
        "---\n",
        "\n",
        "One example of this type of occurence (two domains corresponding to one green square in a **PAE** plot) is pyruvate kinase PKM.<br>\n",
        "To explore this further:<br>\n",
        "[PDBe-KB page for pyruvate kinase PKM](https://www.ebi.ac.uk/pdbe/pdbe-kb/proteins/P14618)\n",
        "<br>\n",
        "[AlphaFold page for pyruvate kinase PKM](https://alphafold.ebi.ac.uk/entry/P14618)\n",
        "<br>\n",
        "[Example PDBe page for one of the pyruvate kinase PKM structures](https://www.ebi.ac.uk/pdbe/entry/pdb/1t5a)<br>\n",
        "[C-term domain on InterPro](https://www.ebi.ac.uk/interpro/entry/InterPro/IPR036918/)<br>\n",
        "[C-term domain on CATH](http://www.cathdb.info/version/latest/superfamily/3.40.1380.20/superposition)\n",
        "\n",
        "---\n",
        "\n",
        "<br>\n",
        "\n",
        "<p>In the next subsection we will examine the <strong>PAE</strong> plot from AlphaFold, as well as structural superpositions from PDBe-KB and consider the experimental structures in the context of the full UniProt sequence.</p>\n",
        "\n",
        "<p>For human, and other eukaryotes, when considering the full protein sequence (<i>i.e.</i> UniProt ID sequence) it can appear there are multiple globular proteins connected by relatively unstructured regions of protein chain. Where the variant occurs within in the sequence has relevance to how it may or may not impair protein function.</p>\n",
        "\n",
        "<p>We will avoid the term domains in the context of the next section of analysis. This is because even though the green square on a <strong>PAE</strong> plot or the sections of proteins that behaved well enough to determine a structure experimentally may correspond to a single domain, it may also correspond to two or more domains. Thus we will use the term 'folded unit'.</p>\n",
        "\n",
        "Please also consider the protein processing that occurs after protein is translated. Signal peptides and propeptides are associated with 'molecular processing' events that can occur and are listed on the Feature viewer on a corresponding UniProt page. These are regions removed at various stages and thus are typically not present in the mature form of the protein. Even more relevant to our analysis: sometimes multiple protein chains are generated from single UniProt ID due to specific molecular processing events. When known these are shown on the **PDBe-KB** summary page.\n"
      ],
      "metadata": {
        "id": "WoUMAh-DE-Yf"
      }
    },
    {
      "cell_type": "code",
      "source": [
        "# @title Questions\n",
        "# @markdown\n",
        "# @markdown\n",
        "# @markdown HINT: The following subsection can be aided by utilizing the structural superpositions available from **PDBe-KB** Structures page,<br> especially the **AlphaFold Superposition** feature.\n",
        "# @markdown\n",
        "# @markdown ---\n",
        "# @markdown Does the **PAE** plot from AlphaFold predicted structure for this UniProt ID indicated there is more than one 'folded unit'?\n",
        "GreenBlocks_PAE = 'Input Answer' # @param [\"Input Answer\",\"Yes\", \"No\", \"Maybe\"]\n",
        "# @markdown ---\n",
        "# @markdown Do the experimentally-determined structures for the UniProt ID cover different regions of sequence?\n",
        "BlueBlocks_Sequence = 'Input Answer' # @param [\"Input Answer\",\"Yes\", \"No\"]\n",
        "# @markdown ---\n",
        "# @markdown Examine the structural superposition. <br> Are there more than one superposition for the same UniProt ID? <br>HINT: Click on 'Select Segment'.\n",
        "No_of_sections_Superposition ='Input Answer' # @param [\"Input Answer\",\"Yes\", \"No\"]\n",
        "# @markdown ---\n",
        "# @markdown Does the protein adopt a single compact fold / appear to be a single approximately spherical shape (aka globular protein)?\n",
        "One_folded_unit = 'Input Answer' # @param [\"Input Answer\",\"Yes\", \"No\"]\n",
        "# @markdown ---\n",
        "# @markdown If there are molecular processing events that generate more than one chain, please indicate the number of chains: <br>HINT: Molecule processing is on **PDBe-KB** Overview page, as well as on the UniProt page *Feature viewer*\n",
        "Molecular_Processing_Sections = 1 # @param {type:\"number\"}\n",
        "# @markdown ---\n",
        "# @markdown Taking into account any molecular processing events, has the analysis indicated there are more than one 'folded units'?\n",
        "Multiple_folded_units = 'Input Answer' # @param [\"Input Answer\",\"Yes\", \"No\"]\n",
        "# @markdown ---\n"
      ],
      "metadata": {
        "cellView": "form",
        "id": "N1JhKutMDWiL"
      },
      "execution_count": 18,
      "outputs": []
    },
    {
      "cell_type": "markdown",
      "source": [
        "## Disulfide bridges & metal coordination\n",
        "<img src=\"https://upload.wikimedia.org/wikipedia/commons/8/8c/Disulfide_Bridges_(SCHEMATIC)_V.1.svg\" height=\"250\" align=\"right\">\n",
        "\n",
        "<p>Key features that contribute to protein folding and stability are disulfide bridges.  The image on the left highlights how the disulfide bridges act as covalent crosslinkers to stabilize a protein's fold. Metal coordination has also been observed as important for protein folding and stability.</p>\n",
        "\n",
        "<br>\n",
        "<p>Disulfide bonds and metal coordination may or may not contribute to catalysis when the protein is an enzyme, in addition to their role in protein stabilization. </p<>\n",
        "\n",
        "<br>\n",
        "<br>\n",
        "<p>Disulfide bonds only involve cysteines, and metal coordination tends to involve cysteines and histidines, but can involved other amino acids.</p>\n"
      ],
      "metadata": {
        "id": "WAuim1BRDW_z"
      }
    },
    {
      "cell_type": "code",
      "source": [
        "# @title Questions\n",
        "# @markdown\n",
        "# @markdown\n",
        "# @markdown HINT: The following subsection can be aided by utilizing the structural superpositions and sequence viewer available from **PDBe-KB** Ligands page. Also, revisit the UniProt page to see if the enzyme catalysis involves a metal.\n",
        "# @markdown\n",
        "# @markdown ---\n",
        "# @markdown Is the canonical (wild-type) amino acid a cysteine?\n",
        "Is_CYS = 'Input Answer' # @param [\"Input Answer\",\"Yes\", \"No\"]\n",
        "# @markdown ---\n",
        "# @markdown If the answer for the previous is yes, <br>is the cysteine involved in a disulfide bridge?\n",
        "Disulfide_bridge = 'Input Answer' # @param [\"Input Answer\",\"Yes\", \"No\"]\n",
        "# @markdown ---\n",
        "# @markdown If the answer for the previous is yes, <br>is the cysteine involved in coordinating a metal or other ion?\n",
        "Metal_site_with_CYS = 'Input Answer' # @param [\"Input Answer\",\"Yes\", \"No\"]\n",
        "# @markdown ---\n",
        "# @markdown Is the canonical (wild-type) amino acid a histidine?\n",
        "Is_HIS = 'Input Answer' # @param [\"Input Answer\",\"Yes\", \"No\"]\n",
        "# @markdown ---\n",
        "# @markdown If the answer for the previous is yes, <br>is the histidine involved in coordinating a metal or other ion?\n",
        "Metal_site_with_His = 'Input Answer' # @param [\"Input Answer\",\"Yes\", \"No\"]\n",
        "# @markdown ---\n",
        "# @markdown Examine the structural superposition on the *PDBe-KB* Ligands page. <br>Are there any metals or other ions?\n",
        "Metal_or_ion_sites = 0 # @param {type:\"number\"}\n",
        "# @markdown ---\n",
        "# @markdown Are any metals involved in catalysis?\n",
        "No_of_Metals_in_catalysis = 'Input Answer' # @param [\"Input Answer\",\"Yes\", \"No\"]\n",
        "# @markdown ---\n",
        "# @markdown If the variant is at a metal coordinate site, <br>is the site part of the active site (*i.e.* metal site is involved in catalysis?)\n",
        "Metals_at_Variant_site = 'Input Answer' # @param [\"Input Answer\",\"Yes\", \"No\"]\n",
        "# @markdown ---\n"
      ],
      "metadata": {
        "cellView": "form",
        "id": "eV4EusrqAp10"
      },
      "execution_count": 19,
      "outputs": []
    },
    {
      "cell_type": "markdown",
      "source": [
        "## Protein complexes\n",
        "<img src=\"https://upload.wikimedia.org/wikipedia/commons/8/8c/Disulfide_Bridges_(SCHEMATIC)_V.1.svg\" height=\"250\" align=\"right\">\n",
        "\n",
        "<p>We have been primarily considering protein structures within the context of a single protein chain, however many proteins form complexes and many are generated as complexes of two (dimers), there (trimers)</p>\n",
        "\n",
        "<br>\n",
        "<p>Disulfide bonds and metal coordination may or may not contribute to catalysis when the protein is an enzyme, in addition to their role in protein stabilization. </p<>\n",
        "\n",
        "<br>\n",
        "<br>\n",
        "<p>Disulfide bonds only involve cysteines, and metal coordination tends to involve cysteines and histidines, but can involved other amino acids.</p>\n"
      ],
      "metadata": {
        "id": "91cSnHJ7iSzD"
      }
    },
    {
      "cell_type": "code",
      "source": [
        "# @title Questions\n",
        "# @markdown\n",
        "# @markdown ---\n",
        "# @markdown If the protein?\n",
        "Is_CYS = 'Input Answer' # @param [\"Input Answer\",\"Yes\", \"No\"]\n",
        "# @markdown ---\n",
        "# @markdown If the answer for the previous is yes, <br>is the cysteine involved in a disulfide bridge?\n",
        "Disulfide_bridge = 'Input Answer' # @param [\"Input Answer\",\"Yes\", \"No\"]\n",
        "# @markdown ---\n",
        "# @markdown If the answer for the previous is yes, <br>is the cysteine involved in coordinating a metal or other ion?\n",
        "Metal_site_with_CYS = 'Input Answer' # @param [\"Input Answer\",\"Yes\", \"No\"]\n",
        "# @markdown ---\n",
        "# @markdown Is the canonical (wild-type) amino acid a histidine?\n",
        "Is_HIS = 'Input Answer' # @param [\"Input Answer\",\"Yes\", \"No\"]\n",
        "# @markdown ---\n",
        "# @markdown If the answer for the previous is yes, <br>is the histidine involved in coordinating a metal or other ion?\n",
        "Metal_site_with_His = 'Input Answer' # @param [\"Input Answer\",\"Yes\", \"No\"]\n",
        "# @markdown ---\n",
        "# @markdown Examine the structural superposition on the *PDBe-KB* Ligands page. <br>Are there any metals or other ions?\n",
        "Metal_or_ion_sites = 0 # @param {type:\"number\"}\n",
        "# @markdown ---\n",
        "# @markdown Are any metals involved in catalysis?\n",
        "No_of_Metals_in_catalysis = 'Input Answer' # @param [\"Input Answer\",\"Yes\", \"No\"]\n",
        "# @markdown ---\n",
        "# @markdown If the variant is at a metal coordinate site, <br>is the site part of the active site (*i.e.* metal site is involved in catalysis?)\n",
        "Metals_at_Variant_site = 'Input Answer' # @param [\"Input Answer\",\"Yes\", \"No\"]\n",
        "# @markdown ---\n"
      ],
      "metadata": {
        "cellView": "form",
        "id": "tMQDmPE8BOmS"
      },
      "execution_count": 20,
      "outputs": []
    },
    {
      "cell_type": "code",
      "source": [
        "# @title Press shift+enter to start\n",
        "# @markdown\n",
        "# @markdown ---\n",
        "# @markdown Summary of information on local environment\n",
        "# @markdown ---\n",
        "\n",
        "if (LIKELY_DISRUPTING_SS == 'No' or  LIKELY_DISRUPTING_SS == 'Maybe') and SECONDARY_STRUCTURE == 'LOOP' and ADJACENT_SECONDARY_STRUCTURE == 'LOOP':\n",
        "    print(f\"It is highly unlikely that {Canonical_Amino_Acid} at {Variant_Position} being replaced by {New_Amino_Acid} is impacting on the protein function by disrupting a secondary structure element.\")\n",
        "elif (LIKELY_DISRUPTING_SS == 'No' or  LIKELY_DISRUPTING_SS == 'Maybe') and SECONDARY_STRUCTURE == 'LOOP' and ADJACENT_SECONDARY_STRUCTURE != 'LOOP':\n",
        "    print(f\"It is unlikely that {Canonical_Amino_Acid} at {Variant_Position} being replaced by {New_Amino_Acid} is impacting on the protein function by disrupting a secondary structure element.\")\n",
        "elif (LIKELY_DISRUPTING_SS == 'No') and SECONDARY_STRUCTURE != 'LOOP' and ADJACENT_SECONDARY_STRUCTURE != 'LOOP':\n",
        "    print(f\"It seems unlikely that {Canonical_Amino_Acid} at {Variant_Position} being replaced by {New_Amino_Acid} found within secondary structure element ({SECONDARY_STRUCTURE}) is disrupting this\\n or an adjacent to secondary structure element ({ADJACENT_SECONDARY_STRUCTURE}).\")\n",
        "elif (LIKELY_DISRUPTING_SS == 'Maybe') and SECONDARY_STRUCTURE != 'LOOP' and ADJACENT_SECONDARY_STRUCTURE != 'LOOP':\n",
        "    print(f\"It is possible that {Canonical_Amino_Acid} at {Variant_Position} being replaced by {New_Amino_Acid} found within secondary structure element ({SECONDARY_STRUCTURE}) is disrupting this\\n or an adjacent to secondary structure element ({ADJACENT_SECONDARY_STRUCTURE}).\")\n",
        "elif (LIKELY_DISRUPTING_SS == 'Yes') and SECONDARY_STRUCTURE == 'LOOP' and ADJACENT_SECONDARY_STRUCTURE == 'LOOP':\n",
        "    print(f\"It seems unlikely that {Canonical_Amino_Acid} at {Variant_Position} is impacting on the protein function by disrupting a secondary structure element\\n because it is not either in or adjacent in sequence to a secondary structure element.\")\n",
        "elif (LIKELY_DISRUPTING_SS == 'Yes') and SECONDARY_STRUCTURE == 'LOOP' and ADJACENT_SECONDARY_STRUCTURE != 'LOOP':\n",
        "    print(f\"It seems likely that {Canonical_Amino_Acid} at {Variant_Position} being replaced by {New_Amino_Acid} found within a ({SECONDARY_STRUCTURE}) is disrupting an adjacent to secondary structure element ({ADJACENT_SECONDARY_STRUCTURE})\\n and this may impact on protein function.\")\n",
        "elif (LIKELY_DISRUPTING_SS == 'Yes' or  LIKELY_DISRUPTING_SS == 'Maybe') and SECONDARY_STRUCTURE != 'LOOP' and ADJACENT_SECONDARY_STRUCTURE != 'LOOP':\n",
        "    print(f\"It seems likely that {Canonical_Amino_Acid} at {Variant_Position} being replaced by {New_Amino_Acid} found within secondary structure element ({SECONDARY_STRUCTURE}) is disrupting this\\n or an adjacent to secondary structure element ({ADJACENT_SECONDARY_STRUCTURE}) and this may impact on protein function.\")\n",
        "else:\n",
        "    print(f\"Still need to describe.\")"
      ],
      "metadata": {
        "colab": {
          "base_uri": "https://localhost:8080/"
        },
        "id": "_ke4N7bfgQ_-",
        "outputId": "62eb1df0-6f60-4894-a721-1cddd840a70b"
      },
      "execution_count": 21,
      "outputs": [
        {
          "output_type": "stream",
          "name": "stdout",
          "text": [
            "It is possible that LEU at 435 being replaced by PHE found within secondary structure element (SHEET) is disrupting this\n",
            " or an adjacent to secondary structure element (SHEET).\n"
          ]
        }
      ]
    }
  ]
}