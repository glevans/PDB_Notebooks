{
  "nbformat": 4,
  "nbformat_minor": 0,
  "metadata": {
    "colab": {
      "provenance": [],
      "toc_visible": true,
      "authorship_tag": "ABX9TyM4Ra0RFF0hL36WW4OQqfM4",
      "include_colab_link": true
    },
    "kernelspec": {
      "name": "python3",
      "display_name": "Python 3"
    },
    "language_info": {
      "name": "python"
    }
  },
  "cells": [
    {
      "cell_type": "markdown",
      "metadata": {
        "id": "view-in-github",
        "colab_type": "text"
      },
      "source": [
        "<a href=\"https://colab.research.google.com/github/glevans/PDBe_Notebooks/blob/main/variants_embl-ebi_may2024/structural_assessment.ipynb\" target=\"_parent\"><img src=\"https://colab.research.google.com/assets/colab-badge.svg\" alt=\"Open In Colab\"/></a>"
      ]
    },
    {
      "cell_type": "markdown",
      "source": [
        "**<H1>Structural assessment of a variant</H1>**\n",
        "**Using PDBe-KB & 3D-Beacons to gain understanding on genetic variants**\n",
        "<img src=\"https://www.ebi.ac.uk/pdbe/docs_dev/logos/images/RGB/PDBe-logo-RGB_2013.png\" height=\"300\" align=\"right\">\n",
        "\n",
        "#Welcome to this notebook form!\n",
        "\n",
        "To use this notebook form you can:\n",
        "\n",
        "(1) Click on link at top of the page when viewing the file in Github\n",
        "\n",
        "*   you will need to have a Google account\n",
        "*   be logged in to Google Colab <br>(by being logged into Google account)\n",
        "\n",
        "<br>\n",
        "\n",
        "(2) Visit the Colaboratory page:<br>\n",
        "https://colab.research.google.com/<br>\n",
        "and access the following Github repository *via* the interface:<br>\n",
        "https://github.com/PDBeurope/pdbe-notebooks/\n",
        "\n",
        "<br>\n",
        "\n",
        "(3) Visit the Colaboratory page:<br>\n",
        "https://colab.research.google.com/<br>\n",
        "and upload the file from the Colaboratory interface\n",
        "\n",
        "*   you will need to have a Google account\n",
        "*   be logged in to Google Colab <br>(by being logged into Google account)"
      ],
      "metadata": {
        "id": "MEhhtOcBfwxf"
      }
    },
    {
      "cell_type": "markdown",
      "source": [
        "\n",
        "\n",
        "---\n",
        "\n",
        "  ## How to use this notebook form:\n",
        "1. To run a code cell, click on the cell to select it. You will notice a play button (▶️) on the left side of the cell. Click on the play button or **press Shift+Enter** to run the code in the selected cell.\n",
        "2. The code will start executing, and you will see the output, if any, displayed below the code cell.\n",
        "3. Move to the next code cell and repeat steps 2 and 3 until you have executed all the desired code cells in sequence.\n",
        "4. The currently running step is indicated by a circle with a stop sign next to it.\n",
        "If you need to stop or interrupt the execution of a code cell, you can click on the stop button (■) located next to the play button.\n",
        "\n",
        "*Remember to run the code cells in the correct order, as their execution might depend on variables or functions defined in previous cells. You can modify the code in a code cell and re-run it to see updated results.*\n",
        "\n",
        "<br>\n",
        "\n",
        "---\n",
        "\n",
        "## Contact us\n",
        "\n",
        "If you experience any bugs please contact pdbehelp@ebi.ac.uk and put \"Help with\" and the title of the notebook form in the subject line of the message.\n"
      ],
      "metadata": {
        "id": "6Mg5aemEWkiz"
      }
    },
    {
      "cell_type": "markdown",
      "source": [
        "# Amino acid details"
      ],
      "metadata": {
        "id": "V-KqJR8JFq1r"
      }
    },
    {
      "cell_type": "code",
      "execution_count": 1,
      "metadata": {
        "cellView": "form",
        "id": "WQX1WXSLuBU2",
        "colab": {
          "base_uri": "https://localhost:8080/"
        },
        "outputId": "8b623f15-3530-4319-de54-ef7df3aab8eb"
      },
      "outputs": [
        {
          "output_type": "stream",
          "name": "stdout",
          "text": [
            "Requirement already satisfied: ColabTurtlePlus in /usr/local/lib/python3.10/dist-packages (2.0.1)\n",
            "Put clearscreen() as the first line in a cell (after the import command) to re-run turtle commands in the cell\n",
            "Succesfully installed!\n"
          ]
        }
      ],
      "source": [
        "# @title Amino acid change\n",
        "# @markdown\n",
        "# @markdown Not all genetic variants resulted in an amino acid change, but here we will be focusing on the genetic variants that cause an amino acid change.\n",
        "# @markdown\n",
        "# @markdown We will be contrasting the amino acid present in the genetic variant, with the canonical amino acid.\n",
        "# @markdown A canonical amino acid is the one most commonly observed at a particular position in the protein sequence.\n",
        "# @markdown\n",
        "# @markdown ---\n",
        "# @markdown For the variant of interest, <br>what was the canonical amino acid?\n",
        "Canonical_Amino_Acid = 'LEU' # @param ['Select the amino acid', 'GLY', 'ALA', 'VAL', 'LEU', 'ILE', 'THR', 'SER', 'MET', 'CYS', 'PRO', 'PHE', 'TYR', 'TRP', 'HIS', 'LYS', 'ARG', 'ASP', 'GLU', 'ASN', 'GLN']\n",
        "# @markdown ---\n",
        "# @markdown For the variant of interest, <br>what was its position in the amino acid sequence (in UniProt numbering)?\n",
        "Variant_Position = 435 # @param {type:\"number\"}\n",
        "# @markdown ---\n",
        "# @markdown For the variant of interest, <br>what was the new amino acid resulting from the genetic variant?\n",
        "New_Amino_Acid = 'PHE' # @param ['Select the amino acid', 'GLY', 'ALA', 'VAL', 'LEU', 'ILE', 'THR', 'SER', 'MET', 'CYS', 'PRO', 'PHE', 'TYR', 'TRP', 'HIS', 'LYS', 'ARG', 'ASP', 'GLU', 'ASN', 'GLN']\n",
        "# @markdown ---\n",
        "\n",
        "!pip install ColabTurtlePlus\n",
        "from ColabTurtlePlus.Turtle import *\n",
        "\n",
        "print(\"Succesfully installed!\")\n",
        "\n",
        "####### COLOURS\n",
        "#defining colour variables based on amino acids identity\n",
        "\n",
        "if Canonical_Amino_Acid == 'CYS' or Canonical_Amino_Acid == 'PRO' or Canonical_Amino_Acid == 'GLY':\n",
        "    colour1 = '#cccc00'\n",
        "elif Canonical_Amino_Acid == 'SER' or Canonical_Amino_Acid == 'THR' or Canonical_Amino_Acid == 'ASN' or Canonical_Amino_Acid == 'GLN':\n",
        "    colour1 = '#cc99ff'\n",
        "elif Canonical_Amino_Acid == 'ARG' or Canonical_Amino_Acid == 'HIS' or Canonical_Amino_Acid == 'LYS' or Canonical_Amino_Acid == 'ASP' or Canonical_Amino_Acid == 'GLU':\n",
        "    colour1 = '#9999ff'\n",
        "elif Canonical_Amino_Acid == 'ALA' or Canonical_Amino_Acid == 'VAL' or Canonical_Amino_Acid == 'ILE' or Canonical_Amino_Acid == 'LEU':\n",
        "    colour1 = '#99ff66'\n",
        "elif Canonical_Amino_Acid == 'MET' or Canonical_Amino_Acid == 'PHE' or Canonical_Amino_Acid == 'TYR' or Canonical_Amino_Acid == 'TRP':\n",
        "    colour1 = '#99ff66'\n",
        "else:\n",
        "    colour1 = '#b3b3b3'\n",
        "\n",
        "if New_Amino_Acid == 'CYS' or New_Amino_Acid == 'PRO' or New_Amino_Acid == 'GLY':\n",
        "    colour2 = '#cccc00'\n",
        "elif New_Amino_Acid == 'SER' or New_Amino_Acid == 'THR' or New_Amino_Acid == 'ASN' or New_Amino_Acid == 'GLN':\n",
        "    colour2 = '#cc99ff'\n",
        "elif New_Amino_Acid == 'ARG' or New_Amino_Acid == 'HIS' or New_Amino_Acid == 'LYS' or New_Amino_Acid == 'ASP' or New_Amino_Acid == 'GLU':\n",
        "    colour2 = '#9999ff'\n",
        "elif New_Amino_Acid == 'ALA' or New_Amino_Acid == 'VAL' or New_Amino_Acid == 'ILE' or New_Amino_Acid == 'LEU':\n",
        "    colour2 = '#99ff66'\n",
        "elif New_Amino_Acid == 'MET' or New_Amino_Acid == 'PHE' or New_Amino_Acid == 'TYR' or New_Amino_Acid == 'TRP':\n",
        "    colour2 = '#99ff66'\n",
        "else:\n",
        "    colour2 = '#b3b3b3'\n",
        "\n",
        "if Canonical_Amino_Acid == 'CYS' or Canonical_Amino_Acid == 'ASP' or Canonical_Amino_Acid == 'GLU' or Canonical_Amino_Acid == 'THR':\n",
        "    colour3 = 'red'\n",
        "elif Canonical_Amino_Acid == 'SER' or Canonical_Amino_Acid == 'TYR':\n",
        "    colour3 = '#ff6666'\n",
        "elif Canonical_Amino_Acid == 'ARG' or Canonical_Amino_Acid == 'LYS':\n",
        "    colour3 = 'blue'\n",
        "elif  Canonical_Amino_Acid == 'HIS' or Canonical_Amino_Acid == 'TRP' or Canonical_Amino_Acid == 'ASN' or Canonical_Amino_Acid == 'GLN':\n",
        "    colour3 = '#6699ff'\n",
        "elif Canonical_Amino_Acid == 'ALA' or Canonical_Amino_Acid == 'VAL' or Canonical_Amino_Acid == 'ILE' or Canonical_Amino_Acid == 'LEU':\n",
        "    colour3 = '#b3b3b3'\n",
        "elif Canonical_Amino_Acid == 'MET' or Canonical_Amino_Acid == 'PHE' or Canonical_Amino_Acid == 'PRO':\n",
        "    colour3 = '#b3b3b3'\n",
        "else:\n",
        "    colour3 = '#b3b3b3'\n",
        "\n",
        "if New_Amino_Acid == 'CYS' or New_Amino_Acid == 'ASP' or New_Amino_Acid == 'GLU' or New_Amino_Acid == 'THR':\n",
        "    colour4 = 'red'\n",
        "elif New_Amino_Acid == 'SER' or New_Amino_Acid == 'TYR':\n",
        "    colour4 = '#ff6666'\n",
        "elif New_Amino_Acid == 'ARG' or New_Amino_Acid == 'LYS':\n",
        "    colour4 = 'blue'\n",
        "elif  New_Amino_Acid == 'HIS' or New_Amino_Acid == 'TRP' or New_Amino_Acid == 'ASN' or New_Amino_Acid == 'GLN':\n",
        "    colour4 = '#6699ff'\n",
        "elif New_Amino_Acid == 'ALA' or New_Amino_Acid == 'VAL' or New_Amino_Acid == 'ILE' or New_Amino_Acid == 'LEU':\n",
        "    colour4 = '#b3b3b3'\n",
        "elif New_Amino_Acid == 'MET' or New_Amino_Acid == 'PHE' or New_Amino_Acid == 'PRO':\n",
        "    colour4 = '#b3b3b3'\n",
        "else:\n",
        "    colour4 = '#b3b3b3'"
      ]
    },
    {
      "cell_type": "markdown",
      "source": [
        "## Amino acid table\n",
        "\n",
        "<img src=\"https://upload.wikimedia.org/wikipedia/commons/4/4f/ProteinogenicAminoAcids.svg\" height=\"700\" align=\"center\">"
      ],
      "metadata": {
        "id": "abDv79_773fd"
      }
    },
    {
      "cell_type": "markdown",
      "source": [
        "The side chains on amino acids can be classed as follows:\n",
        "\n",
        "* **<font color='#9999ff'> Polar charged side chains </font>** (hydrophilic)\n",
        "* **<font color='#cc99ff'> Polar uncharged side chains </font>** (hydrophilic)\n",
        "* **<font color='#99ff66'> Hydrophobic & aliphatic side chains </font>** (hydrophobic)\n",
        "* **<font color='#99ff66'> Hydrophobic & aromatic side chains </font>** (hydrophobic)\n",
        "* **<font color='#cccc00'> Special case side chains </font>**\n",
        "\n",
        "The below colour contrast shows if the variant changes hydrophobicity:"
      ],
      "metadata": {
        "id": "HJBBsOD5BfWw"
      }
    },
    {
      "cell_type": "code",
      "source": [
        "# @title Hydrophobic *vs.* Hydrophilic\n",
        "# @markdown ---\n",
        "# @markdown\n",
        "\n",
        "clearscreen()\n",
        "setup(500,125)\n",
        "T = Turtle()\n",
        "T.color(colour1)\n",
        "T.speed(15)\n",
        "S = T.clone()\n",
        "S.color(colour2)\n",
        "T.jumpto(-150,50)\n",
        "S.jumpto(25,50)\n",
        "T.begin_fill()\n",
        "S.begin_fill()\n",
        "T.circle(-50)\n",
        "S.circle(-50)\n",
        "T.end_fill()\n",
        "S.end_fill()"
      ],
      "metadata": {
        "colab": {
          "base_uri": "https://localhost:8080/",
          "height": 165
        },
        "cellView": "form",
        "id": "BfMKz-505urS",
        "outputId": "7bc33b0c-51b9-4a54-d266-54b3080c0d7e"
      },
      "execution_count": 2,
      "outputs": [
        {
          "output_type": "display_data",
          "data": {
            "text/plain": [
              "<IPython.core.display.HTML object>"
            ],
            "text/html": [
              "\n",
              "      <svg width=\"500\" height=\"125\">  \n",
              "        <rect width=\"100%\" height=\"100%\" style=\"fill:white;stroke:;stroke-width:1\"/>\n",
              "        \n",
              "        \n",
              "        <path fill-rule=\"evenodd\" fill-opacity=\"1\" d=\"M 100.0 12.5  A -50 -50 0 0 1 100.0 112.5  A -50 -50 0 0 1 100.0 12.5 \" stroke-linecap=\"round\" style=\"stroke:#99ff66;stroke-width:1\" fill=\"#99ff66\" /><path fill-rule=\"evenodd\" fill-opacity=\"1\" d=\"M 275.0 12.5  A -50 -50 0 0 1 275.0 112.5  A -50 -50 0 0 1 275.0 12.5 \" stroke-linecap=\"round\" style=\"stroke:#99ff66;stroke-width:1\" fill=\"#99ff66\" />\n",
              "        \n",
              "        \n",
              "        <g id=\"classic\" visibility=\"visible\" transform=\"rotate(-90.0,100.0,12.5) translate(100.0, 12.5)\">\n",
              "<polygon points=\"-5,-4.5 0,-2.5 5,-4.5 0,4.5\" transform=\"skewX(0) scale(1,1)\" style=\"stroke:#99ff66;fill:#99ff66;stroke-width:1\" />\n",
              "</g><g id=\"classic\" visibility=\"visible\" transform=\"rotate(-90.0,275.0,12.5) translate(275.0, 12.5)\">\n",
              "<polygon points=\"-5,-4.5 0,-2.5 5,-4.5 0,4.5\" transform=\"skewX(0.0) scale(1,1)\" style=\"stroke:#99ff66;fill:#99ff66;stroke-width:1\" />\n",
              "</g>\n",
              "      </svg>\n",
              "    "
            ]
          },
          "metadata": {}
        }
      ]
    },
    {
      "cell_type": "markdown",
      "source": [
        "The below colour contrast shows if the variant changes the charge / polarity of the side chain:\n",
        "<br>\n",
        "\n",
        "<font color='blue'> **basic**</font> (positively charged) --> <font color='#6699ff'> **weakly basic**</font> (uncharged but polar) -->\n",
        "<br>**neutral** --> <font color='#ff6666'> **weakly acidic**</font> (uncharged but polar) --> <font color='red'> **acidic**</font> (negatively charged)\n",
        "<br>\n",
        "<br>\n",
        "<font color='red'> **acidic**</font> (negatively charged) --> <font color='#ff6666'> **weakly acidic**</font> (uncharged but polar) -->\n",
        "<br>**neutral** --> <font color='#6699ff'> **weakly basic**</font> (uncharged but polar) --> <font color='blue'> **basic**</font> (positively charged) -->"
      ],
      "metadata": {
        "id": "w9ZjipAQMkj7"
      }
    },
    {
      "cell_type": "code",
      "source": [
        "# @title Acidic *vs.* Basic\n",
        "# @markdown ---\n",
        "# @markdown\n",
        "\n",
        "clearscreen()\n",
        "setup(500,125)\n",
        "T = Turtle()\n",
        "T.color(colour3)\n",
        "T.speed(15)\n",
        "S = T.clone()\n",
        "S.color(colour4)\n",
        "T.jumpto(-150,50)\n",
        "S.jumpto(25,50)\n",
        "T.begin_fill()\n",
        "S.begin_fill()\n",
        "T.circle(-50)\n",
        "S.circle(-50)\n",
        "T.end_fill()\n",
        "S.end_fill()"
      ],
      "metadata": {
        "colab": {
          "base_uri": "https://localhost:8080/",
          "height": 165
        },
        "cellView": "form",
        "id": "MRK488g6OgZ6",
        "outputId": "dcb6bdd0-7cad-4c59-8bfc-637ff38c4810"
      },
      "execution_count": 3,
      "outputs": [
        {
          "output_type": "display_data",
          "data": {
            "text/plain": [
              "<IPython.core.display.HTML object>"
            ],
            "text/html": [
              "\n",
              "      <svg width=\"500\" height=\"125\">  \n",
              "        <rect width=\"100%\" height=\"100%\" style=\"fill:white;stroke:;stroke-width:1\"/>\n",
              "        \n",
              "        \n",
              "        <path fill-rule=\"evenodd\" fill-opacity=\"1\" d=\"M 100.0 12.5  A -50 -50 0 0 1 100.0 112.5  A -50 -50 0 0 1 100.0 12.5 \" stroke-linecap=\"round\" style=\"stroke:#b3b3b3;stroke-width:1\" fill=\"#b3b3b3\" /><path fill-rule=\"evenodd\" fill-opacity=\"1\" d=\"M 275.0 12.5  A -50 -50 0 0 1 275.0 112.5  A -50 -50 0 0 1 275.0 12.5 \" stroke-linecap=\"round\" style=\"stroke:#b3b3b3;stroke-width:1\" fill=\"#b3b3b3\" />\n",
              "        \n",
              "        \n",
              "        <g id=\"classic\" visibility=\"visible\" transform=\"rotate(-90.0,100.0,12.5) translate(100.0, 12.5)\">\n",
              "<polygon points=\"-5,-4.5 0,-2.5 5,-4.5 0,4.5\" transform=\"skewX(0) scale(1,1)\" style=\"stroke:#b3b3b3;fill:#b3b3b3;stroke-width:1\" />\n",
              "</g><g id=\"classic\" visibility=\"visible\" transform=\"rotate(-90.0,275.0,12.5) translate(275.0, 12.5)\">\n",
              "<polygon points=\"-5,-4.5 0,-2.5 5,-4.5 0,4.5\" transform=\"skewX(0.0) scale(1,1)\" style=\"stroke:#b3b3b3;fill:#b3b3b3;stroke-width:1\" />\n",
              "</g>\n",
              "      </svg>\n",
              "    "
            ]
          },
          "metadata": {}
        }
      ]
    },
    {
      "cell_type": "markdown",
      "source": [
        "The below show if the variant changes the size of the side chain:\n",
        "<br>(with basic vs acidic colouring)."
      ],
      "metadata": {
        "id": "7VebV338YIX-"
      }
    },
    {
      "cell_type": "code",
      "source": [
        "# @title Tiny *vs.* Small *vs.* Big\n",
        "# @markdown ---\n",
        "# @markdown\n",
        "\n",
        "clearscreen()\n",
        "setup(500,250)\n",
        "T = Turtle()\n",
        "T.color(colour3)\n",
        "T.speed(15)\n",
        "S = T.clone()\n",
        "S.color(colour4)\n",
        "T.jumpto(-150,50)\n",
        "S.jumpto(25,50)\n",
        "T.begin_fill()\n",
        "S.begin_fill()\n",
        "\n",
        "if Canonical_Amino_Acid == 'ALA' or Canonical_Amino_Acid == 'GLY' or Canonical_Amino_Acid == 'SER':\n",
        "    T.circle(-20)\n",
        "elif Canonical_Amino_Acid == 'ASP' or Canonical_Amino_Acid == 'ASN' or Canonical_Amino_Acid == 'THR' or Canonical_Amino_Acid == 'VAL' or Canonical_Amino_Acid == 'PRO':\n",
        "    T.circle(-30)\n",
        "elif Canonical_Amino_Acid == 'ARG' or Canonical_Amino_Acid == 'HIS' or Canonical_Amino_Acid == 'PHE' or Canonical_Amino_Acid == 'TRP' or Canonical_Amino_Acid == 'TYR':\n",
        "    T.circle(-75)\n",
        "else:\n",
        "    T.circle(-50)\n",
        "\n",
        "if New_Amino_Acid == 'ALA' or New_Amino_Acid == 'GLY' or New_Amino_Acid == 'SER':\n",
        "    S.circle(-20)\n",
        "elif New_Amino_Acid == 'ASP' or New_Amino_Acid == 'ASN' or New_Amino_Acid == 'THR' or New_Amino_Acid == 'VAL' or New_Amino_Acid == 'PRO':\n",
        "    S.circle(-30)\n",
        "elif New_Amino_Acid == 'ARG' or New_Amino_Acid == 'HIS' or New_Amino_Acid == 'PHE' or New_Amino_Acid == 'TRP' or New_Amino_Acid == 'TYR':\n",
        "    S.circle(-75)\n",
        "else:\n",
        "    S.circle(-50)\n",
        "\n",
        "T.end_fill()\n",
        "S.end_fill()"
      ],
      "metadata": {
        "colab": {
          "base_uri": "https://localhost:8080/",
          "height": 290
        },
        "cellView": "form",
        "id": "6DO8jooRYHZv",
        "outputId": "5975b06c-7b85-4f7c-8308-b059043fb74e"
      },
      "execution_count": 4,
      "outputs": [
        {
          "output_type": "display_data",
          "data": {
            "text/plain": [
              "<IPython.core.display.HTML object>"
            ],
            "text/html": [
              "\n",
              "      <svg width=\"500\" height=\"250\">  \n",
              "        <rect width=\"100%\" height=\"100%\" style=\"fill:white;stroke:;stroke-width:1\"/>\n",
              "        \n",
              "        \n",
              "        <path fill-rule=\"evenodd\" fill-opacity=\"1\" d=\"M 100.0 75.0  A -50 -50 0 0 1 100.0 175.0  A -50 -50 0 0 1 100.0 75.0 \" stroke-linecap=\"round\" style=\"stroke:#b3b3b3;stroke-width:1\" fill=\"#b3b3b3\" /><path fill-rule=\"evenodd\" fill-opacity=\"1\" d=\"M 275.0 75.0  A -75 -75 0 0 1 275.0 225.0  A -75 -75 0 0 1 275.0 75.0 \" stroke-linecap=\"round\" style=\"stroke:#b3b3b3;stroke-width:1\" fill=\"#b3b3b3\" />\n",
              "        \n",
              "        \n",
              "        <g id=\"classic\" visibility=\"visible\" transform=\"rotate(-90.0,100.0,75.0) translate(100.0, 75.0)\">\n",
              "<polygon points=\"-5,-4.5 0,-2.5 5,-4.5 0,4.5\" transform=\"skewX(0) scale(1,1)\" style=\"stroke:#b3b3b3;fill:#b3b3b3;stroke-width:1\" />\n",
              "</g><g id=\"classic\" visibility=\"visible\" transform=\"rotate(-90.0,275.0,75.0) translate(275.0, 75.0)\">\n",
              "<polygon points=\"-5,-4.5 0,-2.5 5,-4.5 0,4.5\" transform=\"skewX(0.0) scale(1,1)\" style=\"stroke:#b3b3b3;fill:#b3b3b3;stroke-width:1\" />\n",
              "</g>\n",
              "      </svg>\n",
              "    "
            ]
          },
          "metadata": {}
        }
      ]
    },
    {
      "cell_type": "markdown",
      "source": [
        "## BLOSUM62 Matrix\n",
        "<img src=\"https://upload.wikimedia.org/wikipedia/commons/f/f5/Blosum62-dayhoff-ordering.svg\" height=\"500\" align=\"right\">\n",
        "\n",
        "The BLOSUM62 (BLOcks SUbstitution Matrix) is a substitution matrix that can be used in alignment of protein sequences (*e.g.* [BLASTp](https://blast.ncbi.nlm.nih.gov/Blast.cgi?PROGRAM=blastp&PAGE_TYPE=BlastSearch&LINK_LOC=blasthome) and [UniProt's BLAST](https://www.uniprot.org/blast)). It was generated from analysis of many protein sequences.\n",
        "\n",
        "<br>\n",
        "\n",
        "Positive values indicate frequent exchanges between amino acid pairs during evolution, negative values indicate amino acid pairs that rarely replace each other. The colouring in the image of BLOSUM62 is from Margaret Dayhoff's amino acid classification. Together these highlight that amino acids can be clustered in terms of more and less similar.\n",
        "\n",
        "<br>\n",
        "\n",
        "For an overview of the development of BLOSUM, click [here](https://en.wikipedia.org/wiki/BLOSUM)<br>\n",
        "\n",
        "<br>\n",
        "\n",
        "\n"
      ],
      "metadata": {
        "id": "6PJIwLTRUiSt"
      }
    },
    {
      "cell_type": "markdown",
      "source": [
        "## **Table of Margaret Dayhoff's encoding of amino acids**\n",
        "\n",
        "|                     Amino acids                      | 1-letter code  |      3-letter code       |        Property        | Dayhoff  |\n",
        "|:----------------------------------------------------:|:--------------:|:------------------------:|:----------------------:|:--------:|\n",
        "| Cysteine                                             | C              | Cys                      | Sulfur polymerization  | a        |\n",
        "| Glycine, Serine, Threonine, Alanine, Proline         | G, S, T, A, P  | Gly, Ser, Thr, Ala, Pro  | Small                  | b        |\n",
        "| Aspartic acid, Glutamic acid, Asparagine, Glutamine  | D, E, N, Q     | Asp, Glu, Asn, Gln       | Acid and amide         | c        |\n",
        "| Arginine, Histidine, Lysine                          | R, H, K        | Arg, His, Lys            | Basic                  | d        |\n",
        "| Leucine, Valine, Methionine, Isoleucine              | L, V, M, I     | Leu, Val, Met, Ile       | Hydrophobic            | e        |\n",
        "| Tyrosine, Phenylalanine, Tryptophan                  | Y, F, W        | Tyr, Phe, Trp            | Aromatic               | f        |"
      ],
      "metadata": {
        "id": "0H9dVT5JB-_E"
      }
    },
    {
      "cell_type": "code",
      "source": [
        "# @title Questions\n",
        "# @markdown\n",
        "# @markdown\n",
        "# @markdown ---\n",
        "# @markdown What is the BLOSUM62 value for the variant?\n",
        "BLOSUM62_value = 0 # @param {type:\"number\"}\n",
        "# @markdown ---\n",
        "# @markdown If the canonical and variant amino acid are in the same Dayhoff group, which one?\n",
        "Dayhoff_group = 'Not_same_group' # @param [\"Not_same_group\", \"Sulfur_polymerization\",\"Small\", \"Acid_and_amide\", \"Basic\", \"Hydrophobic\", \"Aromatic\"]\n",
        "# @markdown ---"
      ],
      "metadata": {
        "cellView": "form",
        "id": "0PdWwk7J_Zsw"
      },
      "execution_count": 5,
      "outputs": []
    },
    {
      "cell_type": "markdown",
      "source": [
        "# 3D structures\n",
        "\n",
        "There are various ways to obtain the below information.\n",
        "\n",
        "We have another Notebook, the [Structures Available Notebook](https://colab.research.google.com/github/PDBeurope/pdbe-notebooks/blob/main/variants_embl-ebi_may2024/structures_available.ipynb), to aid in finding the information quickly.\n",
        "\n",
        "Alternatively, a combination of quering and examining contents on the webpages of [3D Beacons](https://www.ebi.ac.uk/pdbe/pdbe-kb/3dbeacons/) and [PDBe-KB](https://www.ebi.ac.uk/pdbe/pdbe-kb/) should enable the same information to be obtained."
      ],
      "metadata": {
        "id": "uMKTDiW8GAJT"
      }
    },
    {
      "cell_type": "code",
      "source": [
        "# @title Structural data availablity\n",
        "\n",
        "UniProt_ID = 'P49768' # @param {type:\"string\"}\n",
        "# @markdown ---\n",
        "# @markdown Are any experimentally determined structures available?\n",
        "EXPERIMENTALLY_DETERMINED_STRUCTURES = 'Yes' # @param [\"Input Answer\",\"Yes\", \"No\"]\n",
        "# @markdown ---\n",
        "# @markdown How many strutures (both predicted and experimentally-determined) are available for the UniProt ID? <br> HINT: Use **3D-Beacons** query\n",
        "No_of_all_available = 26 # @param {type:\"number\"}\n",
        "# @markdown ---\n",
        "# @markdown How many experimentally-determined structures (with PDB ids) are available for the UniProt ID? <br> HINT: Use either **3D-Beacons** or **PDBe-KB**\n",
        "No_of_exp_available = 18 # @param {type:\"number\"}\n",
        "# @markdown ---\n",
        "# @markdown Are any experimentally-determined structures (with PDB ids) available where the variant is present? <br> HINT use **PDBe-KB**\n",
        "VARIANT_STRUCTURE = 'No' # @param [\"Input Answer\",\"Yes\", \"No\"]\n",
        "# @markdown ---\n",
        "\n",
        "print(f\"There are {No_of_all_available} structures (predicted and experimentally determined) available associated with UniProt ID {UniProt_ID}.\")\n",
        "print(f\"There are {No_of_exp_available} experimentally-determined structures associated with UniProt ID {UniProt_ID}.\")\n",
        "if VARIANT_STRUCTURE == 'No':\n",
        "    print(f\"There are NO experimentally-determined structure available that contain {New_Amino_Acid} at {Variant_Position} instead of {Canonical_Amino_Acid}.\")\n",
        "else:\n",
        "    print(f\"There are experimentally-determined structure available that contain {New_Amino_Acid} at {Variant_Position} instead of {Canonical_Amino_Acid}.\")"
      ],
      "metadata": {
        "cellView": "form",
        "id": "MSrIzGLAhOOc",
        "colab": {
          "base_uri": "https://localhost:8080/"
        },
        "outputId": "5bff7a43-3630-4c23-d10e-ac1a077be1ea"
      },
      "execution_count": 6,
      "outputs": [
        {
          "output_type": "stream",
          "name": "stdout",
          "text": [
            "There are 26 structures (predicted and experimentally determined) available associated with UniProt ID P49768.\n",
            "There are 18 experimentally-determined structures associated with UniProt ID P49768.\n",
            "There are NO experimentally-determined structure available that contain PHE at 435 instead of LEU.\n"
          ]
        }
      ]
    },
    {
      "cell_type": "markdown",
      "source": [
        "# Local structural environment of the variant position"
      ],
      "metadata": {
        "id": "WTDelvgecjFc"
      }
    },
    {
      "cell_type": "markdown",
      "source": [
        "## **Buried?**\n",
        "\n",
        "<img src=\"https://upload.wikimedia.org/wikipedia/commons/c/c5/Protein_folding_schematic.png\" height=\"500\" align=\"right\">\n",
        "\n",
        "<p>Amino acids can be positioned at the protein surface, or buried inside a structural fold.</p>\n",
        "\n",
        "<br>\n",
        "<p>Often hydrophobic ('water-hating') amino acids are buried, and hydrophilic ('water-loving') amino acids are on the protein surface. The image on the right shows almost all hydrophobic residues (black) buried and all hydrophilic residues (white) on the surface. This is a simplification because in most structures a mixture of amino acid types are observed buried within the structural fold. However, the buried hydrophilic residues tend to have amino acid partners that are forming complimentary interactions (salt-bridges, hydrogen bonds, etc).\n",
        "</p>\n",
        "\n",
        "<br>\n",
        "<p>If an amino acid appears at the surface when considering a single protein chain, it may actually be buried by protein-protein interactions when considering a higher level complex, that is the proteins quaternary structure. For example an amino acid on the surface when considering a single chain, may be buried between protein chains within a protein, or by a protein partner that forms a temporary complex with another protein or protein(s) for a specific purpose.</p>\n",
        "\n",
        "<br>\n",
        "<p>We will first only be considering the amino acid at the variant position within the context of a single protein chain.\n",
        "</p>"
      ],
      "metadata": {
        "id": "MVQ4_xq20W6l"
      }
    },
    {
      "cell_type": "code",
      "source": [
        "# @title Question\n",
        "# @markdown\n",
        "# @markdown\n",
        "# @markdown ---\n",
        "# @markdown Where is the amino acid with respect to the rest of the single protein chain?\n",
        "FOUND_AT = 'Buried_site' # @param [\"Input Answer\",\"Protein_surface\", \"Buried_site\",\"Unclear\"]\n",
        "# @markdown HINT: Use structural superpositions on **PDBe-KB** Structures page and/or view a protein structure / structure(s) using [Mol* viewer](https://molstar.org/viewer/) to aid analysis\n",
        "# @markdown <br>HINT2: In Mol* viewer, click on triple dots next to polymer and add 'Spacefill' representation\n",
        "# @markdown\n",
        "# @markdown ---"
      ],
      "metadata": {
        "cellView": "form",
        "id": "0ljyJfqt0VKl"
      },
      "execution_count": 7,
      "outputs": []
    },
    {
      "cell_type": "markdown",
      "source": [
        "## Salt bridges & hydrogen bonds\n",
        "<img src=\"https://upload.wikimedia.org/wikipedia/commons/b/b4/Next_Revisit_Glutamic_Acid_Lysine_salt_bridge.png\" height=\"300\" align=\"right\">\n",
        "\n",
        "A key feature contributing to protein folding and protein stability are hydrogen bonds and salt bridges. A salt bridge is a combination of hydrogen bonding and ionic bonding.\n",
        "\n",
        "<br>\n",
        "\n",
        "The most common amino acid pairs involved in a salt bridge:\n",
        "\n",
        "*  ASP - LYS\n",
        "*  ASP - ARG\n",
        "*  GLU - LYS\n",
        "*  GLU - ARG\n",
        "\n",
        "<br>\n",
        "\n",
        "If an acidic or basic amino acid is buried within a structural fold, it is typically forming either a salt bridge or hydrogen bonds with another amino acid.\n"
      ],
      "metadata": {
        "id": "ZzyyJytjBTty"
      }
    },
    {
      "cell_type": "code",
      "source": [
        "# @title Question\n",
        "# @markdown\n",
        "# @markdown\n",
        "# @markdown ---\n",
        "# @markdown If the amino acid is basic or acidic, as well as buried, <br> is there an amino acid partner that can be identified?\n",
        "ACIDIC_or_BASIC_PARTNER = 'Canonical_aa_not_acidic_or_basic' # @param [\"Yes\", \"No\",\"Unclear\",\"Canonical_aa_not_acidic_or_basic\"]\n",
        "# @markdown HINT: Use structural superpositions on **PDBe-KB** Structures page and/or view a protein structure / structure(s) using mol* to aid analysis\n",
        "# @markdown\n",
        "# @markdown ---"
      ],
      "metadata": {
        "cellView": "form",
        "id": "GfL0alHB1CBv"
      },
      "execution_count": 8,
      "outputs": []
    },
    {
      "cell_type": "markdown",
      "source": [
        "## Disulfide bridges & metal coordination\n",
        "<img src=\"https://upload.wikimedia.org/wikipedia/commons/8/8c/Disulfide_Bridges_(SCHEMATIC)_V.1.svg\" height=\"250\" align=\"right\">\n",
        "\n",
        "<p>Key features that contributes to protein folding and stability are disulfide bridges.  The image on the left highlights how the disulfide bridges act as covalent crosslinkers to stabilize a protein's fold. Metal coordination has also been observed as important for protein folding and stability.</p>\n",
        "\n",
        "<br>\n",
        "<p>Disulfide bonds and metal coordination may also contribute to catalysis when the protein is an enzyme. This may serve as an additional role to protein stabilization. </p<>\n",
        "\n",
        "<br>\n",
        "<br>\n",
        "<p>Disulfide bonds only involve cysteines, and metal coordination tends to involve cysteines and histidines, but can involved other amino acids.</p>\n"
      ],
      "metadata": {
        "id": "WAuim1BRDW_z"
      }
    },
    {
      "cell_type": "code",
      "source": [
        "# @title Questions\n",
        "# @markdown\n",
        "# @markdown\n",
        "# @markdown HINT: Answering these questions can be aided by utilizing the structural superposition view and sequence viewer available from **PDBe-KB** Ligands page.\n",
        "# @markdown\n",
        "# @markdown ---\n",
        "# @markdown Is the canonical (wild-type) amino acid a cysteine?\n",
        "Is_CYS = 'No' # @param [\"Input Answer\",\"Yes\", \"No\"]\n",
        "# @markdown ---\n",
        "# @markdown If the answer for the previous is yes, <br>is the cysteine involved in a disulfide bridge?\n",
        "Disulfide_bridge = 'No' # @param [\"Input Answer\",\"Yes\", \"No\"]\n",
        "# @markdown ---\n",
        "# @markdown If the answer for the previous is yes, <br>is the cysteine involved in coordinating a metal or other ion?\n",
        "Metal_site_with_CYS = 'No' # @param [\"Input Answer\",\"Yes\", \"No\"]\n",
        "# @markdown ---\n",
        "# @markdown Is the canonical (wild-type) amino acid a histidine?\n",
        "Is_HIS = 'No' # @param [\"Input Answer\",\"Yes\", \"No\"]\n",
        "# @markdown ---\n",
        "# @markdown If the answer for the previous is yes, <br>is the histidine involved in coordinating a metal or other ion?\n",
        "Metal_site_with_His = 'No' # @param [\"Input Answer\",\"Yes\", \"No\"]\n",
        "# @markdown ---\n",
        "# @markdown Examine the structural superposition on the *PDBe-KB* Ligands page. <br>Are there any metals or other ions?\n",
        "Metal_or_ion_sites = 0 # @param {type:\"number\"}\n",
        "# @markdown ---\n",
        "# @markdown Are any metals involved in catalysis?\n",
        "No_of_Metals_in_catalysis = 'No' # @param [\"Input Answer\",\"Yes\", \"No\"]\n",
        "# @markdown HINT: Visit the UniProt page to see if the enzyme catalysis involves a metal.\n",
        "# @markdown\n",
        "# @markdown ---\n",
        "# @markdown If the variant is at a metal coordinate site, <br>is the site part of the active site (*i.e.* metal site is involved in catalysis?)\n",
        "Metals_at_Variant_site = 'No' # @param [\"Input Answer\",\"Yes\", \"No\"]\n",
        "# @markdown ---\n",
        "\n"
      ],
      "metadata": {
        "cellView": "form",
        "id": "eV4EusrqAp10"
      },
      "execution_count": 16,
      "outputs": []
    },
    {
      "cell_type": "markdown",
      "source": [
        "##Ligand-protein interactions"
      ],
      "metadata": {
        "id": "WZ3G7tUJ0Pd5"
      }
    },
    {
      "cell_type": "markdown",
      "source": [
        "<img src=\"https://github.com/PDBeurope/pdbe-notebooks/blob/main/variants_embl-ebi_may2024/Human_CFTR_ATP_Ligand.png?raw=true\" height=\"490\" align=\"right\">\n",
        "\n",
        "Small molecules (or ligands) can be found in protein structures.\n",
        "\n",
        "These can be important for protein stabilization or function.\n",
        "\n",
        "Examples of small molecules of potential importance:\n",
        "* lipids\n",
        "* co-factors\n",
        "* carbohydrates <br>(both as substrates & as covalently attached glycosylation)\n",
        "* agonists / antagonists <br>(associated with protein receptors & channels)\n",
        "* substrates / reactants <br>(associated with protein enzymes)\n",
        "* effectors <br>(associated with protein gene regulators)\n",
        "* individual units of: <br>amino acid / DNA base / RNA base <br>\n",
        "* allosteric regulators <br>(*e.g.* amino acid acting binding to one of the enzymes involved in its synthesis)\n",
        "* inhibitors / activator\n",
        "* drugs\n",
        "\n",
        "<br>\n",
        "\n",
        "Less important small molecules*:\n",
        "* Crystallization agents\n",
        "* Buffer components -- e.g. Tris Buffer, CC ID [TRS](https://www.ebi.ac.uk/pdbe-srv/pdbechem/chemicalCompound/show/TRS)\n",
        "* Cryoprotectants -- e.g glycerol, CC ID [GOL](https://www.ebi.ac.uk/pdbe-srv/pdbechem/chemicalCompound/show/GOL)\n",
        "* Solvent -- e.g. DMSO, CC ID [DMS](https://www.ebi.ac.uk/pdbe-srv/pdbechem/chemicalCompound/show/DMS)\n",
        "* Detergents\n",
        "\n",
        "<p>* The second set of small molecules are those which were present for the experimental conditions utilized to determine the protein structure but are not necessarily relevant to protein function. Sometimes these agents/ additives will bind in protein pockets in ways that mimic how biologically relevant small molecules, that weren't present in experimental conditions, might bind.</p>\n",
        "\n",
        "<br>\n",
        "\n",
        "---\n",
        "The **PDBe-KB** Ligands pages analyse protein structures that contain at least one protein chain with sequence mapping to a UniProt ID, but from a 'ligand' perspective.  That is the **PDBe-KB** Ligands page shows a list of ligands that bind the UniProt ID mapped protein chain and map the small molecule interactions onto the UniProt sequence. Additionally, there is a superposition view. Both views aims to highlight ligand binding sites and if they overlap between protein structures for the same UniProt ID. Where possible, based on chemical similarity, 'drug-like' and 'cofactor-like' chemicals have been identified.\n",
        "\n",
        "Variants that disrupt a ligand binding site that has biological relevance may impact protein function."
      ],
      "metadata": {
        "id": "5SyHXsYUBqus"
      }
    },
    {
      "cell_type": "code",
      "source": [
        "# @title Questions\n",
        "# @markdown\n",
        "# @markdown\n",
        "# @markdown HINT: Answering these questions can be aided by utilizing the structural superposition view and sequence viewer available from **PDBe-KB** Ligands page.\n",
        "# @markdown\n",
        "# @markdown ---\n",
        "# @markdown Is the position/residue where the variant occurs near a small molecule binding site?\n",
        "Near_small_molecule = 'Input Answer' # @param [\"Input Answer\",\"Yes\", \"No\"]\n",
        "# @markdown ---\n",
        "# @markdown Are there any direct interactions between the reference version of the canonical and small molecule(s)?\n",
        "Interacting_with_small_molecule = 'Input Answer' # @param [\"Input Answer\",\"Yes\", \"No\"]\n",
        "# @markdown ---\n",
        "# @markdown How strong is the experimental evidence supporting the small molecules binding pose?\n",
        "Map_supports_ligand_binding_pose = 'Input Answer' # @param [\"Input Answer\",\"Yes\", \"No\"]\n",
        "# @markdown ---\n",
        "# @markdown Is it likely that the variant disrupts the ligand binding site?\n",
        "LIKELY_DISRUPTING_ligand_binding = 'Maybe' # @param [\"Input Answer\",\"Yes\", \"No\", \"Maybe\"]\n",
        "# @markdown ---\n",
        "# @markdown ---\n",
        "# @markdown Is the small molecule at the site we are examining have a known biological function listed on the UniProt page?\n",
        "UniProt_indicates_bio_relevance = 'No' # @param [\"Input Answer\",\"Yes\", \"No\"]\n",
        "# @markdown ---\n",
        "# @markdown Is the small molecule at the site we are examining marked as 'co-factor-like' or 'drug factor-like' on the **PDBe-KB** Ligands page?\n",
        "PDBeKB_indicates_bio_relevance = 'No' # @param [\"Input Answer\",\"Yes\", \"No\"]\n",
        "# @markdown ---\n",
        "# @markdown Examine the structure/structures associated with the small molecule. Does the citation or protein structure 'entry title' for the protein structures indicate the small molecule has biological relevance?\n",
        "Entry_title_or_cit_indicates_bio_relevance = 'No' # @param [\"Input Answer\",\"Yes\", \"No\"]\n",
        "# @markdown HINT: Visit the UniProt page to see if the enzyme catalysis involves a metal.\n",
        "# @markdown\n",
        "# @markdown ---\n",
        "# @markdown Is it likely that the variant disrupting the ligand binding is disrupting protein function?\n",
        "LIKELY_DISRUPTING_function = 'Maybe' # @param [\"Input Answer\",\"Yes\", \"No\", \"Maybe\"]\n",
        "\n"
      ],
      "metadata": {
        "cellView": "form",
        "id": "t1mX2JopbG3b"
      },
      "execution_count": 20,
      "outputs": []
    },
    {
      "cell_type": "markdown",
      "source": [
        "# Variant considered in the broader structural context"
      ],
      "metadata": {
        "id": "UGb4zrz70dja"
      }
    },
    {
      "cell_type": "markdown",
      "source": [
        "## **Secondary structure**\n",
        "\n",
        "The most common secondary structure elements are $\\beta$-sheets and $\\alpha$-helices.\n",
        "\n",
        "As shown in the image below, the formation of these features involves hydrogen bonds (black dashes). The hydrogen bond network in $\\beta$-sheets or  $\\alpha$-helices involves mostly the backbone atoms (carboxyl and amino groups) of amino acids (*aka* NOT the side chain atoms that changes between amino acids and change if a genetic variant results in a new amino acid within the protein sequence). Thus, the variant is unlikely to directly impact the hydrogen bonding network, but rather the secondary structure will be indirectly impacted when the new amino acid is repositioned with respect to adjacent amino acids because it cannot be accommodated at the same position in the same way as the canonical amino acid. The exception is proline, where the backbone is fused with the side chain, so has special behaviour, if it is being replaced or being introduced by a genetic variant.\n",
        "\n",
        "<br>\n",
        "\n",
        "<img src=\"https://upload.wikimedia.org/wikipedia/commons/c/c5/Alpha_beta_structure_(full).png\" height=\"400\" align=\"center\">\n"
      ],
      "metadata": {
        "id": "YSZjjATKeMua"
      }
    },
    {
      "cell_type": "code",
      "source": [
        "# @title Questions\n",
        "# @markdown\n",
        "# @markdown\n",
        "# @markdown HINT: The following subsection can be aided by the **PDBe-KB** Structures page, especially the protein sequence view.\n",
        "# @markdown\n",
        "# @markdown ---\n",
        "# @markdown What is the secondary structure where the variant occurs?\n",
        "# @markdown <br> Selecting **LOOP** indicates NO secondary structure element is present.\n",
        "SECONDARY_STRUCTURE = 'HELIX' # @param [\"Input Answer\",\"HELIX\", \"SHEET\", \"LOOP\"]\n",
        "# @markdown ---\n",
        "# @markdown Is there a secondary structure element in the position directly adjacent in sequence to where the variant occurs?\n",
        "Adjacent_has_SS = 'Yes' # @param [\"Input Answer\",\"Yes\", \"No\"]\n",
        "# @markdown ---\n",
        "# @markdown If the answer to the above is **Yes**, <br> what is the secondary structure element in the adjacent residue/residues to the variant position in the protein sequence?\n",
        "ADJACENT_SECONDARY_STRUCTURE = 'HELIX' # @param [\"Input Answer\",\"HELIX\", \"SHEET\", \"LOOP\"]\n",
        "# @markdown ---\n",
        "# @markdown Is it likely that the variant disrupts the secondary structure?\n",
        "LIKELY_DISRUPTING_SS= 'Maybe' # @param [\"Input Answer\",\"Yes\", \"No\", \"Maybe\"]\n",
        "# @markdown <br>\n",
        "# @markdown Some examples that might distupt secondary structure are:\n",
        "# @markdown\n",
        "# @markdown   *  any changes that involves a proline\n",
        "# @markdown   *  *potentially, if an amino acid is at buried site,* and the canonical amino acid is small and the new amino acid is large\n",
        "# @markdown   *  *potentially, if an amino acid is acidic / basic,* and it changes charge thus no longer able to form salt-bridge or hydrogen bonds with appropriate amino acid partner(s).\n",
        "\n",
        "# @markdown ---\n",
        "# @markdown\n",
        "# @markdown It should be noted that disrupting secondary structure will NOT necessarily impact on protein function.\n"
      ],
      "metadata": {
        "cellView": "form",
        "id": "1IPCB6GddG62"
      },
      "execution_count": 18,
      "outputs": []
    },
    {
      "cell_type": "markdown",
      "source": [
        "## **Protein domains**\n",
        "\n",
        "<H3>A protein domain can be thought of as a combination of secondary elements, folded in a compact manner, that is found amongst diverse proteins (<i>i.e.</i> found in proteins with different functions or from different organisms). It is typically thought to be a section of protein sequence which folds independently of other sections when the protein is being translated from RNA.</H3>\n",
        "\n",
        "<p>However, it is not necessary that a function is contained within a single domain -- <i>e.g.</i> an enzyme's active site may be at the interface between two domains. Thus a 'feature' / 'functional unit', or 'protein family' such as might be highlighted on UniProt pages, may or may not correspond to a protein domain.</p>\n",
        "\n",
        "Protein domains have generally been defined / understood in the context of multiple sequences and structural comparisons such as that available from databases like [InterPro](https://www.ebi.ac.uk/interpro/), [Pfam](http://pfam.xfam.org/), [SCOPe](https://scop.berkeley.edu/), SCOP, [CATH](https://www.cathdb.info/), etc). Protein classifications such as families / domains that are defined by these resources may or may not overlap for the same protein. For example, a Pfam annotation of a protein family, may corresponds to two or more domains, as defined in SCOPe, SCOP or CATH. A quick overview of the type of classification / analysis performed by these databases is available [here](https://www.ebi.ac.uk/interpro/about/interpro/)<br>\n",
        "\n",
        "<br>\n",
        "\n",
        "---\n",
        "\n",
        "For even more details:\n",
        "[EMBL-EBI on-demand training course on protein classification](https://www.ebi.ac.uk/training/online/courses/protein-classification-intro-ebi-resources/protein-classification/)\n",
        "\n",
        "---\n",
        "\n",
        "<p>Investigating domains and finding related proteins with the same / similar domains may be an avenue of further analysis. Especially if no rationale can be developed to understand why a variant is causing disease after answering all the questions in this guide. Additionally, if this guide reveals a rationale for understanding why a variant causes disease, related proteins may provide further evidence or insight to support the answer.</p>\n",
        "\n",
        "---\n",
        "\n",
        "<br>"
      ],
      "metadata": {
        "id": "Qh16G240BUL9"
      }
    },
    {
      "cell_type": "markdown",
      "source": [
        "A valuable tool for evaluating structures is the **Predicted aligned error (PAE)** plots associated with predicted protein structures, such as those available from the [AlphaFold database](https://alphafold.ebi.ac.uk/). The **PAE** plot is a relationship matrix that indicates confidence with respect to two amino acids positions relative to each other.\n",
        "\n",
        "<p>Thus, perhaps unsurprisingly, blocks of green, showing confidence in the prediction for the relative position of amino acids to each other often correlates with protein domains, but not always. That is, sometimes a block of green corresponds to two or more domains.</p>\n",
        "\n",
        "<br>\n",
        "\n",
        "---\n",
        "\n",
        "One example of this type of occurence (two domains corresponding to one green square in a **PAE** plot) is pyruvate kinase PKM.<br>\n",
        "To explore this further:<br>\n",
        "[PDBe-KB page for pyruvate kinase PKM](https://www.ebi.ac.uk/pdbe/pdbe-kb/proteins/P14618)\n",
        "<br>\n",
        "[AlphaFold Database page for pyruvate kinase PKM](https://alphafold.ebi.ac.uk/entry/P14618)\n",
        "<br>\n",
        "[Example PDBe page for one of the pyruvate kinase PKM structures](https://www.ebi.ac.uk/pdbe/entry/pdb/1t5a)<br>\n",
        "[C-term domain on InterPro](https://www.ebi.ac.uk/interpro/entry/InterPro/IPR036918/)<br>\n",
        "[C-term domain on CATH](http://www.cathdb.info/version/latest/superfamily/3.40.1380.20/superposition)\n",
        "\n",
        "---\n",
        "\n",
        "<br>\n",
        "\n",
        "<p>In the next subsection we will examine the <strong>PAE</strong> plot from the <strong>AlphaFold Database</strong>, as well as structural superpositions from <strong>PDBe-KB</strong> and consider the experimental structures in the context of the full UniProt sequence.</p>\n",
        "\n",
        "<p>When considering the full protein sequence (<i>i.e.</i> UniProt ID sequence) it can appear there are multiple globular proteins connected by relatively unstructured regions of protein chain. Where the variant occurs within in the sequence has relevance to how it may or may not impair protein function.</p>\n",
        "\n",
        "<p>We will avoid the term domains in the context of the next section of analysis. This is because even though the green square on a <strong>PAE</strong> plot or the sections of proteins that behaved well enough to determine a structure experimentally may correspond to a single domain, it may also correspond to two or more domains. Thus we will use the term 'folded unit'.</p>"
      ],
      "metadata": {
        "id": "WoUMAh-DE-Yf"
      }
    },
    {
      "cell_type": "markdown",
      "source": [
        "\n",
        "\n",
        "---\n",
        "\n",
        "<br>\n",
        "\n",
        "Please also consider the protein processing that occurs after protein is translated.\n",
        "\n",
        "Signal peptides and propeptides are associated with 'molecular processing' events that can occur and are listed in the Feature viewer on the corresponding UniProt page or **PDBe-KB** Structure page. These are regions removed at various stages and thus are typically not present in the mature form of the protein.\n",
        "\n",
        "Sometimes multiple protein chains are generated from single UniProt ID. This is due to specific additional molecular processing events that occur after the protein has been translated. When this has been annotated by UniProt, two or more chains with special subpages are shown on the **PDBe-KB** Summary page."
      ],
      "metadata": {
        "id": "dcTzXd0NcxtZ"
      }
    },
    {
      "cell_type": "code",
      "source": [
        "# @title Questions\n",
        "# @markdown\n",
        "# @markdown\n",
        "# @markdown HINT: The following subsection can be aided by utilizing the structural superpositions available from **PDBe-KB** Structures page,<br> especially the **AlphaFold Superposition** feature.\n",
        "# @markdown <br>HINT2: Visiting the **[AlphaFold Database](https://alphafold.ebi.ac.uk/)** provides an interactive PAE plot.\n",
        "# @markdown\n",
        "# @markdown ---\n",
        "# @markdown Does the **PAE** plot for the predicted structure from the **AlphaFold Database** for this UniProt ID indicated there is more than one 'folded unit'?\n",
        "More_than_one_folded_unit = 'No' # @param [\"Input Answer\",\"Yes\", \"No\", \"Maybe\"]\n",
        "# @markdown ---\n",
        "# @markdown Do the experimentally-determined structures for the UniProt ID cover different regions of sequence?\n",
        "BlueBlocks_Sequence = 'Yes' # @param [\"Input Answer\",\"Yes\", \"No\"]\n",
        "# @markdown ---\n",
        "# @markdown Examine the structural superposition. <br> Are there more than one superposition for the same UniProt ID?\n",
        "More_than_one_section_for_Superposition ='Yes' # @param [\"Input Answer\",\"Yes\", \"No\"]\n",
        "# @markdown HINT: Click on 'Select Segment' in **PDBe-KB** structural superposition view.\n",
        "# @markdown\n",
        "# @markdown ---\n",
        "# @markdown Does the protein adopt a single compact fold / appear to be a single approximately spherical shape (aka globular protein)?\n",
        "One_folded_unit = 'Yes' # @param [\"Input Answer\",\"Yes\", \"No\"]\n",
        "# @markdown ---\n",
        "# @markdown If there are molecular processing events that generate more than one chain, please indicate the number of chains:\n",
        "Molecular_Processing_Sections = 2 # @param {type:\"number\"}\n",
        "# @markdown HINT: Molecule processing is on **PDBe-KB** Overview page, as well as on the UniProt page *Feature viewer*\n",
        "# @markdown\n",
        "# @markdown ---\n",
        "# @markdown Taking into account any molecular processing events, has the analysis indicated there are more than one 'folded units'?\n",
        "Multiple_folded_units = 'No' # @param [\"Input Answer\",\"Yes\", \"No\"]\n",
        "# @markdown ---\n"
      ],
      "metadata": {
        "cellView": "form",
        "id": "N1JhKutMDWiL"
      },
      "execution_count": 11,
      "outputs": []
    },
    {
      "cell_type": "markdown",
      "source": [
        "## Protein complexes\n",
        "<img src=\"https://github.com/PDBeurope/pdbe-notebooks/blob/main/variants_embl-ebi_may2024/TB_DHDPS_Assemblies.png?raw=true\" height=\"690\" align=\"right\">\n",
        "\n",
        "<p>We have been primarily considering protein structures within the context of a single protein chain, however many proteins form complexes and many have a biological assembly of two (dimers), three (trimers), four (tetramers), five (pentamers), six (hexamers) etc</p>\n",
        "\n",
        "<br>\n",
        "\n",
        "Oligomers of protein can be broadly classed as:\n",
        "* homomeric - composed of multiple chains with the same amino acid sequence\n",
        "* heteromeric - composed of multiple chains with different amino acid sequences\n",
        "\n",
        "<br>\n",
        "\n",
        "If the variant is at the surface or on secondary structure element that if modified could impact on the shape of the surface, the biological assembly of a protein could be impacted, and this could impact on the protein's function.\n",
        "\n",
        "<br>\n",
        "\n",
        "The example on the right is of an engineered mutation that disrupted protein assembly of a bacterial enzyme. Because the protein was homomeric, and because of the symmetry in the protein, the single mutation from ALA to ARG, resulted in a two positively-charged polar amino acid positioned opposite each other at a protein-protein interaction interface. Interestingly, although enzyme function was impacted, the engineered mutation did not fully inhibit protein function and thus indicated that if this was a genetic variant, even though the protein assembly had changed, this change would not be fatal for the organism.\n",
        "\n",
        "<br>\n",
        "\n",
        "Reference: <br> [A tetrameric structure is not essential for activity in dihydrodipicolinate synthase (DHDPS) from Mycobacterium tuberculosis](https://www.sciencedirect.com/science/article/abs/pii/S000398611100186X)"
      ],
      "metadata": {
        "id": "91cSnHJ7iSzD"
      }
    },
    {
      "cell_type": "code",
      "source": [
        "# @title Questions\n",
        "# @markdown\n",
        "# @markdown ---\n",
        "# @markdown Does the protein form a complex with other chains with the same amino acid sequence?\n",
        "More_than_one = 'Input Answer' # @param [\"Input Answer\",\"Yes\", \"No\"]\n",
        "# @markdown HINT: Visit the **PDBe-KB** Interaction page & use link for **PDB** entry page for individual structures\n",
        "# @markdown\n",
        "# @markdown ---\n",
        "# @markdown Does the protein mostly appear to form a complex only with other chains of the same amino acid sequence?\n",
        "Homomeric = 'Input Answer' # @param [\"Input Answer\",\"Yes\", \"No\"]\n",
        "# @markdown HINT: Visit the **PDBe-KB** Interaction page & use link for **PDB** entry page for individual structures\n",
        "# @markdown\n",
        "# @markdown ---\n",
        "# @markdown If the answer for the previous is yes, <br>how many chains with the same protein sequence are involved in the biological assembly?\n",
        "Homomeric_of = 1 # @param {type:\"number\"}\n",
        "# @markdown HINT: Visit the **PDBe-KB** Interaction page & use link for **PDB** entry page for individual structures\n",
        "# @markdown\n",
        "# @markdown ---\n",
        "# @markdown If the biological assembly involves protein chains with different protein sequences, what is the total number of chains in the biological assembly?\n",
        "Heteromeric_of = 1 # @param {type:\"number\"}\n",
        "# @markdown ---\n",
        "# @markdown If the variant position is at the surface of the single chain, <br>is it buried when the protein forms its biological assembly?\n",
        "Variant_at_biological_assembly_interface = 'Input Answer' # @param [\"Input Answer\",\"Yes\", \"No\"]\n",
        "# @markdown\n",
        "# @markdown ---\n",
        "# @markdown ---\n",
        "# @markdown Are there any experimentally-determined structures with the protein having multiple protein, DNA and/or RNA partners?\n",
        "Protein_partners = 'Input Answer' # @param [\"Input Answer\",\"Yes\", \"No\", \"Maybe\"]\n",
        "# @markdown HINT: Visit the **PDBe-KB** Interaction page & use link for **PDB** entry page for individual structures\n",
        "# @markdown\n",
        "# @markdown ---\n",
        "# @markdown If the variant position is at the surface of the single chain, or the biological assembly,<br> is it buried when the protein interacts with its partner?\n",
        "Variant_at_biological_partner_interface = 'Input Answer' # @param [\"Input Answer\",\"Yes\", \"No\"]\n",
        "# @markdown\n",
        "# @markdown ---\n",
        "# @markdown ---\n",
        "# @markdown Compare the protein complexes listed on UniProt page with the structrues on the **PDBe-KB** Interaction page.\n",
        "# @markdown How many protein partners with predicted / experimental evidence for complex formation do not yet have any protein structure?\n",
        "Yet_to_have_structure_protein_complexes = 0 # @param {type:\"number\"}\n",
        "# @markdown ---\n",
        "# @markdown Is the variant position at the surface of the protein in all currently available experimentally-determined structures?\n",
        "Surface_aa_in_all_structure = 'Input Answer' # @param [\"Input Answer\",\"Yes\", \"No\"]\n",
        "# @markdown ---\n",
        "# @markdown If the answer to the final question is yes, although there is no evidence for it yet, the variant may be impacted on a protein complex where there has yet to be a structure determined.\n",
        "\n"
      ],
      "metadata": {
        "cellView": "form",
        "id": "tMQDmPE8BOmS"
      },
      "execution_count": 17,
      "outputs": []
    },
    {
      "cell_type": "markdown",
      "source": [
        "# This ends the notebook form.<br>\n",
        "\n",
        "\n",
        "---\n",
        "\n",
        "<p>Please consider the evidence collected in this notebook form and decided what is the most likely rationale for why the genetic variant is disrupting function / pathogenic.</p>\n",
        "\n",
        "<p>It may not be apparent from the currently available protein structures why a genetic variant is causes disease. This is also a valid conclusion.</p>\n",
        "\n",
        "<br>"
      ],
      "metadata": {
        "id": "gY1gKyyPyKf_"
      }
    },
    {
      "cell_type": "markdown",
      "source": [
        "Copyright 2024 EMBL - European Bioinformatics Institute\n",
        "\n",
        "Licensed under the Apache License, Version 2.0 (the \"License\"); you may not use this file except in compliance with the License. You may obtain a copy of the License at http://www.apache.org/licenses/LICENSE-2.0\n",
        "\n",
        "Unless required by applicable law or agreed to in writing, software distributed under the License is distributed on an \"AS IS\" BASIS, WITHOUT WARRANTIES OR CONDITIONS OF ANY KIND, either express or implied. See the License for the specific language governing permissions and limitations under the License."
      ],
      "metadata": {
        "id": "IDW4csOzyDxq"
      }
    }
  ]
}