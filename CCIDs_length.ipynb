{
  "nbformat": 4,
  "nbformat_minor": 0,
  "metadata": {
    "colab": {
      "provenance": [],
      "include_colab_link": true
    },
    "kernelspec": {
      "name": "python3",
      "display_name": "Python 3"
    },
    "language_info": {
      "name": "python"
    }
  },
  "cells": [
    {
      "cell_type": "markdown",
      "metadata": {
        "id": "view-in-github",
        "colab_type": "text"
      },
      "source": [
        "<a href=\"https://colab.research.google.com/github/glevans/PDBe_Notebooks/blob/main/CCIDs_length.ipynb\" target=\"_parent\"><img src=\"https://colab.research.google.com/assets/colab-badge.svg\" alt=\"Open In Colab\"/></a>"
      ]
    },
    {
      "cell_type": "code",
      "source": [
        "# Importing Python package(s) / module(s)\n",
        "import csv"
      ],
      "metadata": {
        "id": "nDeA8xOozcdp"
      },
      "execution_count": 1,
      "outputs": []
    },
    {
      "cell_type": "code",
      "source": [
        "# Getting a csv file from PDBeChem FTP area\n",
        "!wget ftp.ebi.ac.uk/pub/databases/msd/pdbechem_v2/ccd/components_inchikeys.csv"
      ],
      "metadata": {
        "id": "JjCzCBD1Kp5m"
      },
      "execution_count": null,
      "outputs": []
    },
    {
      "cell_type": "code",
      "source": [
        "# Converting the CSV file to a Python object\n",
        "# and then converting the 'column1' in CSV into a list.\n",
        "with open('components_inchikeys.csv', 'r') as file:\n",
        "    reader = csv.reader(file)\n",
        "    column1 = [(row[0]) for row in reader]\n",
        "\n",
        "# Removing header from list, and getting all CC ids in Python list object\n",
        "all_CC_ids = []\n",
        "for row in column1:\n",
        "    if row == \"CCD_ID\":\n",
        "        continue\n",
        "    else:\n",
        "        all_CC_ids.append(row)\n",
        "\n",
        "# Checking for whether list item has 5-letters\n",
        "# and only keeps 5-letter CC ids in the list.\n",
        "two_letter_cc_id_list = []\n",
        "three_letter_cc_id_list = []\n",
        "five_letter_cc_id_list = []\n",
        "for row in all_CC_ids:\n",
        "    if len(row) == 5:\n",
        "        five_letter_cc_id_list.append(row)\n",
        "    elif len(row) == 3:\n",
        "        three_letter_cc_id_list.append(row)\n",
        "    elif len(row) == 2:\n",
        "        two_letter_cc_id_list.append(row)\n",
        "    else:\n",
        "        continue\n",
        "\n",
        "print(five_letter_cc_id_list)\n",
        "number_five_letter = len(five_letter_cc_id_list)\n",
        "print(\"The number of 5-letter CC IDs is\", number_five_letter)\n",
        "print()\n",
        "print(two_letter_cc_id_list)\n",
        "number_two_letter = len(two_letter_cc_id_list)\n",
        "print(\"The number of 2-letter CC IDs is\", number_two_letter)\n",
        "print()\n",
        "print(three_letter_cc_id_list)\n",
        "number_three_letter = len(three_letter_cc_id_list)\n",
        "print(\"The number of 3-letter CC IDs is\", number_three_letter)"
      ],
      "metadata": {
        "id": "e7ZJosjiz4vr"
      },
      "execution_count": null,
      "outputs": []
    },
    {
      "cell_type": "code",
      "source": [
        "import matplotlib.pyplot as plt\n",
        "import matplotlib.table as tbl\n",
        "\n",
        "# Pie chart, where the slices will be ordered and plotted counter-clockwise:\n",
        "labels = '2-letter', '3-letter', '5-letter',\n",
        "sizes = [number_two_letter, number_three_letter, number_five_letter]\n",
        "explode = (0, 0, 0.1)  # only \"explode\" the 3rd slice\n",
        "\n",
        "fig1, ax1 = plt.subplots()\n",
        "ax1.pie(sizes, explode=explode, labels=labels, autopct='%1.1f%%',\n",
        "        shadow=True, startangle=90)\n",
        "ax1.axis('equal')  # Equal aspect ratio ensures that pie is drawn as a circle.\n",
        "\n",
        "plt.show()"
      ],
      "metadata": {
        "id": "N-mBQbPTQQdP"
      },
      "execution_count": null,
      "outputs": []
    }
  ]
}