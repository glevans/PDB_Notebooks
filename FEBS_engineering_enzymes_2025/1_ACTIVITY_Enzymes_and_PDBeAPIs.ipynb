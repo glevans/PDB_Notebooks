{
  "nbformat": 4,
  "nbformat_minor": 0,
  "metadata": {
    "colab": {
      "provenance": [],
      "toc_visible": true,
      "authorship_tag": "ABX9TyO2ZB3tRXboQFTWbfMmPulK",
      "include_colab_link": true
    },
    "kernelspec": {
      "name": "python3",
      "display_name": "Python 3"
    },
    "language_info": {
      "name": "python"
    },
    "widgets": {
      "application/vnd.jupyter.widget-state+json": {
        "8557a992dffb4cd98f5eb9db3026fe60": {
          "model_module": "@jupyter-widgets/controls",
          "model_name": "DropdownModel",
          "model_module_version": "1.5.0",
          "state": {
            "_dom_classes": [],
            "_model_module": "@jupyter-widgets/controls",
            "_model_module_version": "1.5.0",
            "_model_name": "DropdownModel",
            "_options_labels": [
              "Select answer",
              "Automated Program Integration",
              "Advanced Protocol Interface",
              "Application Programming Interface",
              "Applied Programming Instruction"
            ],
            "_view_count": null,
            "_view_module": "@jupyter-widgets/controls",
            "_view_module_version": "1.5.0",
            "_view_name": "DropdownView",
            "description": "",
            "description_tooltip": null,
            "disabled": false,
            "index": 0,
            "layout": "IPY_MODEL_436dbc25cbb04537a95f32aa18ce303a",
            "style": "IPY_MODEL_734d8295496f458d98a475d48f03a710"
          }
        },
        "436dbc25cbb04537a95f32aa18ce303a": {
          "model_module": "@jupyter-widgets/base",
          "model_name": "LayoutModel",
          "model_module_version": "1.2.0",
          "state": {
            "_model_module": "@jupyter-widgets/base",
            "_model_module_version": "1.2.0",
            "_model_name": "LayoutModel",
            "_view_count": null,
            "_view_module": "@jupyter-widgets/base",
            "_view_module_version": "1.2.0",
            "_view_name": "LayoutView",
            "align_content": null,
            "align_items": null,
            "align_self": null,
            "border": null,
            "bottom": null,
            "display": null,
            "flex": null,
            "flex_flow": null,
            "grid_area": null,
            "grid_auto_columns": null,
            "grid_auto_flow": null,
            "grid_auto_rows": null,
            "grid_column": null,
            "grid_gap": null,
            "grid_row": null,
            "grid_template_areas": null,
            "grid_template_columns": null,
            "grid_template_rows": null,
            "height": null,
            "justify_content": null,
            "justify_items": null,
            "left": null,
            "margin": null,
            "max_height": null,
            "max_width": null,
            "min_height": null,
            "min_width": null,
            "object_fit": null,
            "object_position": null,
            "order": null,
            "overflow": null,
            "overflow_x": null,
            "overflow_y": null,
            "padding": null,
            "right": null,
            "top": null,
            "visibility": null,
            "width": "50%"
          }
        },
        "734d8295496f458d98a475d48f03a710": {
          "model_module": "@jupyter-widgets/controls",
          "model_name": "DescriptionStyleModel",
          "model_module_version": "1.5.0",
          "state": {
            "_model_module": "@jupyter-widgets/controls",
            "_model_module_version": "1.5.0",
            "_model_name": "DescriptionStyleModel",
            "_view_count": null,
            "_view_module": "@jupyter-widgets/base",
            "_view_module_version": "1.2.0",
            "_view_name": "StyleView",
            "description_width": "initial"
          }
        },
        "f0dfe19754d54b0abb19e117cf375ea3": {
          "model_module": "@jupyter-widgets/controls",
          "model_name": "DropdownModel",
          "model_module_version": "1.5.0",
          "state": {
            "_dom_classes": [],
            "_model_module": "@jupyter-widgets/controls",
            "_model_module_version": "1.5.0",
            "_model_name": "DropdownModel",
            "_options_labels": [
              "Select answer",
              "Protocol",
              "Domain",
              "Path",
              "Query string"
            ],
            "_view_count": null,
            "_view_module": "@jupyter-widgets/controls",
            "_view_module_version": "1.5.0",
            "_view_name": "DropdownView",
            "description": "",
            "description_tooltip": null,
            "disabled": false,
            "index": 0,
            "layout": "IPY_MODEL_8fc35601f1a2489bbe096ecd22f7f413",
            "style": "IPY_MODEL_97ee41bdbc954d4f943c5e59bd1f73b2"
          }
        },
        "8fc35601f1a2489bbe096ecd22f7f413": {
          "model_module": "@jupyter-widgets/base",
          "model_name": "LayoutModel",
          "model_module_version": "1.2.0",
          "state": {
            "_model_module": "@jupyter-widgets/base",
            "_model_module_version": "1.2.0",
            "_model_name": "LayoutModel",
            "_view_count": null,
            "_view_module": "@jupyter-widgets/base",
            "_view_module_version": "1.2.0",
            "_view_name": "LayoutView",
            "align_content": null,
            "align_items": null,
            "align_self": null,
            "border": null,
            "bottom": null,
            "display": null,
            "flex": null,
            "flex_flow": null,
            "grid_area": null,
            "grid_auto_columns": null,
            "grid_auto_flow": null,
            "grid_auto_rows": null,
            "grid_column": null,
            "grid_gap": null,
            "grid_row": null,
            "grid_template_areas": null,
            "grid_template_columns": null,
            "grid_template_rows": null,
            "height": null,
            "justify_content": null,
            "justify_items": null,
            "left": null,
            "margin": null,
            "max_height": null,
            "max_width": null,
            "min_height": null,
            "min_width": null,
            "object_fit": null,
            "object_position": null,
            "order": null,
            "overflow": null,
            "overflow_x": null,
            "overflow_y": null,
            "padding": null,
            "right": null,
            "top": null,
            "visibility": null,
            "width": "50%"
          }
        },
        "97ee41bdbc954d4f943c5e59bd1f73b2": {
          "model_module": "@jupyter-widgets/controls",
          "model_name": "DescriptionStyleModel",
          "model_module_version": "1.5.0",
          "state": {
            "_model_module": "@jupyter-widgets/controls",
            "_model_module_version": "1.5.0",
            "_model_name": "DescriptionStyleModel",
            "_view_count": null,
            "_view_module": "@jupyter-widgets/base",
            "_view_module_version": "1.2.0",
            "_view_name": "StyleView",
            "description_width": "initial"
          }
        },
        "f637d820163e49ca93c6e132c88be713": {
          "model_module": "@jupyter-widgets/controls",
          "model_name": "DropdownModel",
          "model_module_version": "1.5.0",
          "state": {
            "_dom_classes": [],
            "_model_module": "@jupyter-widgets/controls",
            "_model_module_version": "1.5.0",
            "_model_name": "DropdownModel",
            "_options_labels": [
              "Select answer",
              "API version",
              "User ID",
              "Query parameter",
              "HTTP method"
            ],
            "_view_count": null,
            "_view_module": "@jupyter-widgets/controls",
            "_view_module_version": "1.5.0",
            "_view_name": "DropdownView",
            "description": "",
            "description_tooltip": null,
            "disabled": false,
            "index": 0,
            "layout": "IPY_MODEL_68d416ca5e4a4b7ea69ed2aaa1af0734",
            "style": "IPY_MODEL_82a3ab1d6dac4b98910a2e3e155a304a"
          }
        },
        "68d416ca5e4a4b7ea69ed2aaa1af0734": {
          "model_module": "@jupyter-widgets/base",
          "model_name": "LayoutModel",
          "model_module_version": "1.2.0",
          "state": {
            "_model_module": "@jupyter-widgets/base",
            "_model_module_version": "1.2.0",
            "_model_name": "LayoutModel",
            "_view_count": null,
            "_view_module": "@jupyter-widgets/base",
            "_view_module_version": "1.2.0",
            "_view_name": "LayoutView",
            "align_content": null,
            "align_items": null,
            "align_self": null,
            "border": null,
            "bottom": null,
            "display": null,
            "flex": null,
            "flex_flow": null,
            "grid_area": null,
            "grid_auto_columns": null,
            "grid_auto_flow": null,
            "grid_auto_rows": null,
            "grid_column": null,
            "grid_gap": null,
            "grid_row": null,
            "grid_template_areas": null,
            "grid_template_columns": null,
            "grid_template_rows": null,
            "height": null,
            "justify_content": null,
            "justify_items": null,
            "left": null,
            "margin": null,
            "max_height": null,
            "max_width": null,
            "min_height": null,
            "min_width": null,
            "object_fit": null,
            "object_position": null,
            "order": null,
            "overflow": null,
            "overflow_x": null,
            "overflow_y": null,
            "padding": null,
            "right": null,
            "top": null,
            "visibility": null,
            "width": "50%"
          }
        },
        "82a3ab1d6dac4b98910a2e3e155a304a": {
          "model_module": "@jupyter-widgets/controls",
          "model_name": "DescriptionStyleModel",
          "model_module_version": "1.5.0",
          "state": {
            "_model_module": "@jupyter-widgets/controls",
            "_model_module_version": "1.5.0",
            "_model_name": "DescriptionStyleModel",
            "_view_count": null,
            "_view_module": "@jupyter-widgets/base",
            "_view_module_version": "1.2.0",
            "_view_name": "StyleView",
            "description_width": "initial"
          }
        },
        "6537bbb7a6ec400894db2ff79441849a": {
          "model_module": "@jupyter-widgets/controls",
          "model_name": "DropdownModel",
          "model_module_version": "1.5.0",
          "state": {
            "_dom_classes": [],
            "_model_module": "@jupyter-widgets/controls",
            "_model_module_version": "1.5.0",
            "_model_name": "DropdownModel",
            "_options_labels": [
              "Select answer",
              "The molecular weight of an enzyme",
              "The structure of a protein",
              "The type of chemical reaction an enzyme catalyzes",
              "The location of the enzyme in the cell"
            ],
            "_view_count": null,
            "_view_module": "@jupyter-widgets/controls",
            "_view_module_version": "1.5.0",
            "_view_name": "DropdownView",
            "description": "",
            "description_tooltip": null,
            "disabled": false,
            "index": 0,
            "layout": "IPY_MODEL_c7d4f9b981944ec5b9c4e11b60d6f709",
            "style": "IPY_MODEL_538dfd4442b047cf9f5bcd0dad922217"
          }
        },
        "c7d4f9b981944ec5b9c4e11b60d6f709": {
          "model_module": "@jupyter-widgets/base",
          "model_name": "LayoutModel",
          "model_module_version": "1.2.0",
          "state": {
            "_model_module": "@jupyter-widgets/base",
            "_model_module_version": "1.2.0",
            "_model_name": "LayoutModel",
            "_view_count": null,
            "_view_module": "@jupyter-widgets/base",
            "_view_module_version": "1.2.0",
            "_view_name": "LayoutView",
            "align_content": null,
            "align_items": null,
            "align_self": null,
            "border": null,
            "bottom": null,
            "display": null,
            "flex": null,
            "flex_flow": null,
            "grid_area": null,
            "grid_auto_columns": null,
            "grid_auto_flow": null,
            "grid_auto_rows": null,
            "grid_column": null,
            "grid_gap": null,
            "grid_row": null,
            "grid_template_areas": null,
            "grid_template_columns": null,
            "grid_template_rows": null,
            "height": null,
            "justify_content": null,
            "justify_items": null,
            "left": null,
            "margin": null,
            "max_height": null,
            "max_width": null,
            "min_height": null,
            "min_width": null,
            "object_fit": null,
            "object_position": null,
            "order": null,
            "overflow": null,
            "overflow_x": null,
            "overflow_y": null,
            "padding": null,
            "right": null,
            "top": null,
            "visibility": null,
            "width": "50%"
          }
        },
        "538dfd4442b047cf9f5bcd0dad922217": {
          "model_module": "@jupyter-widgets/controls",
          "model_name": "DescriptionStyleModel",
          "model_module_version": "1.5.0",
          "state": {
            "_model_module": "@jupyter-widgets/controls",
            "_model_module_version": "1.5.0",
            "_model_name": "DescriptionStyleModel",
            "_view_count": null,
            "_view_module": "@jupyter-widgets/base",
            "_view_module_version": "1.2.0",
            "_view_name": "StyleView",
            "description_width": "initial"
          }
        },
        "16ab9759c83547748782f4e2a3327982": {
          "model_module": "@jupyter-widgets/controls",
          "model_name": "DropdownModel",
          "model_module_version": "1.5.0",
          "state": {
            "_dom_classes": [],
            "_model_module": "@jupyter-widgets/controls",
            "_model_module_version": "1.5.0",
            "_model_name": "DropdownModel",
            "_options_labels": [
              "Select answer",
              "2",
              "3",
              "4",
              "5"
            ],
            "_view_count": null,
            "_view_module": "@jupyter-widgets/controls",
            "_view_module_version": "1.5.0",
            "_view_name": "DropdownView",
            "description": "",
            "description_tooltip": null,
            "disabled": false,
            "index": 0,
            "layout": "IPY_MODEL_6123e48b68194e95adf3b7a14b0ba2bc",
            "style": "IPY_MODEL_362f5198e3c84317a51552610972bfe9"
          }
        },
        "6123e48b68194e95adf3b7a14b0ba2bc": {
          "model_module": "@jupyter-widgets/base",
          "model_name": "LayoutModel",
          "model_module_version": "1.2.0",
          "state": {
            "_model_module": "@jupyter-widgets/base",
            "_model_module_version": "1.2.0",
            "_model_name": "LayoutModel",
            "_view_count": null,
            "_view_module": "@jupyter-widgets/base",
            "_view_module_version": "1.2.0",
            "_view_name": "LayoutView",
            "align_content": null,
            "align_items": null,
            "align_self": null,
            "border": null,
            "bottom": null,
            "display": null,
            "flex": null,
            "flex_flow": null,
            "grid_area": null,
            "grid_auto_columns": null,
            "grid_auto_flow": null,
            "grid_auto_rows": null,
            "grid_column": null,
            "grid_gap": null,
            "grid_row": null,
            "grid_template_areas": null,
            "grid_template_columns": null,
            "grid_template_rows": null,
            "height": null,
            "justify_content": null,
            "justify_items": null,
            "left": null,
            "margin": null,
            "max_height": null,
            "max_width": null,
            "min_height": null,
            "min_width": null,
            "object_fit": null,
            "object_position": null,
            "order": null,
            "overflow": null,
            "overflow_x": null,
            "overflow_y": null,
            "padding": null,
            "right": null,
            "top": null,
            "visibility": null,
            "width": "50%"
          }
        },
        "362f5198e3c84317a51552610972bfe9": {
          "model_module": "@jupyter-widgets/controls",
          "model_name": "DescriptionStyleModel",
          "model_module_version": "1.5.0",
          "state": {
            "_model_module": "@jupyter-widgets/controls",
            "_model_module_version": "1.5.0",
            "_model_name": "DescriptionStyleModel",
            "_view_count": null,
            "_view_module": "@jupyter-widgets/base",
            "_view_module_version": "1.2.0",
            "_view_name": "StyleView",
            "description_width": "initial"
          }
        },
        "a201e9bea9324ce787cd658aa26f7819": {
          "model_module": "@jupyter-widgets/controls",
          "model_name": "ButtonModel",
          "model_module_version": "1.5.0",
          "state": {
            "_dom_classes": [],
            "_model_module": "@jupyter-widgets/controls",
            "_model_module_version": "1.5.0",
            "_model_name": "ButtonModel",
            "_view_count": null,
            "_view_module": "@jupyter-widgets/controls",
            "_view_module_version": "1.5.0",
            "_view_name": "ButtonView",
            "button_style": "success",
            "description": "Submit Answers",
            "disabled": false,
            "icon": "",
            "layout": "IPY_MODEL_5357765cf9654cd7b734b2f66c6ea25b",
            "style": "IPY_MODEL_39135fcf6fdf48508dfd5ba44406f309",
            "tooltip": ""
          }
        },
        "5357765cf9654cd7b734b2f66c6ea25b": {
          "model_module": "@jupyter-widgets/base",
          "model_name": "LayoutModel",
          "model_module_version": "1.2.0",
          "state": {
            "_model_module": "@jupyter-widgets/base",
            "_model_module_version": "1.2.0",
            "_model_name": "LayoutModel",
            "_view_count": null,
            "_view_module": "@jupyter-widgets/base",
            "_view_module_version": "1.2.0",
            "_view_name": "LayoutView",
            "align_content": null,
            "align_items": null,
            "align_self": null,
            "border": null,
            "bottom": null,
            "display": null,
            "flex": null,
            "flex_flow": null,
            "grid_area": null,
            "grid_auto_columns": null,
            "grid_auto_flow": null,
            "grid_auto_rows": null,
            "grid_column": null,
            "grid_gap": null,
            "grid_row": null,
            "grid_template_areas": null,
            "grid_template_columns": null,
            "grid_template_rows": null,
            "height": null,
            "justify_content": null,
            "justify_items": null,
            "left": null,
            "margin": null,
            "max_height": null,
            "max_width": null,
            "min_height": null,
            "min_width": null,
            "object_fit": null,
            "object_position": null,
            "order": null,
            "overflow": null,
            "overflow_x": null,
            "overflow_y": null,
            "padding": null,
            "right": null,
            "top": null,
            "visibility": null,
            "width": null
          }
        },
        "39135fcf6fdf48508dfd5ba44406f309": {
          "model_module": "@jupyter-widgets/controls",
          "model_name": "ButtonStyleModel",
          "model_module_version": "1.5.0",
          "state": {
            "_model_module": "@jupyter-widgets/controls",
            "_model_module_version": "1.5.0",
            "_model_name": "ButtonStyleModel",
            "_view_count": null,
            "_view_module": "@jupyter-widgets/base",
            "_view_module_version": "1.2.0",
            "_view_name": "StyleView",
            "button_color": null,
            "font_weight": ""
          }
        },
        "e69e813649864ab192f1f2642002d8e9": {
          "model_module": "@jupyter-widgets/output",
          "model_name": "OutputModel",
          "model_module_version": "1.0.0",
          "state": {
            "_dom_classes": [],
            "_model_module": "@jupyter-widgets/output",
            "_model_module_version": "1.0.0",
            "_model_name": "OutputModel",
            "_view_count": null,
            "_view_module": "@jupyter-widgets/output",
            "_view_module_version": "1.0.0",
            "_view_name": "OutputView",
            "layout": "IPY_MODEL_59fc1142d9ce436eafba564223cd92e3",
            "msg_id": "",
            "outputs": []
          }
        },
        "59fc1142d9ce436eafba564223cd92e3": {
          "model_module": "@jupyter-widgets/base",
          "model_name": "LayoutModel",
          "model_module_version": "1.2.0",
          "state": {
            "_model_module": "@jupyter-widgets/base",
            "_model_module_version": "1.2.0",
            "_model_name": "LayoutModel",
            "_view_count": null,
            "_view_module": "@jupyter-widgets/base",
            "_view_module_version": "1.2.0",
            "_view_name": "LayoutView",
            "align_content": null,
            "align_items": null,
            "align_self": null,
            "border": null,
            "bottom": null,
            "display": null,
            "flex": null,
            "flex_flow": null,
            "grid_area": null,
            "grid_auto_columns": null,
            "grid_auto_flow": null,
            "grid_auto_rows": null,
            "grid_column": null,
            "grid_gap": null,
            "grid_row": null,
            "grid_template_areas": null,
            "grid_template_columns": null,
            "grid_template_rows": null,
            "height": null,
            "justify_content": null,
            "justify_items": null,
            "left": null,
            "margin": null,
            "max_height": null,
            "max_width": null,
            "min_height": null,
            "min_width": null,
            "object_fit": null,
            "object_position": null,
            "order": null,
            "overflow": null,
            "overflow_x": null,
            "overflow_y": null,
            "padding": null,
            "right": null,
            "top": null,
            "visibility": null,
            "width": null
          }
        },
        "b76b50b49cec49ae941f4346dd2190d7": {
          "model_module": "@jupyter-widgets/controls",
          "model_name": "DropdownModel",
          "model_module_version": "1.5.0",
          "state": {
            "_dom_classes": [],
            "_model_module": "@jupyter-widgets/controls",
            "_model_module_version": "1.5.0",
            "_model_name": "DropdownModel",
            "_options_labels": [
              "Select answer",
              "To visualize protein structures",
              "To access and retrieve biological data from online databases",
              "To edit DNA sequences",
              "To create 3D models of enzymes"
            ],
            "_view_count": null,
            "_view_module": "@jupyter-widgets/controls",
            "_view_module_version": "1.5.0",
            "_view_name": "DropdownView",
            "description": "",
            "description_tooltip": null,
            "disabled": false,
            "index": 0,
            "layout": "IPY_MODEL_b539f81ff7a5469fb01bd909426023ec",
            "style": "IPY_MODEL_311dfe4264c24cfc97cb1693d8c25247"
          }
        },
        "b539f81ff7a5469fb01bd909426023ec": {
          "model_module": "@jupyter-widgets/base",
          "model_name": "LayoutModel",
          "model_module_version": "1.2.0",
          "state": {
            "_model_module": "@jupyter-widgets/base",
            "_model_module_version": "1.2.0",
            "_model_name": "LayoutModel",
            "_view_count": null,
            "_view_module": "@jupyter-widgets/base",
            "_view_module_version": "1.2.0",
            "_view_name": "LayoutView",
            "align_content": null,
            "align_items": null,
            "align_self": null,
            "border": null,
            "bottom": null,
            "display": null,
            "flex": null,
            "flex_flow": null,
            "grid_area": null,
            "grid_auto_columns": null,
            "grid_auto_flow": null,
            "grid_auto_rows": null,
            "grid_column": null,
            "grid_gap": null,
            "grid_row": null,
            "grid_template_areas": null,
            "grid_template_columns": null,
            "grid_template_rows": null,
            "height": null,
            "justify_content": null,
            "justify_items": null,
            "left": null,
            "margin": null,
            "max_height": null,
            "max_width": null,
            "min_height": null,
            "min_width": null,
            "object_fit": null,
            "object_position": null,
            "order": null,
            "overflow": null,
            "overflow_x": null,
            "overflow_y": null,
            "padding": null,
            "right": null,
            "top": null,
            "visibility": null,
            "width": "60%"
          }
        },
        "311dfe4264c24cfc97cb1693d8c25247": {
          "model_module": "@jupyter-widgets/controls",
          "model_name": "DescriptionStyleModel",
          "model_module_version": "1.5.0",
          "state": {
            "_model_module": "@jupyter-widgets/controls",
            "_model_module_version": "1.5.0",
            "_model_name": "DescriptionStyleModel",
            "_view_count": null,
            "_view_module": "@jupyter-widgets/base",
            "_view_module_version": "1.2.0",
            "_view_name": "StyleView",
            "description_width": "initial"
          }
        },
        "9c2b0c1d99184b4da2097f39f2f3cc6d": {
          "model_module": "@jupyter-widgets/controls",
          "model_name": "DropdownModel",
          "model_module_version": "1.5.0",
          "state": {
            "_dom_classes": [],
            "_model_module": "@jupyter-widgets/controls",
            "_model_module_version": "1.5.0",
            "_model_name": "DropdownModel",
            "_options_labels": [
              "Select answer",
              "define",
              "function",
              "def",
              "lambda"
            ],
            "_view_count": null,
            "_view_module": "@jupyter-widgets/controls",
            "_view_module_version": "1.5.0",
            "_view_name": "DropdownView",
            "description": "",
            "description_tooltip": null,
            "disabled": false,
            "index": 0,
            "layout": "IPY_MODEL_6c22b612f8db4a8b8948a4f730a807d5",
            "style": "IPY_MODEL_a80f137af1404a16be75baf106f1c5a4"
          }
        },
        "6c22b612f8db4a8b8948a4f730a807d5": {
          "model_module": "@jupyter-widgets/base",
          "model_name": "LayoutModel",
          "model_module_version": "1.2.0",
          "state": {
            "_model_module": "@jupyter-widgets/base",
            "_model_module_version": "1.2.0",
            "_model_name": "LayoutModel",
            "_view_count": null,
            "_view_module": "@jupyter-widgets/base",
            "_view_module_version": "1.2.0",
            "_view_name": "LayoutView",
            "align_content": null,
            "align_items": null,
            "align_self": null,
            "border": null,
            "bottom": null,
            "display": null,
            "flex": null,
            "flex_flow": null,
            "grid_area": null,
            "grid_auto_columns": null,
            "grid_auto_flow": null,
            "grid_auto_rows": null,
            "grid_column": null,
            "grid_gap": null,
            "grid_row": null,
            "grid_template_areas": null,
            "grid_template_columns": null,
            "grid_template_rows": null,
            "height": null,
            "justify_content": null,
            "justify_items": null,
            "left": null,
            "margin": null,
            "max_height": null,
            "max_width": null,
            "min_height": null,
            "min_width": null,
            "object_fit": null,
            "object_position": null,
            "order": null,
            "overflow": null,
            "overflow_x": null,
            "overflow_y": null,
            "padding": null,
            "right": null,
            "top": null,
            "visibility": null,
            "width": "60%"
          }
        },
        "a80f137af1404a16be75baf106f1c5a4": {
          "model_module": "@jupyter-widgets/controls",
          "model_name": "DescriptionStyleModel",
          "model_module_version": "1.5.0",
          "state": {
            "_model_module": "@jupyter-widgets/controls",
            "_model_module_version": "1.5.0",
            "_model_name": "DescriptionStyleModel",
            "_view_count": null,
            "_view_module": "@jupyter-widgets/base",
            "_view_module_version": "1.2.0",
            "_view_name": "StyleView",
            "description_width": "initial"
          }
        },
        "c0599c01271d4c818895a48319bb43e2": {
          "model_module": "@jupyter-widgets/controls",
          "model_name": "DropdownModel",
          "model_module_version": "1.5.0",
          "state": {
            "_dom_classes": [],
            "_model_module": "@jupyter-widgets/controls",
            "_model_module_version": "1.5.0",
            "_model_name": "DropdownModel",
            "_options_labels": [
              "Select answer",
              "List",
              "Tuple",
              "Dictionary",
              "String"
            ],
            "_view_count": null,
            "_view_module": "@jupyter-widgets/controls",
            "_view_module_version": "1.5.0",
            "_view_name": "DropdownView",
            "description": "",
            "description_tooltip": null,
            "disabled": false,
            "index": 0,
            "layout": "IPY_MODEL_6c338f7eed6049ee9801cfbd7c44ac0c",
            "style": "IPY_MODEL_31bb3475d71144a8b837c396910dd3c1"
          }
        },
        "6c338f7eed6049ee9801cfbd7c44ac0c": {
          "model_module": "@jupyter-widgets/base",
          "model_name": "LayoutModel",
          "model_module_version": "1.2.0",
          "state": {
            "_model_module": "@jupyter-widgets/base",
            "_model_module_version": "1.2.0",
            "_model_name": "LayoutModel",
            "_view_count": null,
            "_view_module": "@jupyter-widgets/base",
            "_view_module_version": "1.2.0",
            "_view_name": "LayoutView",
            "align_content": null,
            "align_items": null,
            "align_self": null,
            "border": null,
            "bottom": null,
            "display": null,
            "flex": null,
            "flex_flow": null,
            "grid_area": null,
            "grid_auto_columns": null,
            "grid_auto_flow": null,
            "grid_auto_rows": null,
            "grid_column": null,
            "grid_gap": null,
            "grid_row": null,
            "grid_template_areas": null,
            "grid_template_columns": null,
            "grid_template_rows": null,
            "height": null,
            "justify_content": null,
            "justify_items": null,
            "left": null,
            "margin": null,
            "max_height": null,
            "max_width": null,
            "min_height": null,
            "min_width": null,
            "object_fit": null,
            "object_position": null,
            "order": null,
            "overflow": null,
            "overflow_x": null,
            "overflow_y": null,
            "padding": null,
            "right": null,
            "top": null,
            "visibility": null,
            "width": "60%"
          }
        },
        "31bb3475d71144a8b837c396910dd3c1": {
          "model_module": "@jupyter-widgets/controls",
          "model_name": "DescriptionStyleModel",
          "model_module_version": "1.5.0",
          "state": {
            "_model_module": "@jupyter-widgets/controls",
            "_model_module_version": "1.5.0",
            "_model_name": "DescriptionStyleModel",
            "_view_count": null,
            "_view_module": "@jupyter-widgets/base",
            "_view_module_version": "1.2.0",
            "_view_name": "StyleView",
            "description_width": "initial"
          }
        },
        "7379a81915924426b720bb4a1a2b26e9": {
          "model_module": "@jupyter-widgets/controls",
          "model_name": "DropdownModel",
          "model_module_version": "1.5.0",
          "state": {
            "_dom_classes": [],
            "_model_module": "@jupyter-widgets/controls",
            "_model_module_version": "1.5.0",
            "_model_name": "DropdownModel",
            "_options_labels": [
              "Select answer",
              "To compress the data",
              "To visualize the data as a graph",
              "To make the data easier to analyze and manipulate",
              "To encrypt the data"
            ],
            "_view_count": null,
            "_view_module": "@jupyter-widgets/controls",
            "_view_module_version": "1.5.0",
            "_view_name": "DropdownView",
            "description": "",
            "description_tooltip": null,
            "disabled": false,
            "index": 0,
            "layout": "IPY_MODEL_6b1c6930338a4702843d4d93813c3018",
            "style": "IPY_MODEL_fa6e1f1647834cd09ebd4264b740fd2f"
          }
        },
        "6b1c6930338a4702843d4d93813c3018": {
          "model_module": "@jupyter-widgets/base",
          "model_name": "LayoutModel",
          "model_module_version": "1.2.0",
          "state": {
            "_model_module": "@jupyter-widgets/base",
            "_model_module_version": "1.2.0",
            "_model_name": "LayoutModel",
            "_view_count": null,
            "_view_module": "@jupyter-widgets/base",
            "_view_module_version": "1.2.0",
            "_view_name": "LayoutView",
            "align_content": null,
            "align_items": null,
            "align_self": null,
            "border": null,
            "bottom": null,
            "display": null,
            "flex": null,
            "flex_flow": null,
            "grid_area": null,
            "grid_auto_columns": null,
            "grid_auto_flow": null,
            "grid_auto_rows": null,
            "grid_column": null,
            "grid_gap": null,
            "grid_row": null,
            "grid_template_areas": null,
            "grid_template_columns": null,
            "grid_template_rows": null,
            "height": null,
            "justify_content": null,
            "justify_items": null,
            "left": null,
            "margin": null,
            "max_height": null,
            "max_width": null,
            "min_height": null,
            "min_width": null,
            "object_fit": null,
            "object_position": null,
            "order": null,
            "overflow": null,
            "overflow_x": null,
            "overflow_y": null,
            "padding": null,
            "right": null,
            "top": null,
            "visibility": null,
            "width": "60%"
          }
        },
        "fa6e1f1647834cd09ebd4264b740fd2f": {
          "model_module": "@jupyter-widgets/controls",
          "model_name": "DescriptionStyleModel",
          "model_module_version": "1.5.0",
          "state": {
            "_model_module": "@jupyter-widgets/controls",
            "_model_module_version": "1.5.0",
            "_model_name": "DescriptionStyleModel",
            "_view_count": null,
            "_view_module": "@jupyter-widgets/base",
            "_view_module_version": "1.2.0",
            "_view_name": "StyleView",
            "description_width": "initial"
          }
        },
        "16c49a135d0e4407abd0e6d23224f5e9": {
          "model_module": "@jupyter-widgets/controls",
          "model_name": "DropdownModel",
          "model_module_version": "1.5.0",
          "state": {
            "_dom_classes": [],
            "_model_module": "@jupyter-widgets/controls",
            "_model_module_version": "1.5.0",
            "_model_name": "DropdownModel",
            "_options_labels": [
              "Select answer",
              "pandas",
              "glom",
              "numpy",
              "json"
            ],
            "_view_count": null,
            "_view_module": "@jupyter-widgets/controls",
            "_view_module_version": "1.5.0",
            "_view_name": "DropdownView",
            "description": "",
            "description_tooltip": null,
            "disabled": false,
            "index": 0,
            "layout": "IPY_MODEL_4cc2054e4c3f45f1b099aa7019049154",
            "style": "IPY_MODEL_22ae4e985e2e41be95efd590f449c3e3"
          }
        },
        "4cc2054e4c3f45f1b099aa7019049154": {
          "model_module": "@jupyter-widgets/base",
          "model_name": "LayoutModel",
          "model_module_version": "1.2.0",
          "state": {
            "_model_module": "@jupyter-widgets/base",
            "_model_module_version": "1.2.0",
            "_model_name": "LayoutModel",
            "_view_count": null,
            "_view_module": "@jupyter-widgets/base",
            "_view_module_version": "1.2.0",
            "_view_name": "LayoutView",
            "align_content": null,
            "align_items": null,
            "align_self": null,
            "border": null,
            "bottom": null,
            "display": null,
            "flex": null,
            "flex_flow": null,
            "grid_area": null,
            "grid_auto_columns": null,
            "grid_auto_flow": null,
            "grid_auto_rows": null,
            "grid_column": null,
            "grid_gap": null,
            "grid_row": null,
            "grid_template_areas": null,
            "grid_template_columns": null,
            "grid_template_rows": null,
            "height": null,
            "justify_content": null,
            "justify_items": null,
            "left": null,
            "margin": null,
            "max_height": null,
            "max_width": null,
            "min_height": null,
            "min_width": null,
            "object_fit": null,
            "object_position": null,
            "order": null,
            "overflow": null,
            "overflow_x": null,
            "overflow_y": null,
            "padding": null,
            "right": null,
            "top": null,
            "visibility": null,
            "width": "60%"
          }
        },
        "22ae4e985e2e41be95efd590f449c3e3": {
          "model_module": "@jupyter-widgets/controls",
          "model_name": "DescriptionStyleModel",
          "model_module_version": "1.5.0",
          "state": {
            "_model_module": "@jupyter-widgets/controls",
            "_model_module_version": "1.5.0",
            "_model_name": "DescriptionStyleModel",
            "_view_count": null,
            "_view_module": "@jupyter-widgets/base",
            "_view_module_version": "1.2.0",
            "_view_name": "StyleView",
            "description_width": "initial"
          }
        },
        "082b0866a3a248809a3e8ff734d136b5": {
          "model_module": "@jupyter-widgets/controls",
          "model_name": "DropdownModel",
          "model_module_version": "1.5.0",
          "state": {
            "_dom_classes": [],
            "_model_module": "@jupyter-widgets/controls",
            "_model_module_version": "1.5.0",
            "_model_name": "DropdownModel",
            "_options_labels": [
              "Select answer",
              "Create plots from data",
              "Access deeply nested data structures easily",
              "Connect to APIs",
              "Clean missing values in a DataFrame"
            ],
            "_view_count": null,
            "_view_module": "@jupyter-widgets/controls",
            "_view_module_version": "1.5.0",
            "_view_name": "DropdownView",
            "description": "",
            "description_tooltip": null,
            "disabled": false,
            "index": 0,
            "layout": "IPY_MODEL_023b7730171c41ad828112645f0abb44",
            "style": "IPY_MODEL_6197ab56cb17414daa68f729fe56b5f6"
          }
        },
        "023b7730171c41ad828112645f0abb44": {
          "model_module": "@jupyter-widgets/base",
          "model_name": "LayoutModel",
          "model_module_version": "1.2.0",
          "state": {
            "_model_module": "@jupyter-widgets/base",
            "_model_module_version": "1.2.0",
            "_model_name": "LayoutModel",
            "_view_count": null,
            "_view_module": "@jupyter-widgets/base",
            "_view_module_version": "1.2.0",
            "_view_name": "LayoutView",
            "align_content": null,
            "align_items": null,
            "align_self": null,
            "border": null,
            "bottom": null,
            "display": null,
            "flex": null,
            "flex_flow": null,
            "grid_area": null,
            "grid_auto_columns": null,
            "grid_auto_flow": null,
            "grid_auto_rows": null,
            "grid_column": null,
            "grid_gap": null,
            "grid_row": null,
            "grid_template_areas": null,
            "grid_template_columns": null,
            "grid_template_rows": null,
            "height": null,
            "justify_content": null,
            "justify_items": null,
            "left": null,
            "margin": null,
            "max_height": null,
            "max_width": null,
            "min_height": null,
            "min_width": null,
            "object_fit": null,
            "object_position": null,
            "order": null,
            "overflow": null,
            "overflow_x": null,
            "overflow_y": null,
            "padding": null,
            "right": null,
            "top": null,
            "visibility": null,
            "width": "60%"
          }
        },
        "6197ab56cb17414daa68f729fe56b5f6": {
          "model_module": "@jupyter-widgets/controls",
          "model_name": "DescriptionStyleModel",
          "model_module_version": "1.5.0",
          "state": {
            "_model_module": "@jupyter-widgets/controls",
            "_model_module_version": "1.5.0",
            "_model_name": "DescriptionStyleModel",
            "_view_count": null,
            "_view_module": "@jupyter-widgets/base",
            "_view_module_version": "1.2.0",
            "_view_name": "StyleView",
            "description_width": "initial"
          }
        },
        "cc731da96dac4e74ac8a32012a59834a": {
          "model_module": "@jupyter-widgets/controls",
          "model_name": "DropdownModel",
          "model_module_version": "1.5.0",
          "state": {
            "_dom_classes": [],
            "_model_module": "@jupyter-widgets/controls",
            "_model_module_version": "1.5.0",
            "_model_name": "DropdownModel",
            "_options_labels": [
              "Select answer",
              "Visualize the data",
              "Parse the JSON",
              "Send a request to the API",
              "Save the data to a file"
            ],
            "_view_count": null,
            "_view_module": "@jupyter-widgets/controls",
            "_view_module_version": "1.5.0",
            "_view_name": "DropdownView",
            "description": "",
            "description_tooltip": null,
            "disabled": false,
            "index": 0,
            "layout": "IPY_MODEL_44aabeb36c9e48cf834601ae4ad4f448",
            "style": "IPY_MODEL_6ea9fbfbed634f53b795f36333334f9c"
          }
        },
        "44aabeb36c9e48cf834601ae4ad4f448": {
          "model_module": "@jupyter-widgets/base",
          "model_name": "LayoutModel",
          "model_module_version": "1.2.0",
          "state": {
            "_model_module": "@jupyter-widgets/base",
            "_model_module_version": "1.2.0",
            "_model_name": "LayoutModel",
            "_view_count": null,
            "_view_module": "@jupyter-widgets/base",
            "_view_module_version": "1.2.0",
            "_view_name": "LayoutView",
            "align_content": null,
            "align_items": null,
            "align_self": null,
            "border": null,
            "bottom": null,
            "display": null,
            "flex": null,
            "flex_flow": null,
            "grid_area": null,
            "grid_auto_columns": null,
            "grid_auto_flow": null,
            "grid_auto_rows": null,
            "grid_column": null,
            "grid_gap": null,
            "grid_row": null,
            "grid_template_areas": null,
            "grid_template_columns": null,
            "grid_template_rows": null,
            "height": null,
            "justify_content": null,
            "justify_items": null,
            "left": null,
            "margin": null,
            "max_height": null,
            "max_width": null,
            "min_height": null,
            "min_width": null,
            "object_fit": null,
            "object_position": null,
            "order": null,
            "overflow": null,
            "overflow_x": null,
            "overflow_y": null,
            "padding": null,
            "right": null,
            "top": null,
            "visibility": null,
            "width": "60%"
          }
        },
        "6ea9fbfbed634f53b795f36333334f9c": {
          "model_module": "@jupyter-widgets/controls",
          "model_name": "DescriptionStyleModel",
          "model_module_version": "1.5.0",
          "state": {
            "_model_module": "@jupyter-widgets/controls",
            "_model_module_version": "1.5.0",
            "_model_name": "DescriptionStyleModel",
            "_view_count": null,
            "_view_module": "@jupyter-widgets/base",
            "_view_module_version": "1.2.0",
            "_view_name": "StyleView",
            "description_width": "initial"
          }
        },
        "0a5b2f4aff7e4d9c839f0b45af7e0757": {
          "model_module": "@jupyter-widgets/controls",
          "model_name": "DropdownModel",
          "model_module_version": "1.5.0",
          "state": {
            "_dom_classes": [],
            "_model_module": "@jupyter-widgets/controls",
            "_model_module_version": "1.5.0",
            "_model_name": "DropdownModel",
            "_options_labels": [
              "Select answer",
              "matplotlib",
              "glom",
              "pandas",
              "requests"
            ],
            "_view_count": null,
            "_view_module": "@jupyter-widgets/controls",
            "_view_module_version": "1.5.0",
            "_view_name": "DropdownView",
            "description": "",
            "description_tooltip": null,
            "disabled": false,
            "index": 0,
            "layout": "IPY_MODEL_840e745617b6466abd138711e3a5f643",
            "style": "IPY_MODEL_bcfe39b751864693bbef52bea3b85f77"
          }
        },
        "840e745617b6466abd138711e3a5f643": {
          "model_module": "@jupyter-widgets/base",
          "model_name": "LayoutModel",
          "model_module_version": "1.2.0",
          "state": {
            "_model_module": "@jupyter-widgets/base",
            "_model_module_version": "1.2.0",
            "_model_name": "LayoutModel",
            "_view_count": null,
            "_view_module": "@jupyter-widgets/base",
            "_view_module_version": "1.2.0",
            "_view_name": "LayoutView",
            "align_content": null,
            "align_items": null,
            "align_self": null,
            "border": null,
            "bottom": null,
            "display": null,
            "flex": null,
            "flex_flow": null,
            "grid_area": null,
            "grid_auto_columns": null,
            "grid_auto_flow": null,
            "grid_auto_rows": null,
            "grid_column": null,
            "grid_gap": null,
            "grid_row": null,
            "grid_template_areas": null,
            "grid_template_columns": null,
            "grid_template_rows": null,
            "height": null,
            "justify_content": null,
            "justify_items": null,
            "left": null,
            "margin": null,
            "max_height": null,
            "max_width": null,
            "min_height": null,
            "min_width": null,
            "object_fit": null,
            "object_position": null,
            "order": null,
            "overflow": null,
            "overflow_x": null,
            "overflow_y": null,
            "padding": null,
            "right": null,
            "top": null,
            "visibility": null,
            "width": "60%"
          }
        },
        "bcfe39b751864693bbef52bea3b85f77": {
          "model_module": "@jupyter-widgets/controls",
          "model_name": "DescriptionStyleModel",
          "model_module_version": "1.5.0",
          "state": {
            "_model_module": "@jupyter-widgets/controls",
            "_model_module_version": "1.5.0",
            "_model_name": "DescriptionStyleModel",
            "_view_count": null,
            "_view_module": "@jupyter-widgets/base",
            "_view_module_version": "1.2.0",
            "_view_name": "StyleView",
            "description_width": "initial"
          }
        },
        "cc5286dca15e41c5bc6e6ebb98d5ced0": {
          "model_module": "@jupyter-widgets/controls",
          "model_name": "DropdownModel",
          "model_module_version": "1.5.0",
          "state": {
            "_dom_classes": [],
            "_model_module": "@jupyter-widgets/controls",
            "_model_module_version": "1.5.0",
            "_model_name": "DropdownModel",
            "_options_labels": [
              "Select answer",
              "By generating random data",
              "By automatically fixing bugs and suggesting improvements",
              "By visualizing protein structures",
              "By encrypting sensitive data"
            ],
            "_view_count": null,
            "_view_module": "@jupyter-widgets/controls",
            "_view_module_version": "1.5.0",
            "_view_name": "DropdownView",
            "description": "",
            "description_tooltip": null,
            "disabled": false,
            "index": 0,
            "layout": "IPY_MODEL_4f2212ce77604796b285b74364e7a656",
            "style": "IPY_MODEL_88532bc49fdb4693a8931996a7f4f079"
          }
        },
        "4f2212ce77604796b285b74364e7a656": {
          "model_module": "@jupyter-widgets/base",
          "model_name": "LayoutModel",
          "model_module_version": "1.2.0",
          "state": {
            "_model_module": "@jupyter-widgets/base",
            "_model_module_version": "1.2.0",
            "_model_name": "LayoutModel",
            "_view_count": null,
            "_view_module": "@jupyter-widgets/base",
            "_view_module_version": "1.2.0",
            "_view_name": "LayoutView",
            "align_content": null,
            "align_items": null,
            "align_self": null,
            "border": null,
            "bottom": null,
            "display": null,
            "flex": null,
            "flex_flow": null,
            "grid_area": null,
            "grid_auto_columns": null,
            "grid_auto_flow": null,
            "grid_auto_rows": null,
            "grid_column": null,
            "grid_gap": null,
            "grid_row": null,
            "grid_template_areas": null,
            "grid_template_columns": null,
            "grid_template_rows": null,
            "height": null,
            "justify_content": null,
            "justify_items": null,
            "left": null,
            "margin": null,
            "max_height": null,
            "max_width": null,
            "min_height": null,
            "min_width": null,
            "object_fit": null,
            "object_position": null,
            "order": null,
            "overflow": null,
            "overflow_x": null,
            "overflow_y": null,
            "padding": null,
            "right": null,
            "top": null,
            "visibility": null,
            "width": "60%"
          }
        },
        "88532bc49fdb4693a8931996a7f4f079": {
          "model_module": "@jupyter-widgets/controls",
          "model_name": "DescriptionStyleModel",
          "model_module_version": "1.5.0",
          "state": {
            "_model_module": "@jupyter-widgets/controls",
            "_model_module_version": "1.5.0",
            "_model_name": "DescriptionStyleModel",
            "_view_count": null,
            "_view_module": "@jupyter-widgets/base",
            "_view_module_version": "1.2.0",
            "_view_name": "StyleView",
            "description_width": "initial"
          }
        },
        "36c14cf63b8341588f8f52b2eabc43b4": {
          "model_module": "@jupyter-widgets/controls",
          "model_name": "DropdownModel",
          "model_module_version": "1.5.0",
          "state": {
            "_dom_classes": [],
            "_model_module": "@jupyter-widgets/controls",
            "_model_module_version": "1.5.0",
            "_model_name": "DropdownModel",
            "_options_labels": [
              "Select answer",
              "No, each chain can only have one EC number",
              "Yes, if the chain catalyzes multiple distinct reactions",
              "Only if the protein is from a eukaryotic organism",
              "Only if the structure is a homodimer"
            ],
            "_view_count": null,
            "_view_module": "@jupyter-widgets/controls",
            "_view_module_version": "1.5.0",
            "_view_name": "DropdownView",
            "description": "",
            "description_tooltip": null,
            "disabled": false,
            "index": 0,
            "layout": "IPY_MODEL_66a9412245b548edaba579bd61424d62",
            "style": "IPY_MODEL_5c2222b3ad3747e690a505aa6a333b35"
          }
        },
        "66a9412245b548edaba579bd61424d62": {
          "model_module": "@jupyter-widgets/base",
          "model_name": "LayoutModel",
          "model_module_version": "1.2.0",
          "state": {
            "_model_module": "@jupyter-widgets/base",
            "_model_module_version": "1.2.0",
            "_model_name": "LayoutModel",
            "_view_count": null,
            "_view_module": "@jupyter-widgets/base",
            "_view_module_version": "1.2.0",
            "_view_name": "LayoutView",
            "align_content": null,
            "align_items": null,
            "align_self": null,
            "border": null,
            "bottom": null,
            "display": null,
            "flex": null,
            "flex_flow": null,
            "grid_area": null,
            "grid_auto_columns": null,
            "grid_auto_flow": null,
            "grid_auto_rows": null,
            "grid_column": null,
            "grid_gap": null,
            "grid_row": null,
            "grid_template_areas": null,
            "grid_template_columns": null,
            "grid_template_rows": null,
            "height": null,
            "justify_content": null,
            "justify_items": null,
            "left": null,
            "margin": null,
            "max_height": null,
            "max_width": null,
            "min_height": null,
            "min_width": null,
            "object_fit": null,
            "object_position": null,
            "order": null,
            "overflow": null,
            "overflow_x": null,
            "overflow_y": null,
            "padding": null,
            "right": null,
            "top": null,
            "visibility": null,
            "width": "60%"
          }
        },
        "5c2222b3ad3747e690a505aa6a333b35": {
          "model_module": "@jupyter-widgets/controls",
          "model_name": "DescriptionStyleModel",
          "model_module_version": "1.5.0",
          "state": {
            "_model_module": "@jupyter-widgets/controls",
            "_model_module_version": "1.5.0",
            "_model_name": "DescriptionStyleModel",
            "_view_count": null,
            "_view_module": "@jupyter-widgets/base",
            "_view_module_version": "1.2.0",
            "_view_name": "StyleView",
            "description_width": "initial"
          }
        },
        "e925061734ae49199dadb4800588ca29": {
          "model_module": "@jupyter-widgets/controls",
          "model_name": "ButtonModel",
          "model_module_version": "1.5.0",
          "state": {
            "_dom_classes": [],
            "_model_module": "@jupyter-widgets/controls",
            "_model_module_version": "1.5.0",
            "_model_name": "ButtonModel",
            "_view_count": null,
            "_view_module": "@jupyter-widgets/controls",
            "_view_module_version": "1.5.0",
            "_view_name": "ButtonView",
            "button_style": "success",
            "description": "Submit Answers",
            "disabled": false,
            "icon": "",
            "layout": "IPY_MODEL_761c8342f2bd47cdbc6866cba4f0632a",
            "style": "IPY_MODEL_2dd8bd4c1d454f7a834d4e5a783f888a",
            "tooltip": ""
          }
        },
        "761c8342f2bd47cdbc6866cba4f0632a": {
          "model_module": "@jupyter-widgets/base",
          "model_name": "LayoutModel",
          "model_module_version": "1.2.0",
          "state": {
            "_model_module": "@jupyter-widgets/base",
            "_model_module_version": "1.2.0",
            "_model_name": "LayoutModel",
            "_view_count": null,
            "_view_module": "@jupyter-widgets/base",
            "_view_module_version": "1.2.0",
            "_view_name": "LayoutView",
            "align_content": null,
            "align_items": null,
            "align_self": null,
            "border": null,
            "bottom": null,
            "display": null,
            "flex": null,
            "flex_flow": null,
            "grid_area": null,
            "grid_auto_columns": null,
            "grid_auto_flow": null,
            "grid_auto_rows": null,
            "grid_column": null,
            "grid_gap": null,
            "grid_row": null,
            "grid_template_areas": null,
            "grid_template_columns": null,
            "grid_template_rows": null,
            "height": null,
            "justify_content": null,
            "justify_items": null,
            "left": null,
            "margin": null,
            "max_height": null,
            "max_width": null,
            "min_height": null,
            "min_width": null,
            "object_fit": null,
            "object_position": null,
            "order": null,
            "overflow": null,
            "overflow_x": null,
            "overflow_y": null,
            "padding": null,
            "right": null,
            "top": null,
            "visibility": null,
            "width": null
          }
        },
        "2dd8bd4c1d454f7a834d4e5a783f888a": {
          "model_module": "@jupyter-widgets/controls",
          "model_name": "ButtonStyleModel",
          "model_module_version": "1.5.0",
          "state": {
            "_model_module": "@jupyter-widgets/controls",
            "_model_module_version": "1.5.0",
            "_model_name": "ButtonStyleModel",
            "_view_count": null,
            "_view_module": "@jupyter-widgets/base",
            "_view_module_version": "1.2.0",
            "_view_name": "StyleView",
            "button_color": null,
            "font_weight": ""
          }
        },
        "af82af8f0d514b66b01655a2df9acc89": {
          "model_module": "@jupyter-widgets/output",
          "model_name": "OutputModel",
          "model_module_version": "1.0.0",
          "state": {
            "_dom_classes": [],
            "_model_module": "@jupyter-widgets/output",
            "_model_module_version": "1.0.0",
            "_model_name": "OutputModel",
            "_view_count": null,
            "_view_module": "@jupyter-widgets/output",
            "_view_module_version": "1.0.0",
            "_view_name": "OutputView",
            "layout": "IPY_MODEL_e86ef1f040b94491b85d34d7c3cafd9f",
            "msg_id": "",
            "outputs": []
          }
        },
        "e86ef1f040b94491b85d34d7c3cafd9f": {
          "model_module": "@jupyter-widgets/base",
          "model_name": "LayoutModel",
          "model_module_version": "1.2.0",
          "state": {
            "_model_module": "@jupyter-widgets/base",
            "_model_module_version": "1.2.0",
            "_model_name": "LayoutModel",
            "_view_count": null,
            "_view_module": "@jupyter-widgets/base",
            "_view_module_version": "1.2.0",
            "_view_name": "LayoutView",
            "align_content": null,
            "align_items": null,
            "align_self": null,
            "border": null,
            "bottom": null,
            "display": null,
            "flex": null,
            "flex_flow": null,
            "grid_area": null,
            "grid_auto_columns": null,
            "grid_auto_flow": null,
            "grid_auto_rows": null,
            "grid_column": null,
            "grid_gap": null,
            "grid_row": null,
            "grid_template_areas": null,
            "grid_template_columns": null,
            "grid_template_rows": null,
            "height": null,
            "justify_content": null,
            "justify_items": null,
            "left": null,
            "margin": null,
            "max_height": null,
            "max_width": null,
            "min_height": null,
            "min_width": null,
            "object_fit": null,
            "object_position": null,
            "order": null,
            "overflow": null,
            "overflow_x": null,
            "overflow_y": null,
            "padding": null,
            "right": null,
            "top": null,
            "visibility": null,
            "width": null
          }
        }
      }
    }
  },
  "cells": [
    {
      "cell_type": "markdown",
      "metadata": {
        "id": "view-in-github",
        "colab_type": "text"
      },
      "source": [
        "<a href=\"https://colab.research.google.com/github/glevans/PDB_Notebooks/blob/main/FEBS_engineering_enzymes_2025/1_ACTIVITY_Enzymes_and_PDBeAPIs.ipynb\" target=\"_parent\"><img src=\"https://colab.research.google.com/assets/colab-badge.svg\" alt=\"Open In Colab\"/></a>"
      ]
    },
    {
      "cell_type": "markdown",
      "source": [
        "# 🧬 Exploring PDBe APIs for Enzyme Classifications\n",
        "\n",
        "<img src=\"https://www.ebi.ac.uk/pdbe/docs_dev/logos/images/RGB/PDBe-logo-RGB_2013.png\" height=\"180\" align=\"right\">\n",
        "\n",
        "In this notebook, you'll learn how to:\n",
        "\n",
        "- Access and parse biological data from an API\n",
        "- Understand the relationship between macromolecular structures & EC (Enzyme Commission) numbers\n",
        "- Make use of Python definitions\n",
        "- Transform nested JSON data into a structured `DataFrame`\n",
        "- Introduction to `glom` which is Python package useful for nested data\n",
        "- Use AI to bugfix and improve Python code\n",
        "\n",
        "<br>\n",
        "\n",
        "---"
      ],
      "metadata": {
        "id": "xwyYc4Qf8wor"
      }
    },
    {
      "cell_type": "markdown",
      "source": [
        "##ℹ️ **Introduction**"
      ],
      "metadata": {
        "id": "xNAfmMefKNYq"
      }
    },
    {
      "cell_type": "markdown",
      "source": [
        "### **What is the Protein Data Bank (PDB)?**\n",
        "\n",
        "The **Protein Data Bank (PDB)** contains experimentally-determined 3D structures of biological molecules, such as protein, DNA and RNA.\n",
        "\n",
        "The **Protein Data Bank in Europe (PDBe)** is the European branch of the PDB that helps prepare, share, organize and visualize protein structure data for scientists worldwide. PDBe is based at the **European Bioinformatics Institute (EMBL-EBI)**, a global leader in bioinformatic tools and resources. EMBL-EBI provides freely available data, tools, and services to support life science research."
      ],
      "metadata": {
        "id": "xda2FykZVFdu"
      }
    },
    {
      "cell_type": "markdown",
      "source": [
        "### **What are EC Numbers?**\n",
        "\n",
        "EC (Enzyme Commission) numbers classify enzymes based on the chemical reactions they catalyze. Each EC numbers consists of up to four-part (*e.g.* 2.7.1.1), forming a hierarchical identifier that reflects an enzyme’s function. While full four-part identifiers specify a unique enzymatic activity, two-part and three-part identifiers are often used when the exact substrate or reaction details are unknown or variable. These shorter EC numbers group enzymes by broader functional categories, making them useful for preliminary enzyme classification or when an enzyme acts on a range of substrates.\n",
        "\n",
        "**Example: EC 2.7.1.1**\n",
        "\n",
        "*  **2:** Transferase – an enzyme that transfers functional groups.\n",
        "*  **7:** Transfers phosphorus-containing groups.\n",
        "*  **1:** Transfers a phosphate group to an alcohol group.\n",
        "*  **1:** Specifies the complete reaction: ATP + D-hexose → ADP + D-hexose 6-phosphate.\n",
        "\n",
        "<br>\n",
        "\n",
        "Mapping EC numbers to protein chains in PDB entries helps researchers understand the biological role of a protein structure.\n",
        "\n",
        "Information on EC numbers, enzyme reactions, and enzyme names at PDBe is sourced from:\n",
        "\n",
        "*   [Expasy ENZYME - Enzyme nomenclature database](https://enzyme.expasy.org/)\n",
        "*   [ExplorEnz - the Enzyme Database](https://www.enzyme-database.org/)\n",
        "\n",
        "Previously, this data was obtained from [Intenz](https://pmc.ncbi.nlm.nih.gov/articles/PMC308853/). However, this resources is no longer available."
      ],
      "metadata": {
        "id": "A-eJs314JzDP"
      }
    },
    {
      "cell_type": "markdown",
      "source": [
        "### **What is a Python definition?**\n",
        "\n",
        "A Python definition is a way to create a reusable block of code that does something specific."
      ],
      "metadata": {
        "id": "i3q4qLSzTrmM"
      }
    },
    {
      "cell_type": "markdown",
      "source": [
        "### **What is a API?**\n",
        "<img src=\"https://github.com/glevans/7ADD-workshop-2024/blob/main/Images/API_image.png?raw=true\" height=\"140\" align=\"right\">\n",
        "\n",
        "The API is a programmatic way to obtain information. APIs are in the background providing information we see on websites such as [PDBe's website](https://pdbe.org). Using Python code to access APIs enables faster analysis than can be obtained by viewing information directly on websites.\n",
        "\n",
        "For more information on PDBe's APIs, visit:\n",
        "\n",
        "*   [http://www.ebi.ac.uk/pdbe/pdbe-rest-api](http://www.ebi.ac.uk/pdbe/pdbe-rest-api)\n",
        "*   [https://www.ebi.ac.uk/pdbe/api/v2/#/](https://www.ebi.ac.uk/pdbe/api/v2/#/)"
      ],
      "metadata": {
        "id": "ygRj7IBpKTJA"
      }
    },
    {
      "cell_type": "markdown",
      "source": [
        "### **API Request Components**\n",
        "\n",
        "An example of an PDBe API endpoint:\n",
        "\n",
        "[https://www.ebi.ac.uk/pdbe/api/mappings/ec/2XFU](https://www.ebi.ac.uk/pdbe/api/mappings/ec/2XFU)"
      ],
      "metadata": {
        "id": "9mxhkzHPOB6u"
      }
    },
    {
      "cell_type": "markdown",
      "source": [
        "#### *Protocol*\n",
        "\n",
        "```\n",
        "https://\n",
        "```\n",
        "\n",
        "This is the communication protocol used to make the API request."
      ],
      "metadata": {
        "id": "ZtHKd4qnOlsx"
      }
    },
    {
      "cell_type": "markdown",
      "source": [
        "#### *Domain or Host*\n",
        "\n",
        "www.ebi.ac.uk (European Bioinformatics Institute)"
      ],
      "metadata": {
        "id": "semGQ9rCSGWO"
      }
    },
    {
      "cell_type": "markdown",
      "source": [
        "#### *API Structure or Path*\n",
        "\n",
        "PDBe API v2 uses service-specific endpoint patterns, such as:\n",
        "\n",
        "**Mappings:** `/pdbe/api/mappings/{type}/{id}`\n",
        "\n",
        "**Entry Data:** `/pdbe/api/pdb/entry/{data}/{id}`\n",
        "\n",
        "**Validation:** `/pdbe/api/validation/{type}/{id}`\n",
        "\n",
        "Each service has its own optimized URL structure designed for that specific functionality, making the API more intuitive."
      ],
      "metadata": {
        "id": "d0GljWXBOrQn"
      }
    },
    {
      "cell_type": "markdown",
      "source": [
        "#### *Query string -- ID*\n",
        "\n",
        "Some examples of IDs used for querying PDBe's API endpoints:\n",
        "\n",
        "##### **1. 🧪 PDB Identifiers**\n",
        "```\n",
        "Format: [0-9][A-Za-z0-9]{3}\n",
        "Examples: 1mso, 8a3h, 2ins\n",
        "```\n",
        "- **Primary Resource ID**: Most common identifier type\n",
        "- **4-character alphanumeric**: First character is numeric (0-9), followed by 3 alphanumeric\n",
        "- **Case insensitive**: API accepts both uppercase and lowercase\n",
        "- **Usage**: For experimentally-detemined structure endpoints\n",
        "\n",
        "<br>\n",
        "\n",
        "##### **2. ⚗️ Chemical Component Dictionary Identifiers (or HET codes)**\n",
        "```\n",
        "Format: [A-Z0-9]{1,3,5}\n",
        "Examples: ATP, NAD, HEM, ZN, SO4, A1L3O (5-Hydroxyuridine 5'-phosphate)\n",
        "```\n",
        "- **Chemical identifiers**: 1, 3 or 5 character codes for non-polymer entities\n",
        "- **Standardized**: Defined by wwPDB Chemical Component Dictionary\n",
        "- **Types include**:\n",
        "  - **Ligands**: ATP (adenosine triphosphate), NAD (nicotinamide adenine dinucleotide)\n",
        "  - **Cofactors**: HEM (heme), FAD (flavin adenine dinucleotide)\n",
        "  - **Metals**: ZN (zinc), CA (calcium), MG (magnesium)\n",
        "  - **Solvents**: GOL (glycerol), SO4 (sulfate)\n",
        "- **Usage**: For small molecule / ligand-specific endpoints\n"
      ],
      "metadata": {
        "id": "dyKUbHCjN9k9"
      }
    },
    {
      "cell_type": "markdown",
      "source": [
        "### **What is a Notebook?**\n",
        "\n",
        "A **Colab** or **Jupyter** notebook corresponds to a file with the extension `.ipynb`.\n",
        "\n",
        "Notebooks are useful for sharing examples of code and exploring progammatic ways of handling data.\n",
        "\n",
        "<br>\n",
        "\n",
        "To use this notebook in **Colab** (link at top of the page):\n",
        "\n",
        "*   you will need to have a Google account\n",
        "*   be logged in to Google Colab (by being logged into Google account)\n",
        "\n",
        "<br>\n",
        "\n",
        "To use as a **Jupyter** notebook, download & viewed with:\n",
        "\n",
        "*   a local installation of [Jupyter](https://jupyter.org/)\n",
        "*   a browser instance of [JupyterLab](https://jupyter.org/try-jupyter/lab/)\n",
        "\n",
        "<br>"
      ],
      "metadata": {
        "id": "5dp6BpjhJy4v"
      }
    },
    {
      "cell_type": "markdown",
      "source": [
        "<br>\n",
        "\n",
        "---\n",
        "\n",
        "## How to use this notebook <a name=\"Quick Start\"></a>\n",
        "1. To run a code cell, click on the cell to select it. You will notice a play button (▶️) on the left side of the cell. Click on the play button or press Shift+Enter to run the code in the selected cell.\n",
        "2. The code will start executing, and you will see the output, if any, displayed below the code cell.\n",
        "3. Move to the next code cell and repeat steps 2 and 3 until you have executed all the desired code cells in sequence.\n",
        "4. The currently running step is indicated by a circle with a stop sign next to it.\n",
        "If you need to stop or interrupt the execution of a code cell, you can click on the stop button (■) located next to the play button.\n",
        "5. The exercise & bonus challenges had empty code cells will require the addition of code before they are run.\n",
        "\n",
        "*Remember to run the code cells in the correct order, as their execution might depend on variables or functions defined in previous cells. You can modify the code in a code cell and re-run it to see updated results.*\n",
        "\n",
        "<br>\n",
        "\n",
        "---\n",
        "\n",
        "## Contact us\n",
        "\n",
        "If you experience any bugs please contact pdbehelp@ebi.ac.uk and put \"Help with\" and the title of the notebook in the subject line of the message.\n"
      ],
      "metadata": {
        "id": "v7cYcoBq9B9g"
      }
    },
    {
      "cell_type": "markdown",
      "source": [
        "##⚙️ **Setup**\n",
        "\n"
      ],
      "metadata": {
        "id": "KrQ5Yq848ebj"
      }
    },
    {
      "cell_type": "markdown",
      "source": [
        "###📦 Step 1: Install Required Package\n",
        "Ensure the `glom` package is installed.\n",
        "\n",
        "This is used to simplify data extraction from nested data structures."
      ],
      "metadata": {
        "id": "lT5PKwyf_MmT"
      }
    },
    {
      "cell_type": "markdown",
      "source": [
        "To run a BASH command in a Notebook, one adds `!` before the command.\n",
        "\n",
        "Many python packages are available from [PyPi](https://pypi.org/).\n",
        "\n",
        "The BASH command `pip install` installs from PyPi."
      ],
      "metadata": {
        "id": "15_haVDsu2J7"
      }
    },
    {
      "cell_type": "code",
      "source": [
        "# Install glom if not already installed\n",
        "!pip install glom"
      ],
      "metadata": {
        "id": "3AQYTNpNXQq5"
      },
      "execution_count": null,
      "outputs": []
    },
    {
      "cell_type": "markdown",
      "source": [
        "### 📥 Step 2: Import Modules\n",
        "Import all necessary Python modules for data fetching, transformation, and display."
      ],
      "metadata": {
        "id": "vsfOXpEi_VbQ"
      }
    },
    {
      "cell_type": "markdown",
      "source": [
        "We will be using Python packages / modules:\n",
        "\n",
        "*   [requests](https://docs.python.org/3/library/re.html) - allows you to send HTTP/1.1 requests extremely easily.\n",
        "*   [pandas](https://pandas.pydata.org/) - for working with data in tables, like spreadsheets\n",
        "*   [glom](https://glom.readthedocs.io/en/stable/) - for exploring and accessing information in nested data structures, such as that from APIs\n",
        "\n",
        "<br>"
      ],
      "metadata": {
        "id": "jPRMmXXmZ4Ny"
      }
    },
    {
      "cell_type": "code",
      "source": [
        "# Import necessary modules\n",
        "import requests\n",
        "from glom import glom, Coalesce\n",
        "import pandas as pd"
      ],
      "metadata": {
        "id": "S735LdtW-7Wd"
      },
      "execution_count": null,
      "outputs": []
    },
    {
      "cell_type": "markdown",
      "source": [
        "###🌐 Step 3: Fetch Data from an API\n",
        "\n",
        "We will be using the PDBe API to retrieve enzyme classification (EC) mapping data for a specific PDB entry (2XFU)."
      ],
      "metadata": {
        "id": "PLdFrOAw_ZvN"
      }
    },
    {
      "cell_type": "code",
      "source": [
        "url_2xfu = \"https://www.ebi.ac.uk/pdbe/api/mappings/ec/2XFU\"\n",
        "response_2xfu = requests.get(url_2xfu)\n",
        "data_2xfu = response_2xfu.json()"
      ],
      "metadata": {
        "id": "tKASZoU1XQes"
      },
      "execution_count": null,
      "outputs": []
    },
    {
      "cell_type": "markdown",
      "source": [
        "To view this API endpoints output (for query `2XFU`):\n",
        "\n",
        "[https://www.ebi.ac.uk/pdbe/api/mappings/ec/2XFU](https://www.ebi.ac.uk/pdbe/api/mappings/ec/2XFU)\n",
        "\n",
        "\n",
        "<br>\n",
        "\n",
        "Information from this API is formatted as a JSON object.\n",
        "\n",
        "\n",
        "\n",
        "---\n",
        "\n",
        "\n"
      ],
      "metadata": {
        "id": "XWbFydpqCdsO"
      }
    },
    {
      "cell_type": "markdown",
      "source": [
        "## 🧭 **Exploring API endpoint data structure**\n"
      ],
      "metadata": {
        "id": "wFlrAr6x8dHI"
      }
    },
    {
      "cell_type": "markdown",
      "source": [
        "### 🔑 Step 1: Top-Level Keys\n",
        "\n",
        "Use this to get a quick overview of the the top-level division of information from the API."
      ],
      "metadata": {
        "id": "M6Dxi8Ns8q1J"
      }
    },
    {
      "cell_type": "code",
      "source": [
        "# Print top-level keys to understand the structure\n",
        "print(data_2xfu.keys())"
      ],
      "metadata": {
        "id": "dKurtVWpXQV3"
      },
      "execution_count": null,
      "outputs": []
    },
    {
      "cell_type": "markdown",
      "source": [
        "### 🧰 Step 2: Map All Keys\n",
        "\n",
        "We are using a Python definition to find all the dictionary keys in the nested structure.\n",
        "\n",
        "This is useful approach for understanding deeply nested JSON objects."
      ],
      "metadata": {
        "id": "qL87rSuF85Be"
      }
    },
    {
      "cell_type": "markdown",
      "source": [
        "🧠 **Function: map_keys**"
      ],
      "metadata": {
        "id": "nJ4qtxrn9VHx"
      }
    },
    {
      "cell_type": "code",
      "source": [
        "# Define a recursive function to map all keys\n",
        "def map_keys(d, level=0, path=''):\n",
        "    # If the current object is a dictionary\n",
        "    if isinstance(d, dict):\n",
        "        for k, v in d.items():\n",
        "            # Build the full path to the current key\n",
        "            full_path = f\"{path}.{k}\" if path else k\n",
        "            # Print the key with indentation based on the current level\n",
        "            print(\"  \" * level + f\"- {full_path}\")\n",
        "            # Recursively call map_keys on the value\n",
        "            map_keys(v, level + 1, full_path)\n",
        "\n",
        "    # If the current object is a list\n",
        "    elif isinstance(d, list):\n",
        "        for i, item in enumerate(d):\n",
        "            # Build the full path to the current list index\n",
        "            full_path = f\"{path}[{i}]\"\n",
        "            # Recursively call map_keys on the list item\n",
        "            map_keys(item, level + 1, full_path)"
      ],
      "metadata": {
        "id": "Q5mUbhgGbM8a"
      },
      "execution_count": 1,
      "outputs": []
    },
    {
      "cell_type": "markdown",
      "source": [
        "▶️ **Run the Function**"
      ],
      "metadata": {
        "id": "NR_WWDua9cnO"
      }
    },
    {
      "cell_type": "code",
      "source": [
        "# Call the function on your JSON-like data structure\n",
        "map_keys(data_2xfu)"
      ],
      "metadata": {
        "id": "aaKCNu5rbRTB"
      },
      "execution_count": null,
      "outputs": []
    },
    {
      "cell_type": "markdown",
      "source": [
        "###🗺️ Step 3: Map all keys with added information on data structure\n",
        "\n",
        "We are using a Python definition to see all dictionary keys, with added information.\n",
        "\n",
        "The below code reports at each level in the nested data whether data is structured as:\n",
        "\n",
        "*   dictionary\n",
        "*   list\n",
        "*   string"
      ],
      "metadata": {
        "id": "PbC2AHMy9ql5"
      }
    },
    {
      "cell_type": "code",
      "source": [
        "def json_structure_report(data, level=0, path='root', show_values=False, max_depth=None):\n",
        "    \"\"\"\n",
        "    Recursively reports the type of each layer in a nested JSON-like structure.\n",
        "\n",
        "    Parameters:\n",
        "    - data: The JSON-like object (dict or list) to inspect.\n",
        "    - level: Current depth level (used for indentation).\n",
        "    - path: String representing the path to the current node.\n",
        "    - show_values: If True, prints the value for non-dict-keys/list types.\n",
        "    - max_depth: If set, limits the depth of recursion.\n",
        "    \"\"\"\n",
        "    indent = \"  \" * level  # Indentation for visual hierarchy\n",
        "\n",
        "    # Stop recursion if max_depth is reached\n",
        "    if max_depth is not None and level > max_depth:\n",
        "        print(f\"{indent}{path} ... (max depth reached)\")\n",
        "        return\n",
        "\n",
        "    if isinstance(data, dict):\n",
        "        print(f\"{indent}{path} is a dictionary with {len(data)} keys: {list(data.keys())}\")\n",
        "        for key, value in data.items():\n",
        "            json_structure_report(value, level + 1, f\"{path}.{key}\", show_values, max_depth)\n",
        "\n",
        "    elif isinstance(data, list):\n",
        "        print(f\"{indent}{path} is a list with {len(data)} items\")\n",
        "        for i, item in enumerate(data):\n",
        "            json_structure_report(item, level + 1, f\"{path}[{i}]\", show_values, max_depth)\n",
        "\n",
        "    else:\n",
        "        # For primitive types (str, int, etc.)\n",
        "        type_name = type(data).__name__\n",
        "        if show_values:\n",
        "            print(f\"{indent}{path} is a {type_name} with value: {repr(data)}\")\n",
        "        else:\n",
        "            print(f\"{indent}{path} is a {type_name}\")"
      ],
      "metadata": {
        "id": "gS5FZ8r3emux"
      },
      "execution_count": null,
      "outputs": []
    },
    {
      "cell_type": "markdown",
      "source": [
        "▶️ **Run the Function**"
      ],
      "metadata": {
        "id": "MRWNWEyl9wsp"
      }
    },
    {
      "cell_type": "code",
      "source": [
        "# Call the function on your JSON-like data structure\n",
        "json_structure_report(data_2xfu, show_values=True)"
      ],
      "metadata": {
        "id": "mKxHBoBhg067"
      },
      "execution_count": null,
      "outputs": []
    },
    {
      "cell_type": "markdown",
      "source": [
        "##🔍 **1) EXERCISE - PROVIDED EXAMPLE**\n",
        "\n",
        "\n",
        "\n",
        "\n",
        "\n",
        "\n"
      ],
      "metadata": {
        "id": "SA22dGnLwoxM"
      }
    },
    {
      "cell_type": "markdown",
      "source": [
        "###❓ **TASK 1:** Suggest bug fixes for the code below.\n",
        "\n",
        "\n",
        "The code was generated by AI and contains errors.\n",
        "\n",
        "*HINT: Use insights from the functions* `map_keys` *and* `json_structure_report`.\n",
        "\n",
        "\n",
        "<br>\n",
        "\n",
        "---"
      ],
      "metadata": {
        "id": "SKbpRgKH7jrD"
      }
    },
    {
      "cell_type": "markdown",
      "source": [
        "🐞 **Original Code with Bugs**"
      ],
      "metadata": {
        "id": "bmVABiKP6Grh"
      }
    },
    {
      "cell_type": "code",
      "source": [
        "# Extract the list of EC mappings\n",
        "ecmappings = glom(data_2xfu, '2XFU.EC', default=[])\n",
        "print(ecmappings)\n",
        "\n",
        "# Create an empty list to store EC numbers\n",
        "ecnumbers = []\n",
        "\n",
        "# Loop through each entry in the ecmappings list\n",
        "for details in ecmappings:\n",
        "    # Extract the value associated with the 'ecnumber' key\n",
        "    ec_number = details['ecnumber']\n",
        "    # Append the EC number to the list\n",
        "    ecnumbers.append(ec_number)\n",
        "\n",
        "print(\"Extracted EC Numbers:\", ecnumbers)"
      ],
      "metadata": {
        "id": "gLq4L4G4Wllw"
      },
      "execution_count": null,
      "outputs": []
    },
    {
      "cell_type": "markdown",
      "source": [
        "###🧪 **SOLUTION 1:** Bug Fixes and Explanation\n",
        "\n",
        "\n",
        "*   Issue 1: Incorrect capitalization of PDB ID (2XFU should be lowercase: 2xfu)\n",
        "*   Issue 2: '2xfu.EC' refers to a **dictionary**, not a\n",
        "*   Issue 3: 'ecnumber' is NOT a **dictionary key**"
      ],
      "metadata": {
        "id": "1naKqJ5Exk9l"
      }
    },
    {
      "cell_type": "code",
      "source": [
        "# Extract the list of EC mappings\n",
        "ecmappings = glom(data_2xfu, '2xfu.EC', default={})\n",
        "\n",
        "# Create an empty list to store EC numbers\n",
        "ecnumbers = []\n",
        "\n",
        "# Loop through each key in the ecmappings dictionary\n",
        "for ec_number in ecmappings.keys():\n",
        "    # Append each EC number to the list\n",
        "    ecnumbers.append(ec_number)\n",
        "\n",
        "print(\"Extracted EC Numbers:\", ecnumbers)"
      ],
      "metadata": {
        "id": "NzAgnYlocNXp"
      },
      "execution_count": null,
      "outputs": []
    },
    {
      "cell_type": "markdown",
      "source": [
        "##🔍 **2) EXERCISE**"
      ],
      "metadata": {
        "id": "-Ah_YdhOzh3j"
      }
    },
    {
      "cell_type": "markdown",
      "source": [
        "###❓ **TASK 2:** Suggest bug fixes for the code below.\n",
        "\n",
        "The code was generated by AI and contains errors.\n",
        "\n",
        "*HINT1: Use insights from the functions* `map_keys` *and* `json_structure_report`.\n",
        "\n",
        "*HINT2: You can use AI to help find with the bug fixing*.\n",
        "\n",
        "<br>\n",
        "\n",
        "---"
      ],
      "metadata": {
        "id": "lbQp2rXn68bF"
      }
    },
    {
      "cell_type": "markdown",
      "source": [
        "🐞 **Original Code with Bugs**"
      ],
      "metadata": {
        "id": "0X56v1gP6RLl"
      }
    },
    {
      "cell_type": "code",
      "execution_count": null,
      "metadata": {
        "id": "3XKcE5-OTxmX"
      },
      "outputs": [],
      "source": [
        "# Step 1: Extract EC numbers and associated chain IDs\n",
        "ec_mappings = data_2xfu.get(\"2XFU\", {}).get(\"EC\", [])\n",
        "rows = []\n",
        "for details in ec_mappings:\n",
        "    ec_number = details.get(\"ec_number\")\n",
        "    for mapping in details.get(\"mappings\", []):\n",
        "        chain_id = mapping.get(\"chain_id\")\n",
        "        rows.append({\"EC Number\": ec_number, \"Chain ID\": chain_id})\n",
        "\n",
        "# Step 2: Create a DataFrame\n",
        "df = pd.DataFrame(rows)\n",
        "\n",
        "# Step 3: Display a DataFrame / Table\n",
        "display(df)"
      ]
    },
    {
      "cell_type": "markdown",
      "source": [
        "###🧪 **SOLUTION 2:** Bug Fixing\n"
      ],
      "metadata": {
        "id": "4JfXPMl_0Fg6"
      }
    },
    {
      "cell_type": "code",
      "execution_count": null,
      "metadata": {
        "id": "PytrHc9vh0ES"
      },
      "outputs": [],
      "source": []
    },
    {
      "cell_type": "markdown",
      "source": [
        "## 📝 Quick Review Quiz 1"
      ],
      "metadata": {
        "id": "vMng8S0j7mUu"
      }
    },
    {
      "cell_type": "code",
      "source": [
        "#@title Press shift+enter to start the quiz\n",
        "\n",
        "# @markdown Please enter select appropriate answers below.\n",
        "\n",
        "import ipywidgets as widgets\n",
        "from IPython.display import display, Markdown\n",
        "\n",
        "# Define questions and answers\n",
        "questions = [\n",
        "    {\n",
        "        \"question\": \"1. What does 'API' stand for?\",\n",
        "        \"options\": [\n",
        "            \"Automated Program Integration\",\n",
        "            \"Advanced Protocol Interface\",\n",
        "            \"Application Programming Interface\",\n",
        "            \"Applied Programming Instruction\"\n",
        "        ],\n",
        "        \"correct\": \"Application Programming Interface\"\n",
        "    },\n",
        "    {\n",
        "        \"question\": \"2. Which part of an API endpoint typically specifies the resource being accessed?\",\n",
        "        \"options\": [\n",
        "            \"Protocol\",\n",
        "            \"Domain\",\n",
        "            \"Path\",\n",
        "            \"Query string\"\n",
        "        ],\n",
        "        \"correct\": \"Path\"\n",
        "    },\n",
        "    {\n",
        "        \"question\": \"3. In the endpoint `https://api.example.com/users/123`, what does 123 represent?\",\n",
        "        \"options\": [\n",
        "            \"API version\",\n",
        "            \"User ID\",\n",
        "            \"Query parameter\",\n",
        "            \"HTTP method\"\n",
        "        ],\n",
        "        \"correct\": \"User ID\"\n",
        "    },\n",
        "    {\n",
        "        \"question\": \"4. What does an EC number represent?\",\n",
        "        \"options\": [\n",
        "            \"The molecular weight of an enzyme\",\n",
        "            \"The structure of a protein\",\n",
        "            \"The type of chemical reaction an enzyme catalyzes\",\n",
        "            \"The location of the enzyme in the cell\"\n",
        "        ],\n",
        "        \"correct\": \"The type of chemical reaction an enzyme catalyzes\"\n",
        "    },\n",
        "    {\n",
        "        \"question\": \"5. How many parts are there in a full EC number?\",\n",
        "        \"options\": [\n",
        "            \"2\",\n",
        "            \"3\",\n",
        "            \"4\",\n",
        "            \"5\"\n",
        "        ],\n",
        "        \"correct\": \"4\"\n",
        "    }\n",
        "]\n",
        "\n",
        "# Create dropdowns\n",
        "dropdowns = []\n",
        "for q in questions:\n",
        "    display(Markdown(f\"### {q['question']}\"))\n",
        "    dd = widgets.Dropdown(\n",
        "        options=[\"Select answer\"] + q[\"options\"],\n",
        "        value=\"Select answer\",\n",
        "        description='',\n",
        "        style={'description_width': 'initial'},\n",
        "        layout=widgets.Layout(width='50%')\n",
        "    )\n",
        "    dropdowns.append(dd)\n",
        "    display(dd)\n",
        "\n",
        "# Button to submit answers\n",
        "submit_button = widgets.Button(description=\"Submit Answers\", button_style='success')\n",
        "output = widgets.Output()\n",
        "\n",
        "def check_answers(b):\n",
        "    score = 0\n",
        "    output.clear_output()\n",
        "    with output:\n",
        "        for i, dd in enumerate(dropdowns):\n",
        "            selected = dd.value\n",
        "            correct = questions[i][\"correct\"]\n",
        "            if selected == correct:\n",
        "                print(f\"✅ Question {i+1}: Correct\")\n",
        "                score += 1\n",
        "            else:\n",
        "                print(f\"❌ Question {i+1}: Incorrect (You chose '{selected}', correct is '{correct}')\")\n",
        "        print(f\"\\n🎉 Final Score: {score} out of {len(questions)}\")\n",
        "\n",
        "submit_button.on_click(check_answers)\n",
        "display(submit_button, output)"
      ],
      "metadata": {
        "colab": {
          "base_uri": "https://localhost:8080/",
          "height": 395,
          "referenced_widgets": [
            "8557a992dffb4cd98f5eb9db3026fe60",
            "436dbc25cbb04537a95f32aa18ce303a",
            "734d8295496f458d98a475d48f03a710",
            "f0dfe19754d54b0abb19e117cf375ea3",
            "8fc35601f1a2489bbe096ecd22f7f413",
            "97ee41bdbc954d4f943c5e59bd1f73b2",
            "f637d820163e49ca93c6e132c88be713",
            "68d416ca5e4a4b7ea69ed2aaa1af0734",
            "82a3ab1d6dac4b98910a2e3e155a304a",
            "6537bbb7a6ec400894db2ff79441849a",
            "c7d4f9b981944ec5b9c4e11b60d6f709",
            "538dfd4442b047cf9f5bcd0dad922217",
            "16ab9759c83547748782f4e2a3327982",
            "6123e48b68194e95adf3b7a14b0ba2bc",
            "362f5198e3c84317a51552610972bfe9",
            "a201e9bea9324ce787cd658aa26f7819",
            "5357765cf9654cd7b734b2f66c6ea25b",
            "39135fcf6fdf48508dfd5ba44406f309",
            "e69e813649864ab192f1f2642002d8e9",
            "59fc1142d9ce436eafba564223cd92e3"
          ]
        },
        "cellView": "form",
        "id": "A_tsaHtSo0nV",
        "outputId": "0f4b9771-e0db-4a87-93ef-2ddf19aa39d1"
      },
      "execution_count": null,
      "outputs": [
        {
          "output_type": "display_data",
          "data": {
            "text/plain": [
              "<IPython.core.display.Markdown object>"
            ],
            "text/markdown": "### 1. What does 'API' stand for?"
          },
          "metadata": {}
        },
        {
          "output_type": "display_data",
          "data": {
            "text/plain": [
              "Dropdown(layout=Layout(width='50%'), options=('Select answer', 'Automated Program Integration', 'Advanced Prot…"
            ],
            "application/vnd.jupyter.widget-view+json": {
              "version_major": 2,
              "version_minor": 0,
              "model_id": "8557a992dffb4cd98f5eb9db3026fe60"
            }
          },
          "metadata": {}
        },
        {
          "output_type": "display_data",
          "data": {
            "text/plain": [
              "<IPython.core.display.Markdown object>"
            ],
            "text/markdown": "### 2. Which part of an API endpoint typically specifies the resource being accessed?"
          },
          "metadata": {}
        },
        {
          "output_type": "display_data",
          "data": {
            "text/plain": [
              "Dropdown(layout=Layout(width='50%'), options=('Select answer', 'Protocol', 'Domain', 'Path', 'Query string'), …"
            ],
            "application/vnd.jupyter.widget-view+json": {
              "version_major": 2,
              "version_minor": 0,
              "model_id": "f0dfe19754d54b0abb19e117cf375ea3"
            }
          },
          "metadata": {}
        },
        {
          "output_type": "display_data",
          "data": {
            "text/plain": [
              "<IPython.core.display.Markdown object>"
            ],
            "text/markdown": "### 3. In the endpoint `https://api.example.com/users/123`, what does 123 represent?"
          },
          "metadata": {}
        },
        {
          "output_type": "display_data",
          "data": {
            "text/plain": [
              "Dropdown(layout=Layout(width='50%'), options=('Select answer', 'API version', 'User ID', 'Query parameter', 'H…"
            ],
            "application/vnd.jupyter.widget-view+json": {
              "version_major": 2,
              "version_minor": 0,
              "model_id": "f637d820163e49ca93c6e132c88be713"
            }
          },
          "metadata": {}
        },
        {
          "output_type": "display_data",
          "data": {
            "text/plain": [
              "<IPython.core.display.Markdown object>"
            ],
            "text/markdown": "### 4. What does an EC number represent?"
          },
          "metadata": {}
        },
        {
          "output_type": "display_data",
          "data": {
            "text/plain": [
              "Dropdown(layout=Layout(width='50%'), options=('Select answer', 'The molecular weight of an enzyme', 'The struc…"
            ],
            "application/vnd.jupyter.widget-view+json": {
              "version_major": 2,
              "version_minor": 0,
              "model_id": "6537bbb7a6ec400894db2ff79441849a"
            }
          },
          "metadata": {}
        },
        {
          "output_type": "display_data",
          "data": {
            "text/plain": [
              "<IPython.core.display.Markdown object>"
            ],
            "text/markdown": "### 5. How many parts are there in a full EC number?"
          },
          "metadata": {}
        },
        {
          "output_type": "display_data",
          "data": {
            "text/plain": [
              "Dropdown(layout=Layout(width='50%'), options=('Select answer', '2', '3', '4', '5'), style=DescriptionStyle(des…"
            ],
            "application/vnd.jupyter.widget-view+json": {
              "version_major": 2,
              "version_minor": 0,
              "model_id": "16ab9759c83547748782f4e2a3327982"
            }
          },
          "metadata": {}
        },
        {
          "output_type": "display_data",
          "data": {
            "text/plain": [
              "Button(button_style='success', description='Submit Answers', style=ButtonStyle())"
            ],
            "application/vnd.jupyter.widget-view+json": {
              "version_major": 2,
              "version_minor": 0,
              "model_id": "a201e9bea9324ce787cd658aa26f7819"
            }
          },
          "metadata": {}
        },
        {
          "output_type": "display_data",
          "data": {
            "text/plain": [
              "Output()"
            ],
            "application/vnd.jupyter.widget-view+json": {
              "version_major": 2,
              "version_minor": 0,
              "model_id": "e69e813649864ab192f1f2642002d8e9"
            }
          },
          "metadata": {}
        }
      ]
    },
    {
      "cell_type": "markdown",
      "source": [
        "##🔍 **3) EXERCISE**"
      ],
      "metadata": {
        "id": "rf-8b__2Q9BF"
      }
    },
    {
      "cell_type": "markdown",
      "source": [
        "###❓ **TASK 3:** Replace the PDB id in the Python code & get a different output\n",
        "\n",
        "Replace the PDB id with a new id - `3DIV`\n"
      ],
      "metadata": {
        "id": "AXJMaTolVNuN"
      }
    },
    {
      "cell_type": "markdown",
      "source": [
        "###🧪 **SOLUTION 3:** Replacing PDB id\n",
        "\n",
        "\n"
      ],
      "metadata": {
        "id": "llw_WJTYVn-1"
      }
    },
    {
      "cell_type": "code",
      "source": [],
      "metadata": {
        "id": "kRInZlJfQ8Ka"
      },
      "execution_count": null,
      "outputs": []
    },
    {
      "cell_type": "markdown",
      "source": [
        "## 📝 Quick Review Quiz 2"
      ],
      "metadata": {
        "id": "VHfLbFkOsbLk"
      }
    },
    {
      "cell_type": "code",
      "source": [
        "#@title Press shift+enter to start the quiz\n",
        "\n",
        "# @markdown Please enter select appropriate answers below.\n",
        "\n",
        "import ipywidgets as widgets\n",
        "from IPython.display import display, Markdown\n",
        "\n",
        "# Define questions and answers\n",
        "questions = [\n",
        "    {\n",
        "        \"question\": \"1. What is the main purpose of using an API in bioinformatics?\",\n",
        "        \"options\": [\n",
        "            \"To visualize protein structures\",\n",
        "            \"To access and retrieve biological data from online databases\",\n",
        "            \"To edit DNA sequences\",\n",
        "            \"To create 3D models of enzymes\"\n",
        "        ],\n",
        "        \"correct\": \"To access and retrieve biological data from online databases\"\n",
        "    },\n",
        "    {\n",
        "        \"question\": \"2. Which Python keyword is used to define a function?\",\n",
        "        \"options\": [\n",
        "            \"define\",\n",
        "            \"function\",\n",
        "            \"def\",\n",
        "            \"lambda\"\n",
        "        ],\n",
        "        \"correct\": \"def\"\n",
        "    },\n",
        "    {\n",
        "        \"question\": \"3. What Python data type is commonly used to store parsed JSON data?\",\n",
        "        \"options\": [\n",
        "            \"List\",\n",
        "            \"Tuple\",\n",
        "            \"Dictionary\",\n",
        "            \"String\"\n",
        "        ],\n",
        "        \"correct\": \"Dictionary\"\n",
        "    },\n",
        "    {\n",
        "        \"question\": \"4. What is the purpose of transforming nested JSON into a DataFrame?\",\n",
        "        \"options\": [\n",
        "            \"To compress the data\",\n",
        "            \"To visualize the data as a graph\",\n",
        "            \"To make the data easier to analyze and manipulate\",\n",
        "            \"To encrypt the data\"\n",
        "        ],\n",
        "        \"correct\": \"To make the data easier to analyze and manipulate\"\n",
        "    },\n",
        "    {\n",
        "        \"question\": \"5. Which Python package is introduced in the notebook for handling nested data?\",\n",
        "        \"options\": [\n",
        "            \"pandas\",\n",
        "            \"glom\",\n",
        "            \"numpy\",\n",
        "            \"json\"\n",
        "        ],\n",
        "        \"correct\": \"glom\"\n",
        "    },\n",
        "    {\n",
        "        \"question\": \"6. What does the `glom` package help you do?\",\n",
        "        \"options\": [\n",
        "            \"Create plots from data\",\n",
        "            \"Access deeply nested data structures easily\",\n",
        "            \"Connect to APIs\",\n",
        "            \"Clean missing values in a DataFrame\"\n",
        "        ],\n",
        "        \"correct\": \"Access deeply nested data structures easily\"\n",
        "    },\n",
        "    {\n",
        "        \"question\": \"7. What is the first step when working with data from an API?\",\n",
        "        \"options\": [\n",
        "            \"Visualize the data\",\n",
        "            \"Parse the JSON\",\n",
        "            \"Send a request to the API\",\n",
        "            \"Save the data to a file\"\n",
        "        ],\n",
        "        \"correct\": \"Send a request to the API\"\n",
        "    },\n",
        "    {\n",
        "        \"question\": \"8. Which Python library is commonly used to convert JSON data into a DataFrame?\",\n",
        "        \"options\": [\n",
        "            \"matplotlib\",\n",
        "            \"glom\",\n",
        "            \"pandas\",\n",
        "            \"requests\"\n",
        "        ],\n",
        "        \"correct\": \"pandas\"\n",
        "    },\n",
        "    {\n",
        "        \"question\": \"9. How can AI help improve Python code in this notebook?\",\n",
        "        \"options\": [\n",
        "            \"By generating random data\",\n",
        "            \"By automatically fixing bugs and suggesting improvements\",\n",
        "            \"By visualizing protein structures\",\n",
        "            \"By encrypting sensitive data\"\n",
        "        ],\n",
        "        \"correct\": \"By automatically fixing bugs and suggesting improvements\"\n",
        "    },\n",
        "    {\n",
        "        \"question\": \"10. Can a single protein chain in a structure be assigned more than one EC number?\",\n",
        "        \"options\": [\n",
        "            \"No, each chain can only have one EC number\",\n",
        "            \"Yes, if the chain catalyzes multiple distinct reactions\",\n",
        "            \"Only if the protein is from a eukaryotic organism\",\n",
        "            \"Only if the structure is a homodimer\"\n",
        "        ],\n",
        "        \"correct\": \"Yes, if the chain catalyzes multiple distinct reactions\"\n",
        "    }\n",
        "]\n",
        "\n",
        "# Create dropdowns\n",
        "dropdowns = []\n",
        "for q in questions:\n",
        "    display(Markdown(f\"### {q['question']}\"))\n",
        "    dd = widgets.Dropdown(\n",
        "        options=[\"Select answer\"] + q[\"options\"],\n",
        "        value=\"Select answer\",\n",
        "        description='',\n",
        "        style={'description_width': 'initial'},\n",
        "        layout=widgets.Layout(width='60%')\n",
        "    )\n",
        "    dropdowns.append(dd)\n",
        "    display(dd)\n",
        "\n",
        "# Button to submit answers\n",
        "submit_button = widgets.Button(description=\"Submit Answers\", button_style='success')\n",
        "output = widgets.Output()\n",
        "\n",
        "def check_answers(b):\n",
        "    score = 0\n",
        "    output.clear_output()\n",
        "    with output:\n",
        "        for i, dd in enumerate(dropdowns):\n",
        "            selected = dd.value\n",
        "            correct = questions[i][\"correct\"]\n",
        "            if selected == correct:\n",
        "                print(f\"✅ Question {i+1}: Correct\")\n",
        "                score += 1\n",
        "            else:\n",
        "                print(f\"❌ Question {i+1}: Incorrect (You chose '{selected}', correct is '{correct}')\")\n",
        "        print(f\"\\n🎉 Final Score: {score} out of {len(questions)}\")\n",
        "\n",
        "submit_button.on_click(check_answers)\n",
        "display(submit_button, output)"
      ],
      "metadata": {
        "colab": {
          "base_uri": "https://localhost:8080/",
          "height": 738,
          "referenced_widgets": [
            "b76b50b49cec49ae941f4346dd2190d7",
            "b539f81ff7a5469fb01bd909426023ec",
            "311dfe4264c24cfc97cb1693d8c25247",
            "9c2b0c1d99184b4da2097f39f2f3cc6d",
            "6c22b612f8db4a8b8948a4f730a807d5",
            "a80f137af1404a16be75baf106f1c5a4",
            "c0599c01271d4c818895a48319bb43e2",
            "6c338f7eed6049ee9801cfbd7c44ac0c",
            "31bb3475d71144a8b837c396910dd3c1",
            "7379a81915924426b720bb4a1a2b26e9",
            "6b1c6930338a4702843d4d93813c3018",
            "fa6e1f1647834cd09ebd4264b740fd2f",
            "16c49a135d0e4407abd0e6d23224f5e9",
            "4cc2054e4c3f45f1b099aa7019049154",
            "22ae4e985e2e41be95efd590f449c3e3",
            "082b0866a3a248809a3e8ff734d136b5",
            "023b7730171c41ad828112645f0abb44",
            "6197ab56cb17414daa68f729fe56b5f6",
            "cc731da96dac4e74ac8a32012a59834a",
            "44aabeb36c9e48cf834601ae4ad4f448",
            "6ea9fbfbed634f53b795f36333334f9c",
            "0a5b2f4aff7e4d9c839f0b45af7e0757",
            "840e745617b6466abd138711e3a5f643",
            "bcfe39b751864693bbef52bea3b85f77",
            "cc5286dca15e41c5bc6e6ebb98d5ced0",
            "4f2212ce77604796b285b74364e7a656",
            "88532bc49fdb4693a8931996a7f4f079",
            "36c14cf63b8341588f8f52b2eabc43b4",
            "66a9412245b548edaba579bd61424d62",
            "5c2222b3ad3747e690a505aa6a333b35",
            "e925061734ae49199dadb4800588ca29",
            "761c8342f2bd47cdbc6866cba4f0632a",
            "2dd8bd4c1d454f7a834d4e5a783f888a",
            "af82af8f0d514b66b01655a2df9acc89",
            "e86ef1f040b94491b85d34d7c3cafd9f"
          ]
        },
        "cellView": "form",
        "id": "8AlIWeEftg-h",
        "outputId": "50120d62-7b69-443f-e0a8-1903835460e0"
      },
      "execution_count": null,
      "outputs": [
        {
          "output_type": "display_data",
          "data": {
            "text/plain": [
              "<IPython.core.display.Markdown object>"
            ],
            "text/markdown": "### 1. What is the main purpose of using an API in bioinformatics?"
          },
          "metadata": {}
        },
        {
          "output_type": "display_data",
          "data": {
            "text/plain": [
              "Dropdown(layout=Layout(width='60%'), options=('Select answer', 'To visualize protein structures', 'To access a…"
            ],
            "application/vnd.jupyter.widget-view+json": {
              "version_major": 2,
              "version_minor": 0,
              "model_id": "b76b50b49cec49ae941f4346dd2190d7"
            }
          },
          "metadata": {}
        },
        {
          "output_type": "display_data",
          "data": {
            "text/plain": [
              "<IPython.core.display.Markdown object>"
            ],
            "text/markdown": "### 2. Which Python keyword is used to define a function?"
          },
          "metadata": {}
        },
        {
          "output_type": "display_data",
          "data": {
            "text/plain": [
              "Dropdown(layout=Layout(width='60%'), options=('Select answer', 'define', 'function', 'def', 'lambda'), style=D…"
            ],
            "application/vnd.jupyter.widget-view+json": {
              "version_major": 2,
              "version_minor": 0,
              "model_id": "9c2b0c1d99184b4da2097f39f2f3cc6d"
            }
          },
          "metadata": {}
        },
        {
          "output_type": "display_data",
          "data": {
            "text/plain": [
              "<IPython.core.display.Markdown object>"
            ],
            "text/markdown": "### 3. What Python data type is commonly used to store parsed JSON data?"
          },
          "metadata": {}
        },
        {
          "output_type": "display_data",
          "data": {
            "text/plain": [
              "Dropdown(layout=Layout(width='60%'), options=('Select answer', 'List', 'Tuple', 'Dictionary', 'String'), style…"
            ],
            "application/vnd.jupyter.widget-view+json": {
              "version_major": 2,
              "version_minor": 0,
              "model_id": "c0599c01271d4c818895a48319bb43e2"
            }
          },
          "metadata": {}
        },
        {
          "output_type": "display_data",
          "data": {
            "text/plain": [
              "<IPython.core.display.Markdown object>"
            ],
            "text/markdown": "### 4. What is the purpose of transforming nested JSON into a DataFrame?"
          },
          "metadata": {}
        },
        {
          "output_type": "display_data",
          "data": {
            "text/plain": [
              "Dropdown(layout=Layout(width='60%'), options=('Select answer', 'To compress the data', 'To visualize the data …"
            ],
            "application/vnd.jupyter.widget-view+json": {
              "version_major": 2,
              "version_minor": 0,
              "model_id": "7379a81915924426b720bb4a1a2b26e9"
            }
          },
          "metadata": {}
        },
        {
          "output_type": "display_data",
          "data": {
            "text/plain": [
              "<IPython.core.display.Markdown object>"
            ],
            "text/markdown": "### 5. Which Python package is introduced in the notebook for handling nested data?"
          },
          "metadata": {}
        },
        {
          "output_type": "display_data",
          "data": {
            "text/plain": [
              "Dropdown(layout=Layout(width='60%'), options=('Select answer', 'pandas', 'glom', 'numpy', 'json'), style=Descr…"
            ],
            "application/vnd.jupyter.widget-view+json": {
              "version_major": 2,
              "version_minor": 0,
              "model_id": "16c49a135d0e4407abd0e6d23224f5e9"
            }
          },
          "metadata": {}
        },
        {
          "output_type": "display_data",
          "data": {
            "text/plain": [
              "<IPython.core.display.Markdown object>"
            ],
            "text/markdown": "### 6. What does the `glom` package help you do?"
          },
          "metadata": {}
        },
        {
          "output_type": "display_data",
          "data": {
            "text/plain": [
              "Dropdown(layout=Layout(width='60%'), options=('Select answer', 'Create plots from data', 'Access deeply nested…"
            ],
            "application/vnd.jupyter.widget-view+json": {
              "version_major": 2,
              "version_minor": 0,
              "model_id": "082b0866a3a248809a3e8ff734d136b5"
            }
          },
          "metadata": {}
        },
        {
          "output_type": "display_data",
          "data": {
            "text/plain": [
              "<IPython.core.display.Markdown object>"
            ],
            "text/markdown": "### 7. What is the first step when working with data from an API?"
          },
          "metadata": {}
        },
        {
          "output_type": "display_data",
          "data": {
            "text/plain": [
              "Dropdown(layout=Layout(width='60%'), options=('Select answer', 'Visualize the data', 'Parse the JSON', 'Send a…"
            ],
            "application/vnd.jupyter.widget-view+json": {
              "version_major": 2,
              "version_minor": 0,
              "model_id": "cc731da96dac4e74ac8a32012a59834a"
            }
          },
          "metadata": {}
        },
        {
          "output_type": "display_data",
          "data": {
            "text/plain": [
              "<IPython.core.display.Markdown object>"
            ],
            "text/markdown": "### 8. Which Python library is commonly used to convert JSON data into a DataFrame?"
          },
          "metadata": {}
        },
        {
          "output_type": "display_data",
          "data": {
            "text/plain": [
              "Dropdown(layout=Layout(width='60%'), options=('Select answer', 'matplotlib', 'glom', 'pandas', 'requests'), st…"
            ],
            "application/vnd.jupyter.widget-view+json": {
              "version_major": 2,
              "version_minor": 0,
              "model_id": "0a5b2f4aff7e4d9c839f0b45af7e0757"
            }
          },
          "metadata": {}
        },
        {
          "output_type": "display_data",
          "data": {
            "text/plain": [
              "<IPython.core.display.Markdown object>"
            ],
            "text/markdown": "### 9. How can AI help improve Python code in this notebook?"
          },
          "metadata": {}
        },
        {
          "output_type": "display_data",
          "data": {
            "text/plain": [
              "Dropdown(layout=Layout(width='60%'), options=('Select answer', 'By generating random data', 'By automatically …"
            ],
            "application/vnd.jupyter.widget-view+json": {
              "version_major": 2,
              "version_minor": 0,
              "model_id": "cc5286dca15e41c5bc6e6ebb98d5ced0"
            }
          },
          "metadata": {}
        },
        {
          "output_type": "display_data",
          "data": {
            "text/plain": [
              "<IPython.core.display.Markdown object>"
            ],
            "text/markdown": "### 10. Can a single protein chain in a structure be assigned more than one EC number?"
          },
          "metadata": {}
        },
        {
          "output_type": "display_data",
          "data": {
            "text/plain": [
              "Dropdown(layout=Layout(width='60%'), options=('Select answer', 'No, each chain can only have one EC number', '…"
            ],
            "application/vnd.jupyter.widget-view+json": {
              "version_major": 2,
              "version_minor": 0,
              "model_id": "36c14cf63b8341588f8f52b2eabc43b4"
            }
          },
          "metadata": {}
        },
        {
          "output_type": "display_data",
          "data": {
            "text/plain": [
              "Button(button_style='success', description='Submit Answers', style=ButtonStyle())"
            ],
            "application/vnd.jupyter.widget-view+json": {
              "version_major": 2,
              "version_minor": 0,
              "model_id": "e925061734ae49199dadb4800588ca29"
            }
          },
          "metadata": {}
        },
        {
          "output_type": "display_data",
          "data": {
            "text/plain": [
              "Output()"
            ],
            "application/vnd.jupyter.widget-view+json": {
              "version_major": 2,
              "version_minor": 0,
              "model_id": "af82af8f0d514b66b01655a2df9acc89"
            }
          },
          "metadata": {}
        }
      ]
    },
    {
      "cell_type": "markdown",
      "source": [
        "##🔍 **4) BONUS CHALLENGE**\n",
        "\n",
        "---\n",
        "\n"
      ],
      "metadata": {
        "id": "w0fuMcGHtIPu"
      }
    },
    {
      "cell_type": "markdown",
      "source": [
        "###❓ **TASK 4:** Improve the code  from the PDBe API with example PDB ID `2xfu`\n",
        "\n",
        "Enhance the previous code to generate an output table with four columns:\n",
        "\n",
        "*   EC Number\n",
        "*   Enzyme Name\n",
        "*   Reaction\n",
        "*   Chain ID\n",
        "\n",
        "\n",
        "<br>\n",
        "\n",
        "---"
      ],
      "metadata": {
        "id": "ZGRYUk096pcm"
      }
    },
    {
      "cell_type": "markdown",
      "source": [
        "\n",
        "\n",
        "###🧪 **SOLUTION 4:** Improved code (include more info from API)"
      ],
      "metadata": {
        "id": "vUpodoU4tfbt"
      }
    },
    {
      "cell_type": "code",
      "source": [],
      "metadata": {
        "id": "DzljWXUKjmZF"
      },
      "execution_count": null,
      "outputs": []
    },
    {
      "cell_type": "markdown",
      "source": [
        "\n",
        "## 🔍 **5) BONUS CHALLENGE**"
      ],
      "metadata": {
        "id": "cJtKDF4DudZk"
      }
    },
    {
      "cell_type": "markdown",
      "source": [
        "###❓ **TASK 5:** Use AI and the Python package `glom` to simplify the code with example PDB ID `2xfu`\n",
        "\n",
        "*HINT: May take more than one prompt -- you can ask AI to bug fix.*\n",
        "\n",
        "<br>\n",
        "\n",
        "---"
      ],
      "metadata": {
        "id": "zyAL2RkP6yvS"
      }
    },
    {
      "cell_type": "markdown",
      "source": [
        "### 🧪 **SOLUTION 5:** Simplified by using `glom`, assisted by AI"
      ],
      "metadata": {
        "id": "Veb_ANY_uwkG"
      }
    },
    {
      "cell_type": "code",
      "source": [],
      "metadata": {
        "id": "DfQucDHSnWni"
      },
      "execution_count": null,
      "outputs": []
    },
    {
      "cell_type": "markdown",
      "source": [
        "# Copyright 2025 EMBL - European Bioinformatics Institute\n",
        "\n",
        "Licensed under the Apache License, Version 2.0 (the \"License\"); you may not use this file except in compliance with the License. You may obtain a copy of the License at http://www.apache.org/licenses/LICENSE-2.0\n",
        "\n",
        "Unless required by applicable law or agreed to in writing, software distributed under the License is distributed on an \"AS IS\" BASIS, WITHOUT WARRANTIES OR CONDITIONS OF ANY KIND, either express or implied. See the License for the specific language governing permissions and limitations under the License."
      ],
      "metadata": {
        "id": "iMcFdQcjasgx"
      }
    }
  ]
}