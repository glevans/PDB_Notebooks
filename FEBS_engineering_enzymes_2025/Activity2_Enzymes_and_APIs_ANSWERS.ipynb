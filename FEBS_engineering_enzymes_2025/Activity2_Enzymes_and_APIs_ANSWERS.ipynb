{
  "nbformat": 4,
  "nbformat_minor": 0,
  "metadata": {
    "colab": {
      "provenance": [],
      "collapsed_sections": [
        "SA22dGnLwoxM",
        "-Ah_YdhOzh3j",
        "w0fuMcGHtIPu",
        "vUpodoU4tfbt",
        "cJtKDF4DudZk"
      ],
      "toc_visible": true,
      "authorship_tag": "ABX9TyPb9lz7Dj2+mq4hCld4jkLY",
      "include_colab_link": true
    },
    "kernelspec": {
      "name": "python3",
      "display_name": "Python 3"
    },
    "language_info": {
      "name": "python"
    }
  },
  "cells": [
    {
      "cell_type": "markdown",
      "metadata": {
        "id": "view-in-github",
        "colab_type": "text"
      },
      "source": [
        "<a href=\"https://colab.research.google.com/github/glevans/PDB_Notebooks/blob/main/FEBS_engineering_enzymes_2025/Activity2_Enzymes_and_APIs_ANSWERS.ipynb\" target=\"_parent\"><img src=\"https://colab.research.google.com/assets/colab-badge.svg\" alt=\"Open In Colab\"/></a>"
      ]
    },
    {
      "cell_type": "markdown",
      "source": [
        "# 🧬 Integrating Enzyme Data: APIs, Identifiers, and Smart Parsing\n",
        "\n",
        "<img src=\"https://github.com/glevans/PDB_Notebooks/raw/main/PDBe-logo.png\" height=\"200\" align=\"right\">\n",
        "\n",
        "In this notebook, you'll learn how to:\n",
        "\n",
        "- Combine information from different APIs\n",
        "- Understand the relationship between other protein identifiers (*e.g.* UniProt ID), macromolecular structures & EC (Enzyme Commission) numbers\n",
        "- Transform nested JSON data into a DataFrame\n",
        "- Use `glom` to simiplify code for nested data\n",
        "- Use AI to help generate useful code & debug code\n",
        "\n",
        "<br>\n",
        "\n",
        "---"
      ],
      "metadata": {
        "id": "xwyYc4Qf8wor"
      }
    },
    {
      "cell_type": "markdown",
      "source": [
        "## ℹ️ **Introduction**"
      ],
      "metadata": {
        "id": "xNAfmMefKNYq"
      }
    },
    {
      "cell_type": "markdown",
      "source": [
        "### **What is UniProt?**\n",
        "\n",
        "[UniProt](https://www.uniprot.org/) (Universal Protein Resource) is a globally recognized, high-quality database that provides comprehensive information on protein sequences, functions, and interactions. The information is provided for proteins across all domains of life. UniProt integrates data from multiple sources, including:\n",
        "\n",
        "*   research literature\n",
        "*   experimental findings\n",
        "*   computational predictions\n",
        "\n",
        "[UniProt](https://www.uniprot.org/) is hosted and maintained by EMBL-EBI, in collaboration with other international institutions, ensuring its reliability.  Each UniProt entry is assigned a unique identifier and corresponds to a specific combination of protein sequence and source organism. The source organism is defined by taxonomy name and taxonomy ID.\n",
        "\n",
        "---\n",
        "\n",
        "\n",
        "Every 3-4 months a new verison of UniProt is released with new entries, as well as additions and corrections to existing entries.\n",
        "\n",
        "More information on the most recent release is available here:\n",
        "\n",
        "[https://www.uniprot.org/uniprotkb/statistics](https://www.uniprot.org/uniprotkb/statistics)"
      ],
      "metadata": {
        "id": "ygRj7IBpKTJA"
      }
    },
    {
      "cell_type": "markdown",
      "source": [
        "### **Types of UniProt Entries and Their Uses**\n",
        "\n",
        "---\n",
        "\n",
        "\n",
        "🔹 **1. UniProtKB (Universal Protein Knowledgebase)**\n",
        "UniProtKB entries are divided into UniProtKB/Swiss-Prot and UniProtKB/TrEMBL.\n",
        "- **Purpose**: UniProtKB is a comprehensive resource for **protein sequence and functional information**.\n",
        "- **Entry name & accession**: Each entry has unique identifiers for tracking and referencing.\n",
        "- **Types**:\n",
        "   - *Entry status:* Reviewed (Swiss-Prot) vs. Unreviewed (TrEMBL)\n",
        "   - *Annotation level:* Manual vs. automatic\n",
        "- **Example use cases**:\n",
        "   - Studying the catalytic mechanism of enzyme from different bacterial species.\n",
        "   - Designing primers to amplify a specific isoform of a human protein.\n",
        "   - Building a phylogenetic tree of homologous proteins across species.\n",
        "\n",
        "---\n",
        "\n",
        "🔹 **2. UniRef (UniProt Reference Clusters)**\n",
        "- **Purpose**: UniRef provides **clustered sets of protein sequences** to reduce redundancy and improve search efficiency.\n",
        "- **Types**:\n",
        "  - *UniRef100:* Clusters identical sequences and fragments.\n",
        "  - *UniRef90:* Clusters sequences with ≥90% identity.\n",
        "  - *UniRef50:* Clusters sequences with ≥50% identity.\n",
        "- **Use case**: Similarity searches and large-scale analyses.\n",
        "\n",
        "🔗 [UniRef Overview](https://www.uniprot.org/help/uniref)\n",
        "\n",
        "---\n",
        "\n",
        "🔹 **3. UniParc (UniProt Archive)**\n",
        "- **Purpose**: UniParc is a comprehensive repository of all known protein sequences, regardless of their source or annotation status.\n",
        "- **Key Feature**: It stores **100% identical sequences** as single entries, even across different species or databases.\n",
        "- **Use case**: Tracking sequence history and redundancy across databases.\n",
        "\n",
        "🔗 [UniParc Overview](https://www.uniprot.org/help/uniparc)"
      ],
      "metadata": {
        "id": "73C_ASWCGygM"
      }
    },
    {
      "cell_type": "markdown",
      "source": [
        "### **What is UniRef90?**\n",
        "\n",
        "**UniRef90** is a clustered sets of protein sequences that groups protein sequences based on sequence similarity.\n",
        "\n",
        "Specifically:\n",
        "\n",
        "*  *90% identity threshold:* Proteins that share 90% or higher sequence identity are grouped into the same cluster.\n",
        "\n",
        "\n",
        "*  *Length coverage:* The alignment must cover at least 80% of the longest sequence.\n",
        "\n",
        "\n",
        "*  *Single representative:* Each cluster has one \"representative\" sequence (usually the longest or best-annotated).\n",
        "\n",
        "\n",
        "---\n",
        "\n",
        "\n",
        "\n",
        "Why Does **UniRef90** Exist?\n",
        "\n",
        "The UniProt database contains millions of protein sequences, many of which are nearly identical (*e.g.* same protein from closely related species). **UniRef90** reduces this redundancy while preserving biological diversity."
      ],
      "metadata": {
        "id": "Kc9XTgfB-EGp"
      }
    },
    {
      "cell_type": "markdown",
      "source": [
        "### **Isoforms & canonical sequences**\n",
        "\n",
        "A protein isoform is a variant of a protein that is produced from the same gene but differs in its amino acid sequence due to mechanisms like alternative splicing, alternative promoter usage, or alternative translation initiation. These isoforms can have distinct functions, localizations, or interactions within the cell.\n",
        "\n",
        "Whenever possible, all the protein products encoded by one gene in a given species are described in a single **UniProtKB/Swiss-Prot** entry, including all isoforms generated by alternative splicing, alternative promoter usage, and alternative translation initiation.\n",
        "\n",
        "When a **UniProtKB/Swiss-Prot** entry has isoforms one in amongst the gene products is chosen as the canonical sequence.\n",
        "\n",
        "The canonical sequence in a **UniProtKB/Swiss-Prot** entry is selected based on several criteria to ensure it is representative and informative:\n",
        "\n",
        "*  *Functionality:* The sequence must correspond to a functional protein product.\n",
        "*  *Expression:* It should be widely expressed across tissues or conditions.\n",
        "*  *Evolutionary Conservation:* It is encoded by conserved exons found in orthologous sequences across species.\n",
        "*  *Consensus with Other Resources:* It matches consensus sequences from other annotation efforts, like:\n",
        "   - [CCDS (Consensus Coding Sequence)](https://www.ncbi.nlm.nih.gov/projects/CCDS/CcdsBrowse.cgi) - human and mouse protein-coding regions\n",
        "   - [MANE (Matched Annotation from NCBI and EMBL-EBI)](https://www.ncbi.nlm.nih.gov/refseq/MANE/) - human protein-coding regions"
      ],
      "metadata": {
        "id": "hP4rzUYPEb0y"
      }
    },
    {
      "cell_type": "markdown",
      "source": [
        "### **What is a Python definition?**\n",
        "\n",
        "A Python definition is a way to create a reusable block of code that does something specific."
      ],
      "metadata": {
        "id": "oxbh9pLaaL3h"
      }
    },
    {
      "cell_type": "markdown",
      "source": [
        "### **What is a API?**\n",
        "\n",
        "<img src=\"https://github.com/glevans/PDB_Notebooks/raw/main/API_graphic.png\" height=\"200\" align=\"right\">\n",
        "\n",
        "The API is a programmatic way to obtain information. APIs are in the background providing information we see on websites such as [PDBe's website](https://pdbe.org). Using Python code to access APIs enables faster analysis than can be obtained by viewing information directly on websites.\n",
        "\n",
        "For more information on PDBe's APIs, visit:\n",
        "\n",
        "*   [http://www.ebi.ac.uk/pdbe/pdbe-rest-api](http://www.ebi.ac.uk/pdbe/pdbe-rest-api)\n",
        "*   [https://www.ebi.ac.uk/pdbe/api/v2/#/](https://www.ebi.ac.uk/pdbe/api/v2/#/)"
      ],
      "metadata": {
        "id": "UAZVb5APiYfM"
      }
    },
    {
      "cell_type": "markdown",
      "source": [
        "### **What is a Notebook?**\n",
        "\n",
        "A **Colab** or **Jupyter** notebook corresponds to a file with the extension `.ipynb`.\n",
        "\n",
        "Notebooks are useful for sharing examples of code and exploring progammatic ways of handling data.\n",
        "\n",
        "<br>\n",
        "\n",
        "To use this notebook in **Colab** (link at top of the page):\n",
        "\n",
        "*   you will need to have a Google account\n",
        "*   be logged in to Google Colab (by being logged into Google account)\n",
        "\n",
        "<br>\n",
        "\n",
        "To use as a **Jupyter** notebook, download & viewed with:\n",
        "\n",
        "*   a local installation of [Jupyter](https://jupyter.org/)\n",
        "*   a browser instance of [JupyterLab](https://jupyter.org/try-jupyter/lab/)\n",
        "\n",
        "<br>"
      ],
      "metadata": {
        "id": "5dp6BpjhJy4v"
      }
    },
    {
      "cell_type": "markdown",
      "source": [
        "<br>\n",
        "\n",
        "---\n",
        "\n",
        "## How to use this notebook <a name=\"Quick Start\"></a>\n",
        "1. To run a code cell, click on the cell to select it. You will notice a play button (▶️) on the left side of the cell. Click on the play button or press Shift+Enter to run the code in the selected cell.\n",
        "2. The code will start executing, and you will see the output, if any, displayed below the code cell.\n",
        "3. Move to the next code cell and repeat steps 2 and 3 until you have executed all the desired code cells in sequence.\n",
        "4. The currently running step is indicated by a circle with a stop sign next to it.\n",
        "If you need to stop or interrupt the execution of a code cell, you can click on the stop button (■) located next to the play button.\n",
        "5. The exercise & bonus challenges had empty code cells will require the addition of code before they are run.\n",
        "\n",
        "*Remember to run the code cells in the correct order, as their execution might depend on variables or functions defined in previous cells. You can modify the code in a code cell and re-run it to see updated results.*\n",
        "\n",
        "<br>\n",
        "\n",
        "---\n",
        "\n",
        "## Contact us\n",
        "\n",
        "If you experience any bugs please contact pdbehelp@ebi.ac.uk and put \"Help with\" and the title of the notebook in the subject line of the message.\n"
      ],
      "metadata": {
        "id": "v7cYcoBq9B9g"
      }
    },
    {
      "cell_type": "markdown",
      "source": [
        "## ⚙️ **Setup**\n",
        "\n"
      ],
      "metadata": {
        "id": "KrQ5Yq848ebj"
      }
    },
    {
      "cell_type": "markdown",
      "source": [
        "### 📦 Step 1: Install Required Package\n",
        "Ensure the `glom` package is installed.\n",
        "\n",
        "This is used to simplify data extraction from nested data structures."
      ],
      "metadata": {
        "id": "lT5PKwyf_MmT"
      }
    },
    {
      "cell_type": "markdown",
      "source": [
        "To run a BASH command in a Notebook, one adds `!` before the command.\n",
        "\n",
        "Many python packages are available from [PyPi](https://pypi.org/).\n",
        "\n",
        "The BASH command `pip install` installs from PyPi."
      ],
      "metadata": {
        "id": "CvtjvR_0vDZi"
      }
    },
    {
      "cell_type": "code",
      "source": [
        "# Install glom if not already installed\n",
        "!pip install glom"
      ],
      "metadata": {
        "id": "3AQYTNpNXQq5"
      },
      "execution_count": null,
      "outputs": []
    },
    {
      "cell_type": "markdown",
      "source": [
        "### 📥 Step 2: Import Modules\n",
        "\n",
        "Import all necessary Python modules for data fetching, transformation, and display."
      ],
      "metadata": {
        "id": "vsfOXpEi_VbQ"
      }
    },
    {
      "cell_type": "markdown",
      "source": [
        "We will be using Python packages / modules:\n",
        "\n",
        "*   [requests](https://docs.python.org/3/library/re.html) - allows you to send HTTP/1.1 requests extremely easily\n",
        "*   [re](https://https://docs.python.org/3/library/re.html) - allows use of regular expression matching operations similar to those found in Perl\n",
        "*   [pprint](https://docs.python.org/3/library/pprint.html) - makes data look more readable / pretty\n",
        "*   [pandas](https://pandas.pydata.org/) - for working with data in tables, like spreadsheets\n",
        "*   [glom](https://glom.readthedocs.io/en/stable/) - for exploring and accessing information in nested data structures, such as that from APIs.\n",
        "\n",
        "<br>"
      ],
      "metadata": {
        "id": "jPRMmXXmZ4Ny"
      }
    },
    {
      "cell_type": "code",
      "source": [
        "# Import necessary modules\n",
        "import re\n",
        "import requests\n",
        "from pprint import pprint\n",
        "from glom import glom, Coalesce, PathAccessError, Path\n",
        "import pandas as pd"
      ],
      "metadata": {
        "id": "S735LdtW-7Wd"
      },
      "execution_count": null,
      "outputs": []
    },
    {
      "cell_type": "markdown",
      "source": [
        "### ✔️ Step 3: Setting up functions to check identifiers\n",
        "\n",
        "Setting up two definitions to check whether identifers are correctly formatted and input is a string (not a number)."
      ],
      "metadata": {
        "id": "FxbhlqO7kjkR"
      }
    },
    {
      "cell_type": "code",
      "source": [
        "def is_pdb_id(identifier):\n",
        "    \"\"\"\n",
        "    Check if a string is a valid PDB ID.\n",
        "\n",
        "    Parameters:\n",
        "        identifier (str): The string to check.\n",
        "\n",
        "    Returns:\n",
        "        bool: True if it matches PDB ID format, False otherwise.\n",
        "    \"\"\"\n",
        "    if isinstance(identifier, str):\n",
        "        # PDB IDs are 4-character strings starting with a digit\n",
        "        pattern = r\"^[0-9][A-Za-z0-9]{3}$\"\n",
        "        return bool(re.match(pattern, identifier))\n",
        "    else:\n",
        "        return False"
      ],
      "metadata": {
        "id": "ETVXFJqBl045"
      },
      "execution_count": null,
      "outputs": []
    },
    {
      "cell_type": "code",
      "source": [
        "# Example usage\n",
        "print(is_pdb_id(\"2XFU\"))           # True\n",
        "print(is_pdb_id(\"2xfu\"))           # True\n",
        "print(is_pdb_id(\"P69905\"))         # False\n",
        "print(is_pdb_id(\"not_a_protein\"))  # False\n",
        "print(is_pdb_id(123))              # False\n",
        "print(is_pdb_id(10.25))            # False"
      ],
      "metadata": {
        "id": "imHNPAuH1015"
      },
      "execution_count": null,
      "outputs": []
    },
    {
      "cell_type": "code",
      "source": [
        "def is_uniprot_id(identifier):\n",
        "    \"\"\"\n",
        "    Check if a string is a valid UniProt accession or entry name.\n",
        "\n",
        "    Parameters:\n",
        "        identifier (str): The string to check.\n",
        "\n",
        "    Returns:\n",
        "        bool: True if it matches UniProt ID patterns, False otherwise.\n",
        "    \"\"\"\n",
        "    if isinstance(identifier, str):\n",
        "      # UniProt accessions: 6 or 10 characters, starting with a letter\n",
        "      accession_pattern = r\"^[A-Z0-9]{6}$|^[A-Z0-9]{10}$\"\n",
        "      # UniProt entry names: e.g., P69905_HUMAN\n",
        "      entry_name_pattern = r\"^[A-Z0-9]+_[A-Z0-9]+$\"\n",
        "      return bool(re.match(accession_pattern, identifier)) or bool(re.match(entry_name_pattern, identifier))\n",
        "    else:\n",
        "      return False"
      ],
      "metadata": {
        "id": "eklOmvRKltIj"
      },
      "execution_count": null,
      "outputs": []
    },
    {
      "cell_type": "code",
      "source": [
        "# Example usage\n",
        "print(is_uniprot_id(\"P69905\"))            # True\n",
        "print(is_uniprot_id(\"G1L2V2\"))            # True\n",
        "print(is_uniprot_id(\"HIS4_MYCTA\"))        # True\n",
        "print(is_uniprot_id(\"A0A081HVH1_9MYCO\"))  # True\n",
        "print(is_uniprot_id(\"A0A081HVH1\"))        # True\n",
        "print(is_uniprot_id(\"not_a_protein\"))     # False\n",
        "print(is_uniprot_id(\"2xfu\"))              # False\n",
        "print(is_uniprot_id(123))                 # False\n",
        "print(is_uniprot_id(10.25))               # False"
      ],
      "metadata": {
        "id": "ZdUdUtrT1uAI"
      },
      "execution_count": null,
      "outputs": []
    },
    {
      "cell_type": "markdown",
      "source": [
        "### 🌐 Step 4: Setting up variables\n",
        "\n",
        "Full list of PDBe API endpoints is available from: https://www.ebi.ac.uk/pdbe/api/v2/doc/"
      ],
      "metadata": {
        "id": "WmGphL8DkxPD"
      }
    },
    {
      "cell_type": "code",
      "source": [
        "# Defining variables to describe API urls\n",
        "ebi_host = \"https://www.ebi.ac.uk/\"\n",
        "\n",
        "pdbe_api_base = ebi_host + \"pdbe/api/v2/\"\n",
        "\n",
        "best_isoform_url = pdbe_api_base + \"mappings/isoforms/\"\n",
        "\n",
        "# We have defined a variable called best_isoform_url with the following value:\n",
        "#### https://www.ebi.ac.uk/pdbe/api/v2/mapping/isoforms/\n",
        "\n",
        "structures_ranked_url = pdbe_api_base + \"uniprot/best_structures/\"\n",
        "\n",
        "# We have defined a variable called best_isoform_url with the following value:\n",
        "#### https://www.ebi.ac.uk/pdbe/api/v2/uniprot/structures_ranked_url/"
      ],
      "metadata": {
        "id": "Frwe_Hi0TTvo"
      },
      "execution_count": null,
      "outputs": []
    },
    {
      "cell_type": "markdown",
      "source": [
        "Uniprot has many APIs.\n",
        "\n",
        "List of some UniProt APIs is here:\n",
        "[https://www.uniprot.org/help/api_retrieve_entries](https://www.uniprot.org/help/api_retrieve_entries)\n",
        "\n",
        "More information on UniProt APIs:\n",
        "[https://www.uniprot.org/help/api_queries](https://www.uniprot.org/help/api_queries)"
      ],
      "metadata": {
        "id": "FhcrfG2iA-jt"
      }
    },
    {
      "cell_type": "code",
      "source": [
        "# Defining more variables to describe API urls\n",
        "uniprot_rest_host = \"https://rest.uniprot.org/\"\n",
        "\n",
        "uniref_url = uniprot_rest_host + \"uniref/\"\n",
        "\n",
        "# We have defined a variable called uniref_url with the following value:\n",
        "#### https://rest.uniprot.org/uniref/\n",
        "\n",
        "uniref_search_url = uniprot_rest_host + \"uniref/search?query=\"\n",
        "\n",
        "# We have defined a variable called unire_search_url with the following value:\n",
        "#### https://rest.uniprot.org/uniref/search?query="
      ],
      "metadata": {
        "id": "lcpP5xakBA9L"
      },
      "execution_count": null,
      "outputs": []
    },
    {
      "cell_type": "markdown",
      "source": [
        "## 💻 **Setting-up data retrieval from API endpoints**\n",
        "\n",
        "Setting-up new Python definitions to retrieve data from different PDBe and UniProt API endpoints."
      ],
      "metadata": {
        "id": "wFlrAr6x8dHI"
      }
    },
    {
      "cell_type": "markdown",
      "source": [
        "### **1. Best UniProt isoform for a PDB entry**"
      ],
      "metadata": {
        "id": "Gg8uQnHw1_7N"
      }
    },
    {
      "cell_type": "code",
      "source": [
        "def fetch_best_isoform(pdb_id):\n",
        "    # Validate PDB ID format (using previous definition)\n",
        "    if is_pdb_id(pdb_id) is False:\n",
        "        print(f\"Invalid PDB ID: {pdb_id}\")\n",
        "        return None\n",
        "    else:\n",
        "      print(f\"Validated PDB ID: {pdb_id}\")\n",
        "\n",
        "      # Make GET request\n",
        "      full_url = f\"{best_isoform_url}{pdb_id}\"\n",
        "      response = requests.get(full_url)\n",
        "      print(\"URL:\", full_url)\n",
        "\n",
        "    if response.status_code == 200:\n",
        "        print(\"Data retrieved successfully.\")\n",
        "        return response.json()\n",
        "    else:\n",
        "        print(f\"Failed to retrieve data. Status code: {response.status_code}\")\n",
        "        return None"
      ],
      "metadata": {
        "id": "frd0tq7zld_u"
      },
      "execution_count": null,
      "outputs": []
    },
    {
      "cell_type": "code",
      "source": [
        "# Example usage\n",
        "pdb_id = \"1ffy\" # Example: Isoleucine--tRNA ligase\n",
        "result_1ffy = fetch_best_isoform(pdb_id)\n",
        "pprint(result_1ffy)"
      ],
      "metadata": {
        "id": "nbTsCGVy1nHv"
      },
      "execution_count": null,
      "outputs": []
    },
    {
      "cell_type": "code",
      "source": [
        "def fetch_isoforms_for_pdbids(pdb_ids_string):\n",
        "    \"\"\"\n",
        "    Process a comma-separated string of PDB IDs and fetch data for each.\n",
        "    \"\"\"\n",
        "    pdb_ids = [pid.strip() for pid in pdb_ids_string.split(\",\")]\n",
        "    results = {}\n",
        "\n",
        "    for pdb_id in pdb_ids:\n",
        "        data = fetch_best_isoform(pdb_id)\n",
        "        if data:\n",
        "            results[pdb_id] = data\n",
        "\n",
        "    return results"
      ],
      "metadata": {
        "id": "ZCxuuzUEyBwT"
      },
      "execution_count": null,
      "outputs": []
    },
    {
      "cell_type": "code",
      "source": [
        "# Example usage:\n",
        "\n",
        "pdb_ids_as_list = [\n",
        "    \"3LII\", \"3K5V\", \"1U70\", \"2XFU\", \"2X91\",\n",
        "]\n",
        "\n",
        "pdb_ids_string = \", \".join(pdb_ids_as_list)\n",
        "\n",
        "print(pdb_ids_string)\n",
        "\n",
        "results = fetch_isoforms_for_pdbids(pdb_ids_string)\n",
        "pprint(results)\n"
      ],
      "metadata": {
        "id": "x55kY5_CyDnW"
      },
      "execution_count": null,
      "outputs": []
    },
    {
      "cell_type": "markdown",
      "source": [
        "### **2. PDB structures for a UniProt entry (ranked)**"
      ],
      "metadata": {
        "id": "r4i2dJeoIfkJ"
      }
    },
    {
      "cell_type": "code",
      "source": [
        "def fetch_ranked_structures(uniprot_id):\n",
        "    # Validate UniProt ID format (using previous definition)\n",
        "    if is_uniprot_id(uniprot_id) is False:\n",
        "        print(f\"Invalid UniProt ID: {uniprot_id}\")\n",
        "        return None\n",
        "    else:\n",
        "      print(f\"Validated UniProt ID: {uniprot_id}\")\n",
        "\n",
        "      # Make GET request\n",
        "      full_url = f\"{structures_ranked_url}{uniprot_id}\"\n",
        "      response = requests.get(full_url)\n",
        "      print(\"URL:\", full_url)\n",
        "\n",
        "    if response.status_code == 200:\n",
        "        print(\"Data retrieved successfully.\")\n",
        "        return response.json()\n",
        "    else:\n",
        "        print(f\"Failed to retrieve data. Status code: {response.status_code}\")\n",
        "        return None"
      ],
      "metadata": {
        "id": "ZVAsaTeOI00p"
      },
      "execution_count": null,
      "outputs": []
    },
    {
      "cell_type": "code",
      "source": [
        "# Example usage\n",
        "uniprot_id = \"P41972\" # Example: Isoleucine--tRNA ligase\n",
        "result_P41972 = fetch_ranked_structures(uniprot_id)\n",
        "pprint(result_P41972)"
      ],
      "metadata": {
        "id": "YD8yzxWpJP40"
      },
      "execution_count": null,
      "outputs": []
    },
    {
      "cell_type": "markdown",
      "source": [
        "### **3. Retrieve UniRef clusters for a UniProt ID**"
      ],
      "metadata": {
        "id": "K-aI66NMML0m"
      }
    },
    {
      "cell_type": "code",
      "source": [
        "def fetch_uniref_clusters(uniprot_id):\n",
        "    # Validate UniProt ID format (using previous definition)\n",
        "    if is_uniprot_id(uniprot_id) is False:\n",
        "        print(f\"Invalid UniProt ID: {uniprot_id}\")\n",
        "        return None\n",
        "    else:\n",
        "      print(f\"Validated UniProt ID: {uniprot_id}\")\n",
        "\n",
        "      # Make GET request\n",
        "      full_url = f\"{uniref_search_url}{uniprot_id}&size=3\"\n",
        "      print(\"URL:\", full_url)\n",
        "      response = requests.get(full_url)\n",
        "\n",
        "    if response.status_code == 200:\n",
        "        print(\"Data retrieved successfully.\")\n",
        "        return response.json()\n",
        "    else:\n",
        "        print(f\"Failed to retrieve data. Status code: {response.status_code}\")\n",
        "        return None"
      ],
      "metadata": {
        "id": "0AV72DUJOWMa"
      },
      "execution_count": null,
      "outputs": []
    },
    {
      "cell_type": "code",
      "source": [
        "# Example usage\n",
        "uniprot_id = \"G1L2V2\"  # Example: Alcohol dehydrogenase (from Giant Panda)\n",
        "uniref_clusters_G1L2V2 = fetch_uniref_clusters(uniprot_id)\n",
        "pprint(uniref_clusters_G1L2V2)"
      ],
      "metadata": {
        "id": "t_nE3SUeNtkg"
      },
      "execution_count": null,
      "outputs": []
    },
    {
      "cell_type": "markdown",
      "source": [
        "### **4. Retrieve UniRef90 clusters contents**"
      ],
      "metadata": {
        "id": "ueCyDlVkPkU8"
      }
    },
    {
      "cell_type": "code",
      "source": [
        "def fetch_uniref90_content(uniprot_id):\n",
        "    # Validate UniProt ID format (using previous definition)\n",
        "    if is_uniprot_id(uniprot_id) is False:\n",
        "        print(f\"Invalid UniProt ID: {uniprot_id}\")\n",
        "        return None\n",
        "    else:\n",
        "      print(f\"Validated UniProt ID: {uniprot_id}\")\n",
        "\n",
        "      # Make GET request\n",
        "      full_url = f\"{uniref_url}UniRef90_{uniprot_id}\"\n",
        "      print(\"URL:\", full_url)\n",
        "      response = requests.get(full_url)\n",
        "\n",
        "    if response.status_code == 200:\n",
        "        print(\"Data retrieved successfully.\")\n",
        "        return response.json()\n",
        "    else:\n",
        "        print(f\"Failed to retrieve data. Status code: {response.status_code}\")\n",
        "        return None"
      ],
      "metadata": {
        "id": "h65QgRr8fEuL"
      },
      "execution_count": null,
      "outputs": []
    },
    {
      "cell_type": "code",
      "source": [
        "# Example usage\n",
        "uniprot_id = \"P00327\"  # Example: Alcohol dehydrogenase (from Horse)\n",
        "uniref90_content_P00327 = fetch_uniref90_content(uniprot_id)\n",
        "pprint(uniref90_content_P00327)"
      ],
      "metadata": {
        "id": "3KMKtvbNPVSb"
      },
      "execution_count": null,
      "outputs": []
    },
    {
      "cell_type": "markdown",
      "source": [
        "### Example data to test code"
      ],
      "metadata": {
        "id": "kHxi-Urd_IiR"
      }
    },
    {
      "cell_type": "markdown",
      "source": [
        "Example data retrieved using the 4 new Python definition:\n",
        "\n",
        "1.  `result_1ffy`\n",
        "2.  `result_P41972`\n",
        "3.  `uniref_clusters_G1L2V2`\n",
        "4.  `uniref90_content_P00327`"
      ],
      "metadata": {
        "id": "ZHYlJ-4JiiMF"
      }
    },
    {
      "cell_type": "markdown",
      "source": [
        "## 🧭 **Exploring API endpoint Python definitions**\n"
      ],
      "metadata": {
        "id": "MtBOzBdquhUw"
      }
    },
    {
      "cell_type": "markdown",
      "source": [
        "### 🔑 Step 1: Top-Level Keys\n",
        "\n",
        "Use this to get a quick overview of the the top-level division of information from the API."
      ],
      "metadata": {
        "id": "M6Dxi8Ns8q1J"
      }
    },
    {
      "cell_type": "code",
      "source": [
        "# Print top-level keys to understand the structure\n",
        "print(result_1ffy.keys())\n",
        "print(result_P41972.keys())\n",
        "print(uniref_clusters_G1L2V2.keys())\n",
        "print(uniref90_content_P00327.keys())"
      ],
      "metadata": {
        "id": "dKurtVWpXQV3"
      },
      "execution_count": null,
      "outputs": []
    },
    {
      "cell_type": "markdown",
      "source": [
        "### 🧰 Step 2: Map All Keys\n",
        "\n",
        "We are using a Python definition to find all the dictionary keys in the nested structure.\n",
        "\n",
        "This is useful approach for understanding deeply nested JSON objects."
      ],
      "metadata": {
        "id": "qL87rSuF85Be"
      }
    },
    {
      "cell_type": "markdown",
      "source": [
        "🧠 **Function: map_keys**"
      ],
      "metadata": {
        "id": "nJ4qtxrn9VHx"
      }
    },
    {
      "cell_type": "code",
      "source": [
        "# Define a recursive function to map all keys\n",
        "def map_keys(d, level=0, path=''):\n",
        "    # If the current object is a dictionary\n",
        "    if isinstance(d, dict):\n",
        "        for k, v in d.items():\n",
        "            # Build the full path to the current key\n",
        "            full_path = f\"{path}.{k}\" if path else k\n",
        "            # Print the key with indentation based on the current level\n",
        "            print(\"  \" * level + f\"- {full_path}\")\n",
        "            # Recursively call map_keys on the value\n",
        "            map_keys(v, level + 1, full_path)\n",
        "\n",
        "    # If the current object is a list\n",
        "    elif isinstance(d, list):\n",
        "        for i, item in enumerate(d):\n",
        "            # Build the full path to the current list index\n",
        "            full_path = f\"{path}[{i}]\"\n",
        "            # Recursively call map_keys on the list item\n",
        "            map_keys(item, level + 1, full_path)"
      ],
      "metadata": {
        "id": "Q5mUbhgGbM8a"
      },
      "execution_count": null,
      "outputs": []
    },
    {
      "cell_type": "markdown",
      "source": [
        "▶️ **Run the Function**"
      ],
      "metadata": {
        "id": "NR_WWDua9cnO"
      }
    },
    {
      "cell_type": "markdown",
      "source": [
        "#### Mapping keys for Result 1"
      ],
      "metadata": {
        "id": "e5piE_tVoYV4"
      }
    },
    {
      "cell_type": "code",
      "source": [
        "# Call the function on your JSON-like data structure\n",
        "map_keys(result_1ffy)"
      ],
      "metadata": {
        "id": "aaKCNu5rbRTB"
      },
      "execution_count": null,
      "outputs": []
    },
    {
      "cell_type": "markdown",
      "source": [
        "#### Mapping keys for Result 2"
      ],
      "metadata": {
        "id": "4DiHyXi1osmb"
      }
    },
    {
      "cell_type": "code",
      "source": [
        "# Call the function on your JSON-like data structure\n",
        "map_keys(result_P41972)"
      ],
      "metadata": {
        "id": "4XNJbjpgnsPF"
      },
      "execution_count": null,
      "outputs": []
    },
    {
      "cell_type": "markdown",
      "source": [
        "#### Mapping keys for Result 3"
      ],
      "metadata": {
        "id": "lTJWPGeEopPv"
      }
    },
    {
      "cell_type": "code",
      "source": [
        "# Call the function on your JSON-like data structure\n",
        "map_keys(uniref_clusters_G1L2V2)"
      ],
      "metadata": {
        "id": "qUc_Veh_n6gW"
      },
      "execution_count": null,
      "outputs": []
    },
    {
      "cell_type": "markdown",
      "source": [
        "#### Mapping keys for Result 4"
      ],
      "metadata": {
        "id": "mWkguyfzoPUV"
      }
    },
    {
      "cell_type": "code",
      "source": [
        "# Call the function on your JSON-like data structure\n",
        "map_keys(uniref90_content_P00327)"
      ],
      "metadata": {
        "id": "oZWygNI7oBYw"
      },
      "execution_count": null,
      "outputs": []
    },
    {
      "cell_type": "markdown",
      "source": [
        "### 🗺️ Step 3: Generate a JSON **Structure** Report\n",
        "We are using a Python definition to see all dictionary keys.\n",
        "\n",
        "This code reports at each level in the nested data whether data is structured as:\n",
        "\n",
        "*   dictionary\n",
        "*   list\n",
        "*   string"
      ],
      "metadata": {
        "id": "PbC2AHMy9ql5"
      }
    },
    {
      "cell_type": "markdown",
      "source": [
        "🧠 **Function: json_structure_report**"
      ],
      "metadata": {
        "id": "a9x1U5Sj9q8y"
      }
    },
    {
      "cell_type": "code",
      "source": [
        "def json_structure_report(data, level=0, path='root', show_values=False, max_depth=None):\n",
        "    \"\"\"\n",
        "    Recursively reports the type of each layer in a nested JSON-like structure.\n",
        "\n",
        "    Parameters:\n",
        "    - data: The JSON-like object (dict or list) to inspect.\n",
        "    - level: Current depth level (used for indentation).\n",
        "    - path: String representing the path to the current node.\n",
        "    - show_values: If True, prints the value for non-dict-keys/list types.\n",
        "    - max_depth: If set, limits the depth of recursion.\n",
        "    \"\"\"\n",
        "    indent = \"  \" * level  # Indentation for visual hierarchy\n",
        "\n",
        "    # Stop recursion if max_depth is reached\n",
        "    if max_depth is not None and level > max_depth:\n",
        "        print(f\"{indent}{path} ... (max depth reached)\")\n",
        "        return\n",
        "\n",
        "    if isinstance(data, dict):\n",
        "        print(f\"{indent}{path} is a dictionary with {len(data)} keys: {list(data.keys())}\")\n",
        "        for key, value in data.items():\n",
        "            json_structure_report(value, level + 1, f\"{path}.{key}\", show_values, max_depth)\n",
        "\n",
        "    elif isinstance(data, list):\n",
        "        print(f\"{indent}{path} is a list with {len(data)} items\")\n",
        "        for i, item in enumerate(data):\n",
        "            json_structure_report(item, level + 1, f\"{path}[{i}]\", show_values, max_depth)\n",
        "\n",
        "    else:\n",
        "        # For primitive types (str, int, etc.)\n",
        "        type_name = type(data).__name__\n",
        "        if show_values:\n",
        "            print(f\"{indent}{path} is a {type_name} with value: {repr(data)}\")\n",
        "        else:\n",
        "            print(f\"{indent}{path} is a {type_name}\")"
      ],
      "metadata": {
        "id": "gS5FZ8r3emux"
      },
      "execution_count": null,
      "outputs": []
    },
    {
      "cell_type": "markdown",
      "source": [
        "▶️ **Run the Function**"
      ],
      "metadata": {
        "id": "MRWNWEyl9wsp"
      }
    },
    {
      "cell_type": "markdown",
      "source": [
        "#### Data structure Result 1"
      ],
      "metadata": {
        "id": "peZX9f2Q_j4d"
      }
    },
    {
      "cell_type": "code",
      "source": [
        "# Call the function on your JSON-like data structure\n",
        "json_structure_report(result_1ffy, show_values=True)"
      ],
      "metadata": {
        "id": "mKxHBoBhg067"
      },
      "execution_count": null,
      "outputs": []
    },
    {
      "cell_type": "markdown",
      "source": [
        "#### Data structure Result 2"
      ],
      "metadata": {
        "id": "dnMkx7DH_4UU"
      }
    },
    {
      "cell_type": "code",
      "source": [
        "# Call the function on your JSON-like data structure\n",
        "json_structure_report(result_P41972, show_values=True)"
      ],
      "metadata": {
        "id": "dzM1T6Lc_0KV"
      },
      "execution_count": null,
      "outputs": []
    },
    {
      "cell_type": "markdown",
      "source": [
        "#### Data structure Result 3"
      ],
      "metadata": {
        "id": "MA1uGI1o_8dH"
      }
    },
    {
      "cell_type": "code",
      "source": [
        "# Call the function on your JSON-like data structure\n",
        "json_structure_report(uniref_clusters_G1L2V2, show_values=True)"
      ],
      "metadata": {
        "id": "JYwfif19_0VD"
      },
      "execution_count": null,
      "outputs": []
    },
    {
      "cell_type": "markdown",
      "source": [
        "#### Data structure Result 4"
      ],
      "metadata": {
        "id": "4zgBhyY9_6dD"
      }
    },
    {
      "cell_type": "code",
      "source": [
        "# Call the function on your JSON-like data structure\n",
        "json_structure_report(uniref90_content_P00327, show_values=True)"
      ],
      "metadata": {
        "id": "jQBRXTNB_0fg"
      },
      "execution_count": null,
      "outputs": []
    },
    {
      "cell_type": "markdown",
      "source": [
        "##🔍  **1) EXERCISE - PROVIDED EXAMPLE**\n",
        "\n",
        "\n",
        "\n",
        "\n",
        "\n",
        "\n"
      ],
      "metadata": {
        "id": "SA22dGnLwoxM"
      }
    },
    {
      "cell_type": "markdown",
      "source": [
        "### ❓ **TASK 1:** Suggest bug fixes for the code below.\n",
        "\n",
        "The code was generated by AI and contains errors.\n",
        "The code below should extract table with PDB ids, chain ids, experimental method, resolution and UniProt coverage.\n",
        "\n",
        "*HINT: Use output from the 'Exploring API endpoints Python definitions'* `map_keys` *or* `json_structure_report` *in the prompt.*\n",
        "\n",
        "---"
      ],
      "metadata": {
        "id": "SKbpRgKH7jrD"
      }
    },
    {
      "cell_type": "markdown",
      "source": [
        "🐞 **Original Code with Bugs**"
      ],
      "metadata": {
        "id": "bmVABiKP6Grh"
      }
    },
    {
      "cell_type": "code",
      "source": [
        "def fetch_best_structures(uniprot_id):\n",
        "    url = f\"https://www.ebi.ac.uk/pdbe/api/v2/uniprot/best_structures/{uniprot_id}\"\n",
        "    response = requests.get(url)\n",
        "    response.raise_for_status()  # Raise an error for bad responses\n",
        "    data = response.json()\n",
        "\n",
        "    records = []\n",
        "    for entry in data.get(uniprot_id, []):\n",
        "        for region in entry.get(\"observed_regions\", []):\n",
        "            unp_start = region.get(\"unp_start\")\n",
        "            unp_end = region.get(\"unp_end\")\n",
        "            coverage = (unp_end - unp_start + 1) / (entry.get(\"end\", unp_end) - entry.get(\"start\", unp_start) + 1)\n",
        "\n",
        "            records.append({\n",
        "                \"experimental_method\": entry.get(\"experimental_method\"),\n",
        "                \"resolution\": entry.get(\"resolution\"),\n",
        "                \"pdb_id\": entry.get(\"pdb_id\"),\n",
        "                \"chain_id\": entry.get(\"chain_id\"),\n",
        "                \"unp_start\": unp_start,\n",
        "                \"unp_end\": unp_end,\n",
        "                \"coverage\": coverage\n",
        "            })"
      ],
      "metadata": {
        "id": "gLq4L4G4Wllw"
      },
      "execution_count": null,
      "outputs": []
    },
    {
      "cell_type": "code",
      "source": [
        "# Example usage\n",
        "\n",
        "fetch_best_structures(\"P41972\")"
      ],
      "metadata": {
        "id": "FZBuGMcnDEuU"
      },
      "execution_count": null,
      "outputs": []
    },
    {
      "cell_type": "markdown",
      "source": [
        "### 🧪 **SOLUTION 1:** Bug Fixes and Explanation\n",
        "\n",
        "Issue 1. Redundant Coverage Calculation\n",
        "- Problem: The code recalculates `coverage` using:\n",
        "  ```python\n",
        "  coverage = (unp_end - unp_start + 1) / (entry.get(\"end\", unp_end) - entry.get(\"start\", unp_start) + 1)\n",
        "  ```\n",
        "- Why problem: The API already provides a `coverage` value, making this calculation unnecessary and potentially error-prone.\n",
        "\n",
        "Issue 2. No explicit handling for entries solved by solution NMR where the resolution value will be `Null` or `None`\n",
        "\n",
        "Issue 3. Data is not loaded into a pandas dataframe\n",
        "\n",
        "Issue 4. Code could be simplified by using `glom`\n",
        "\n",
        "---"
      ],
      "metadata": {
        "id": "1naKqJ5Exk9l"
      }
    },
    {
      "cell_type": "code",
      "source": [
        "def fetch_best_structures(uniprot_id):\n",
        "    url = f\"https://www.ebi.ac.uk/pdbe/api/v2/uniprot/best_structures/{uniprot_id}\"\n",
        "    response = requests.get(url)\n",
        "    response.raise_for_status()\n",
        "    data = response.json()\n",
        "\n",
        "    target = Path(uniprot_id)\n",
        "    records = []\n",
        "\n",
        "    for entry in glom(data, target):\n",
        "        for region in entry.get(\"observed_regions\", []):\n",
        "            record = {\n",
        "                \"experimental_method\": entry.get(\"experimental_method\"),\n",
        "                \"resolution\": entry.get(\"resolution\") if entry.get(\"resolution\") is not None else float(\"nan\"),\n",
        "                \"pdb_id\": entry.get(\"pdb_id\"),\n",
        "                \"chain_id\": entry.get(\"chain_id\"),\n",
        "                \"coverage\": entry.get(\"coverage\"),\n",
        "                \"unp_start\": region.get(\"unp_start\"),\n",
        "                \"unp_end\": region.get(\"unp_end\")\n",
        "            }\n",
        "            records.append(record)\n",
        "\n",
        "    df = pd.DataFrame(records)\n",
        "    return df"
      ],
      "metadata": {
        "id": "tHIIv2RhXtgs"
      },
      "execution_count": null,
      "outputs": []
    },
    {
      "cell_type": "code",
      "source": [
        "# Example usage 1\n",
        "\n",
        "fetch_best_structures(\"P41972\")"
      ],
      "metadata": {
        "id": "FXD4TRPRRnZS"
      },
      "execution_count": null,
      "outputs": []
    },
    {
      "cell_type": "code",
      "source": [
        "# Example usage 2\n",
        "\n",
        "fetch_best_structures(\"P48754\")"
      ],
      "metadata": {
        "id": "HLOvYz12g5hY"
      },
      "execution_count": null,
      "outputs": []
    },
    {
      "cell_type": "markdown",
      "source": [
        "## 🔍 **2) EXERCISE**"
      ],
      "metadata": {
        "id": "-Ah_YdhOzh3j"
      }
    },
    {
      "cell_type": "markdown",
      "source": [
        "### ❓ **TASK 2:** Generate code that produces a list of PDB ids\n",
        "\n",
        "With help from AI convert the code from the previous exercise into code that produces a list of pdb ids rather than a dataframe / table.\n",
        "\n",
        "<br>\n",
        "\n",
        "---\n",
        "\n"
      ],
      "metadata": {
        "id": "IWSM5Epy0XMa"
      }
    },
    {
      "cell_type": "markdown",
      "source": [
        "### 🧪 **SOLUTION 2:** New Python definition that outputs a list of structures that contain at least one protein chain that corresponds to input UniProt id"
      ],
      "metadata": {
        "id": "_0-CxYXr2GOS"
      }
    },
    {
      "cell_type": "code",
      "source": [
        "def remove_duplicates(input_list):\n",
        "    \"\"\"\n",
        "    Removes duplicates from a list while preserving order.\n",
        "\n",
        "    Parameters:\n",
        "        input_list (list): The list from which to remove duplicates.\n",
        "\n",
        "    Returns:\n",
        "        list: A new list with duplicates removed.\n",
        "    \"\"\"\n",
        "    seen = set()\n",
        "    unique_list = []\n",
        "    for item in input_list:\n",
        "        if item not in seen:\n",
        "            seen.add(item)\n",
        "            unique_list.append(item)\n",
        "    return unique_list"
      ],
      "metadata": {
        "id": "FHegUSNRMhbw"
      },
      "execution_count": null,
      "outputs": []
    },
    {
      "cell_type": "code",
      "source": [
        "def list_of_PDB_structures(uniprot_id):\n",
        "    url = f\"https://www.ebi.ac.uk/pdbe/api/v2/uniprot/best_structures/{uniprot_id}\"\n",
        "    response = requests.get(url)\n",
        "    response.raise_for_status()\n",
        "    data = response.json()\n",
        "\n",
        "    target = Path(uniprot_id)\n",
        "    pdb_ids = []\n",
        "\n",
        "    for entry in glom(data, target):\n",
        "        pdb_id = entry.get(\"pdb_id\")\n",
        "        if pdb_id:\n",
        "            pdb_ids.append(pdb_id)\n",
        "\n",
        "    pdb_ids = remove_duplicates(pdb_ids)\n",
        "\n",
        "    return pdb_ids"
      ],
      "metadata": {
        "id": "CcYMuyTXy_CI"
      },
      "execution_count": null,
      "outputs": []
    },
    {
      "cell_type": "code",
      "source": [
        "# Example usage 1\n",
        "\n",
        "pdb_list = list_of_PDB_structures(\"P38398\")  # Breast cancer type 1 susceptibility protein (with E3 ubiquitin-protein ligase activity)\n",
        "print(pdb_list)"
      ],
      "metadata": {
        "id": "B9E06a7MzA74"
      },
      "execution_count": null,
      "outputs": []
    },
    {
      "cell_type": "code",
      "source": [
        "# Example usage 2\n",
        "\n",
        "pdb_list = list_of_PDB_structures(\"P21802\")  # Breast cancer type 1 susceptibility protein (with E3 ubiquitin-protein ligase activity)\n",
        "print(pdb_list)\n",
        "#print(len(pdb_list))"
      ],
      "metadata": {
        "id": "M9L4wbRMRMd1"
      },
      "execution_count": null,
      "outputs": []
    },
    {
      "cell_type": "markdown",
      "source": [
        "## 🔍 **3) EXERCISE**"
      ],
      "metadata": {
        "id": "FkWp0pOwz5Sa"
      }
    },
    {
      "cell_type": "markdown",
      "source": [
        "### ❓ **TASK 3:** The below code was generated with AI. Try to replicate.\n",
        "\n",
        "The code was generated by AI after several prompts.\n",
        "\n",
        "The code below should extact both the isoform UniProt and related information from API: `https://www.ebi.ac.uk/pdbe/api/v2/mappings/isoforms/{pdb_id}`.\n",
        "\n",
        "\n",
        "*HINT: Use the API example and the output for the API example from the 'Exploring API endpoints Python definitions'* `map_keys` *or* `json_structure_report` *in the prompt.*\n",
        "\n",
        "<br>\n",
        "\n",
        "---"
      ],
      "metadata": {
        "id": "lbQp2rXn68bF"
      }
    },
    {
      "cell_type": "markdown",
      "source": [
        "🤖 **AI generated Code**\n",
        "\n"
      ],
      "metadata": {
        "id": "0X56v1gP6RLl"
      }
    },
    {
      "cell_type": "code",
      "execution_count": null,
      "metadata": {
        "id": "3XKcE5-OTxmX"
      },
      "outputs": [],
      "source": [
        "# Extract the PDB ID key (e.g., '1ffy')\n",
        "pdb_id = list(result_1ffy.keys())[0]\n",
        "\n",
        "# Extract the UniProt ID key (e.g., 'P41972') dynamically\n",
        "uniprot_id = list(result_1ffy[pdb_id]['UniProt'].keys())[0]\n",
        "\n",
        "# Access the UniProt entry\n",
        "entry = result_1ffy[pdb_id]['UniProt'][uniprot_id]\n",
        "\n",
        "# Print extracted values\n",
        "print(\"PDB ID:\", pdb_id)\n",
        "print(\"UniProt ID:\", uniprot_id)\n",
        "print(\"Identifier:\", entry['identifier'])\n",
        "print(\"Name:\", entry['name'])\n",
        "\n",
        "# Print mapping details\n",
        "for mapping in entry['mappings']:\n",
        "    print(f\"Chain: {mapping['chain_id']}\")\n",
        "    print(f\"Start residue: {mapping['start']['residue_number']}\")\n",
        "    print(f\"End residue: {mapping['end']['residue_number']}\")\n",
        "    print(f\"UniProt range: {mapping['unp_start']}–{mapping['unp_end']}\")\n",
        "    print(f\"Identity: {mapping['identity']}\")\n",
        "    print(\"---\")"
      ]
    },
    {
      "cell_type": "markdown",
      "source": [
        "### 🧪 **SOLUTION 3:** Regenerate code\n"
      ],
      "metadata": {
        "id": "4JfXPMl_0Fg6"
      }
    },
    {
      "cell_type": "markdown",
      "source": [
        "🤖 **Test AI generated code in the Code blocks below**\n",
        "\n",
        "\n"
      ],
      "metadata": {
        "id": "87SQPrA07EMT"
      }
    },
    {
      "cell_type": "code",
      "source": [],
      "metadata": {
        "id": "YCS9rQ2nOGqY"
      },
      "execution_count": null,
      "outputs": []
    },
    {
      "cell_type": "code",
      "source": [],
      "metadata": {
        "id": "e3GQeym2W3I8"
      },
      "execution_count": null,
      "outputs": []
    },
    {
      "cell_type": "code",
      "source": [],
      "metadata": {
        "id": "ZdefdfzCW7Ve"
      },
      "execution_count": null,
      "outputs": []
    },
    {
      "cell_type": "markdown",
      "source": [
        "##🔍 **4) BONUS CHALLENGE** - PROVIDED EXAMPLE"
      ],
      "metadata": {
        "id": "w0fuMcGHtIPu"
      }
    },
    {
      "cell_type": "markdown",
      "source": [
        "### ❓**TASK 4:** Improve the code and convert into a Python definition.\n",
        "\n",
        "Enhance the previous code to generate an output table with 14 columns that correspond to the content from the API.\n",
        "\n",
        "\n",
        "<br>\n",
        "\n",
        "---"
      ],
      "metadata": {
        "id": "ZGRYUk096pcm"
      }
    },
    {
      "cell_type": "markdown",
      "source": [
        "### 🧪 **SOLUTION 4:** Improved code (include more info from API)"
      ],
      "metadata": {
        "id": "vUpodoU4tfbt"
      }
    },
    {
      "cell_type": "code",
      "source": [
        "def parse_pdb_uniprot_mapping(data):\n",
        "    \"\"\"\n",
        "    Parses a nested JSON-like dictionary containing PDB-UniProt mapping data\n",
        "    and returns a pandas DataFrame with extracted fields.\n",
        "\n",
        "    Parameters:\n",
        "        data (dict): Nested dictionary with structure like:\n",
        "                     { '1ffy': { 'UniProt': { 'P41972': { ... } } } }\n",
        "\n",
        "    Returns:\n",
        "        pd.DataFrame: DataFrame containing extracted mapping information.\n",
        "    \"\"\"\n",
        "    records = []\n",
        "\n",
        "    for pdb_id, pdb_entry in data.items():\n",
        "        uniprot_entries = pdb_entry.get('UniProt', {})\n",
        "        for uniprot_id, uniprot_data in uniprot_entries.items():\n",
        "            identifier = uniprot_data.get('identifier')\n",
        "            name = uniprot_data.get('name')\n",
        "            mappings = uniprot_data.get('mappings', [])\n",
        "\n",
        "            for mapping in mappings:\n",
        "                record = {\n",
        "                    \"pdb_id\": pdb_id,\n",
        "                    \"uniprot_id\": uniprot_id,\n",
        "                    \"identifier\": identifier,\n",
        "                    \"name\": name,\n",
        "                    \"chain_id\": mapping.get('chain_id'),\n",
        "                    \"entity_id\": mapping.get('entity_id'),\n",
        "                    \"identity\": mapping.get('identity'),\n",
        "                    \"struct_asym_id\": mapping.get('struct_asym_id'),\n",
        "                    \"unp_start\": mapping.get('unp_start'),\n",
        "                    \"unp_end\": mapping.get('unp_end'),\n",
        "                    \"pdb_start\": mapping.get('pdb_start'),\n",
        "                    \"pdb_end\": mapping.get('pdb_end'),\n",
        "                    \"start_residue\": mapping.get('start', {}).get('residue_number'),\n",
        "                    \"end_residue\": mapping.get('end', {}).get('residue_number')\n",
        "                }\n",
        "                records.append(record)\n",
        "\n",
        "    return pd.DataFrame(records)"
      ],
      "metadata": {
        "id": "DzljWXUKjmZF"
      },
      "execution_count": null,
      "outputs": []
    },
    {
      "cell_type": "code",
      "source": [
        "# Example usage 1\n",
        "\n",
        "parse_pdb_uniprot_mapping(result_1ffy)"
      ],
      "metadata": {
        "id": "BN8wGllOW0q7"
      },
      "execution_count": null,
      "outputs": []
    },
    {
      "cell_type": "code",
      "source": [
        "# Example usage 2\n",
        "\n",
        "parse_pdb_uniprot_mapping(result_1ffy)\n",
        "pdb_id = \"1ffy\" # Example: Isoleucine--tRNA ligase\n",
        "result_1ffy = fetch_best_isoform(pdb_id)\n",
        "pprint(result_1ffy)"
      ],
      "metadata": {
        "id": "nuzfA6OFcyTz"
      },
      "execution_count": null,
      "outputs": []
    },
    {
      "cell_type": "markdown",
      "source": [
        "## 🔍 **5) BONUS CHALLENGE** -- PROVIDED EXAMPLE"
      ],
      "metadata": {
        "id": "cJtKDF4DudZk"
      }
    },
    {
      "cell_type": "markdown",
      "source": [
        "### ❓ **TASK 5:** Use AI to generate a code that is able to take a list of PDB ids and find the best isoforms\n",
        "\n",
        "*HINT: May take more than one prompt -- you can ask AI to bug fix.*\n",
        "\n",
        "<br>\n",
        "\n",
        "---"
      ],
      "metadata": {
        "id": "zyAL2RkP6yvS"
      }
    },
    {
      "cell_type": "markdown",
      "source": [
        "### 🧪 **SOLUTION 5:** Another Python definition that incorporated the previous Python definitions."
      ],
      "metadata": {
        "id": "Veb_ANY_uwkG"
      }
    },
    {
      "cell_type": "code",
      "source": [
        "def fetch_multiple_isoforms(pdb_ids_string):\n",
        "    \"\"\"\n",
        "    Process a comma-separated string of PDB IDs, fetch data for each,\n",
        "    and return a combined DataFrame of parsed UniProt mappings.\n",
        "    \"\"\"\n",
        "    pdb_ids = [pid.strip() for pid in pdb_ids_string.split(\",\")]\n",
        "\n",
        "    frames = []\n",
        "\n",
        "    for pdb_id in pdb_ids:\n",
        "        data = fetch_best_isoform(pdb_id)\n",
        "        #display(parse_pdb_uniprot_mapping(data))\n",
        "        if data:\n",
        "            df = parse_pdb_uniprot_mapping(data)\n",
        "            if not df.empty:\n",
        "                frames.append(df)\n",
        "\n",
        "    return pd.concat(frames, ignore_index=True) if frames else pd.DataFrame()"
      ],
      "metadata": {
        "id": "HlVwJ2egoeD4"
      },
      "execution_count": null,
      "outputs": []
    },
    {
      "cell_type": "code",
      "source": [
        "# Example usage 1:\n",
        "\n",
        "pdb_ids_as_list = [\n",
        "    \"3LII\", \"3K5V\", \"1U70\", \"2XFU\", \"2X91\", \"2R4F\", \"3B7E\", \"3K4V\", \"2JHF\", \"1GAL\", \"3B2T\", \"3OJM\"\n",
        "]\n",
        "\n",
        "pdb_ids_string = \", \".join(pdb_ids_as_list)\n",
        "\n",
        "results_enzyme_list = fetch_multiple_isoforms(pdb_ids_string)"
      ],
      "metadata": {
        "id": "oACFQVIJikFQ"
      },
      "execution_count": null,
      "outputs": []
    },
    {
      "cell_type": "code",
      "source": [
        "display(results_enzyme_list)"
      ],
      "metadata": {
        "id": "ypNchGZSQ3i2"
      },
      "execution_count": null,
      "outputs": []
    },
    {
      "cell_type": "code",
      "source": [
        "# Example usage 2:\n",
        "\n",
        "pdb_ids_as_list = ['8rs8', '4y2g', '4igk', '7lyb', '7jzv', '3pxa', '1t15', '4y18', '4ofb', '3pxb', '8grq', '4ifi', '3pxe', '3pxc', '1y98', '3pxd', '1t29', '1jnx', '1n5o', '3k15', '1t2u', '3k0h', '3k0k', '3coj', '3k16', '1t2v', '4u4a', '2ing', '4jlu', '6g2i', '1jm7', '1oqa']\n",
        "\n",
        "pdb_ids_string = ', '.join(pdb_ids_as_list)\n",
        "\n",
        "results_BRCA1 = fetch_multiple_isoforms(pdb_ids_string)"
      ],
      "metadata": {
        "id": "tjIfcPMC5I9B"
      },
      "execution_count": null,
      "outputs": []
    },
    {
      "cell_type": "code",
      "source": [
        "display(results_BRCA1)"
      ],
      "metadata": {
        "id": "exLZUVoyQjI0"
      },
      "execution_count": null,
      "outputs": []
    },
    {
      "cell_type": "markdown",
      "source": [
        "##🔍 **6) EXERCISE**"
      ],
      "metadata": {
        "id": "js_a5a0ltEW7"
      }
    },
    {
      "cell_type": "markdown",
      "source": [
        "### ❓ **TASK 6:** Make Python definition by adapting the below code,\n",
        "\n",
        "The below code was generated with AI. Use this starting point (and the analysis from 'Exploring API endpoint Python definitions') to generate new code that outputs the **UniRef50** cluster the input Uniprot ID belongs to.\n",
        "\n",
        "<br>\n",
        "\n",
        "---"
      ],
      "metadata": {
        "id": "AUBDICa76dLd"
      }
    },
    {
      "cell_type": "code",
      "source": [
        "def fetch_uniref_cluster_id(query):\n",
        "    \"\"\"\n",
        "    Fetches the UniRef cluster ID for a given UniProt accession or ID.\n",
        "\n",
        "    Parameters:\n",
        "        query (str): UniProt accession or ID (e.g., 'G1L2V2')\n",
        "\n",
        "    Returns:\n",
        "        str: The UniRef cluster ID from the first result, or None if not found.\n",
        "    \"\"\"\n",
        "    url = f\"https://rest.uniprot.org/uniref/search?query={query}&size=3\"\n",
        "    response = requests.get(url)\n",
        "    response.raise_for_status()\n",
        "    data = response.json()\n",
        "\n",
        "    try:\n",
        "        cluster_id = data['results'][0]['id']\n",
        "        return cluster_id\n",
        "    except (KeyError, IndexError):\n",
        "        print(\"No results found or unexpected response format.\")\n",
        "        return None"
      ],
      "metadata": {
        "id": "rvw4a5Qv8sK8"
      },
      "execution_count": null,
      "outputs": []
    },
    {
      "cell_type": "code",
      "source": [
        "# Example usage\n",
        "\n",
        "cluster_id = fetch_uniref_cluster_id(\"G1L2V2\")\n",
        "print(\"UniRef Cluster ID:\", cluster_id)"
      ],
      "metadata": {
        "id": "DypRbXg38_je"
      },
      "execution_count": null,
      "outputs": []
    },
    {
      "cell_type": "markdown",
      "source": [
        "### 🧪 **SOLUTION 6:** Another Python definition that incorporated the previous Python definitions.[link text](https://)"
      ],
      "metadata": {
        "id": "-t7mh54g6dBC"
      }
    },
    {
      "cell_type": "code",
      "source": [
        "def fetch_uniref_cluster_id(query):\n",
        "    \"\"\"\n",
        "    Fetches the UniRef cluster ID for a given UniProt accession or ID.\n",
        "\n",
        "    Parameters:\n",
        "        query (str): UniProt accession or ID (e.g., 'G1L2V2')\n",
        "\n",
        "    Returns:\n",
        "        str: The UniRef cluster ID from the first result, or None if not found.\n",
        "    \"\"\"\n",
        "    url = f\"https://rest.uniprot.org/uniref/search?query={query}&size=3\"\n",
        "    response = requests.get(url)\n",
        "    response.raise_for_status()\n",
        "    data = response.json()\n",
        "\n",
        "    try:\n",
        "        cluster_id = data['results'][2]['id']\n",
        "        return cluster_id\n",
        "    except (KeyError, IndexError):\n",
        "        print(\"No results found or unexpected response format.\")\n",
        "        return None"
      ],
      "metadata": {
        "id": "7aa_PiPxLS8F"
      },
      "execution_count": null,
      "outputs": []
    },
    {
      "cell_type": "code",
      "source": [
        "# Example usage\n",
        "\n",
        "cluster_id = fetch_uniref_cluster_id(\"G1L2V2\")\n",
        "print(\"UniRef Cluster ID:\", cluster_id)"
      ],
      "metadata": {
        "id": "e04eGEMQLYLL"
      },
      "execution_count": null,
      "outputs": []
    },
    {
      "cell_type": "markdown",
      "source": [
        "# Copyright 2025 EMBL - European Bioinformatics Institute\n",
        "\n",
        "Licensed under the Apache License, Version 2.0 (the \"License\"); you may not use this file except in compliance with the License. You may obtain a copy of the License at http://www.apache.org/licenses/LICENSE-2.0\n",
        "\n",
        "Unless required by applicable law or agreed to in writing, software distributed under the License is distributed on an \"AS IS\" BASIS, WITHOUT WARRANTIES OR CONDITIONS OF ANY KIND, either express or implied. See the License for the specific language governing permissions and limitations under the License."
      ],
      "metadata": {
        "id": "iMcFdQcjasgx"
      }
    },
    {
      "cell_type": "markdown",
      "source": [
        "Here are **5 multiple-choice questions** designed to test understanding of:\n",
        "\n",
        "- The relationship between **PDB chains** and **UniProt IDs**\n",
        "- Concepts like **isoforms**, **canonical sequences**, and **UniProt annotations**\n",
        "\n",
        "---\n",
        "\n",
        "### 🧪 **Question 1: Mapping Chains to UniProt IDs**\n",
        "\n",
        "**Which of the following best describes how a PDB chain is mapped to a UniProt ID?**\n",
        "\n",
        "A. Each PDB chain corresponds to a unique UniProt isoform  \n",
        "B. PDB chains are mapped to UniProt entries based on sequence alignment and taxonomy  \n",
        "C. PDB chains are assigned UniProt IDs manually by crystallographers  \n",
        "D. PDB chains are only mapped to canonical UniProt sequences\n",
        "\n",
        "✅ **Correct Answer:** B\n",
        "\n",
        "---\n",
        "\n",
        "### 🧪 **Question 2: What is a UniProt ID?**\n",
        "\n",
        "**A UniProt ID uniquely identifies:**\n",
        "\n",
        "A. A protein structure in the PDB  \n",
        "B. A gene in the human genome  \n",
        "C. A specific protein sequence from a defined organism  \n",
        "D. A protein isoform across all species\n",
        "\n",
        "✅ **Correct Answer:** C\n",
        "\n",
        "---\n",
        "\n",
        "### 🧪 **Question 3: What is the canonical sequence in UniProt?**\n",
        "\n",
        "**The canonical sequence in a UniProtKB/Swiss-Prot entry is selected based on:**\n",
        "\n",
        "A. The longest isoform available  \n",
        "B. The most recently discovered isoform  \n",
        "C. Functionality, expression, conservation, and consensus with other databases  \n",
        "D. The isoform with the highest molecular weight\n",
        "\n",
        "✅ **Correct Answer:** C\n",
        "\n",
        "---\n",
        "\n",
        "### 🧪 **Question 4: How often is UniProt updated?**\n",
        "\n",
        "**New versions of UniProt are released:**\n",
        "\n",
        "A. Weekly  \n",
        "B. Monthly  \n",
        "C. Every 3–4 months  \n",
        "D. Annually\n",
        "\n",
        "✅ **Correct Answer:** C\n",
        "\n",
        "---\n",
        "\n",
        "### 🧪 **Question 5: Which statement about isoforms is TRUE?**\n",
        "\n",
        "A. Isoforms are only found in non-human proteins  \n",
        "B. Isoforms result from alternative splicing and may have different functions  \n",
        "C. Isoforms are not included in UniProt entries  \n",
        "D. Isoforms are identical in sequence but differ in structure\n",
        "\n",
        "✅ **Correct Answer:** B\n",
        "\n",
        "---\n",
        "\n",
        "Would you like these questions formatted for a quiz tool or exported to a file?"
      ],
      "metadata": {
        "id": "z6GEJuyl4dsF"
      }
    },
    {
      "cell_type": "code",
      "source": [
        "class UniProtBatchLookup:\n",
        "    \"\"\"\n",
        "    A class to perform batch protein information lookup using UniProt API\n",
        "    \"\"\"\n",
        "\n",
        "    def __init__(self):\n",
        "        self.base_url = \"https://rest.uniprot.org\"\n",
        "        self.session = requests.Session()\n",
        "        # Set headers for polite API usage\n",
        "        self.session.headers.update({\n",
        "            'User-Agent': 'Python UniProt Batch Lookup Script'\n",
        "        })\n",
        "\n",
        "    def get_protein_info(self, accessions: List[str], fields: List[str] = None) -> List[Dict]:\n",
        "        \"\"\"\n",
        "        Retrieve protein information for multiple accession numbers\n",
        "\n",
        "        Args:\n",
        "            accessions: List of UniProt accession numbers\n",
        "            fields: List of fields to retrieve (if None, uses default fields)\n",
        "\n",
        "        Returns:\n",
        "            List of dictionaries containing protein information\n",
        "        \"\"\"\n",
        "        if fields is None:\n",
        "            # Default fields to retrieve\n",
        "            fields = [\n",
        "                'accession',\n",
        "                'id',\n",
        "                'protein_name',\n",
        "                'gene_names',\n",
        "                'organism_name',\n",
        "                'length',\n",
        "                'mass',\n",
        "                'cc_function',\n",
        "                'cc_subcellular_location',\n",
        "                'ft_domain',\n",
        "                'go_p',  # GO biological process\n",
        "                'go_f',  # GO molecular function\n",
        "                'go_c'   # GO cellular component\n",
        "            ]\n",
        "\n",
        "        # Convert accessions list to comma-separated string\n",
        "        accession_string = ','.join(accessions)\n",
        "\n",
        "        # Construct the API URL\n",
        "        url = f\"{self.base_url}/uniprotkb/search\"\n",
        "\n",
        "        params = {\n",
        "            'query': f'accession:({accession_string})',\n",
        "            'format': 'json',\n",
        "            'fields': ','.join(fields),\n",
        "            'size': len(accessions)\n",
        "        }\n",
        "\n",
        "        try:\n",
        "            print(f\"Fetching information for {len(accessions)} proteins...\")\n",
        "            response = self.session.get(url, params=params)\n",
        "            response.raise_for_status()\n",
        "\n",
        "            data = response.json()\n",
        "            results = data.get('results', [])\n",
        "\n",
        "            print(f\"Successfully retrieved information for {len(results)} proteins\")\n",
        "            return results\n",
        "\n",
        "        except requests.exceptions.RequestException as e:\n",
        "            print(f\"Error fetching protein information: {e}\")\n",
        "            return []\n",
        "\n",
        "    def process_protein_data(self, protein_data: List[Dict]) -> pd.DataFrame:\n",
        "        \"\"\"\n",
        "        Process raw protein data into a structured DataFrame\n",
        "\n",
        "        Args:\n",
        "            protein_data: List of protein dictionaries from UniProt API\n",
        "\n",
        "        Returns:\n",
        "            pandas DataFrame with processed protein information\n",
        "        \"\"\"\n",
        "        processed_data = []\n",
        "\n",
        "        for protein in protein_data:\n",
        "            # Extract basic information\n",
        "            entry = {\n",
        "                'accession': protein.get('primaryAccession', ''),\n",
        "                'entry_name': protein.get('uniProtkbId', ''),\n",
        "                'protein_name': '',\n",
        "                'gene_names': '',\n",
        "                'organism': protein.get('organism', {}).get('scientificName', ''),\n",
        "                'length': protein.get('sequence', {}).get('length', ''),\n",
        "                'mass': protein.get('sequence', {}).get('molWeight', ''),\n",
        "                'function': '',\n",
        "                'subcellular_location': '',\n",
        "                'domains': '',\n",
        "                'go_biological_process': '',\n",
        "                'go_molecular_function': '',\n",
        "                'go_cellular_component': ''\n",
        "            }\n",
        "\n",
        "            # Extract protein name\n",
        "            if 'proteinDescription' in protein:\n",
        "                rec_name = protein['proteinDescription'].get('recommendedName', {})\n",
        "                if 'fullName' in rec_name:\n",
        "                    entry['protein_name'] = rec_name['fullName'].get('value', '')\n",
        "\n",
        "            # Extract gene names\n",
        "            if 'genes' in protein and protein['genes']:\n",
        "                gene_names = []\n",
        "                for gene in protein['genes']:\n",
        "                    if 'geneName' in gene:\n",
        "                        gene_names.append(gene['geneName'].get('value', ''))\n",
        "                entry['gene_names'] = '; '.join(gene_names)\n",
        "\n",
        "            # Extract function information\n",
        "            if 'comments' in protein:\n",
        "                for comment in protein['comments']:\n",
        "                    if comment.get('commentType') == 'FUNCTION':\n",
        "                        function_texts = comment.get('texts', [])\n",
        "                        if function_texts:\n",
        "                            entry['function'] = function_texts[0].get('value', '')\n",
        "                    elif comment.get('commentType') == 'SUBCELLULAR LOCATION':\n",
        "                        locations = comment.get('subcellularLocations', [])\n",
        "                        loc_names = []\n",
        "                        for loc in locations:\n",
        "                            if 'location' in loc:\n",
        "                                loc_names.append(loc['location'].get('value', ''))\n",
        "                        entry['subcellular_location'] = '; '.join(loc_names)\n",
        "\n",
        "            # Extract domain information\n",
        "            if 'features' in protein:\n",
        "                domains = []\n",
        "                for feature in protein['features']:\n",
        "                    if feature.get('type') == 'DOMAIN':\n",
        "                        domain_desc = feature.get('description', '')\n",
        "                        domains.append(domain_desc)\n",
        "                entry['domains'] = '; '.join(domains)\n",
        "\n",
        "            # Extract GO terms\n",
        "            if 'uniProtKBCrossReferences' in protein:\n",
        "                go_bp, go_mf, go_cc = [], [], []\n",
        "                for ref in protein['uniProtKBCrossReferences']:\n",
        "                    if ref.get('database') == 'GO':\n",
        "                        properties = ref.get('properties', [])\n",
        "                        for prop in properties:\n",
        "                            if prop.get('key') == 'GoTerm':\n",
        "                                go_term = prop.get('value', '')\n",
        "                                if 'P:' in go_term:  # Biological Process\n",
        "                                    go_bp.append(go_term.replace('P:', ''))\n",
        "                                elif 'F:' in go_term:  # Molecular Function\n",
        "                                    go_mf.append(go_term.replace('F:', ''))\n",
        "                                elif 'C:' in go_term:  # Cellular Component\n",
        "                                    go_cc.append(go_term.replace('C:', ''))\n",
        "\n",
        "                entry['go_biological_process'] = '; '.join(go_bp)\n",
        "                entry['go_molecular_function'] = '; '.join(go_mf)\n",
        "                entry['go_cellular_component'] = '; '.join(go_cc)\n",
        "\n",
        "            processed_data.append(entry)\n",
        "\n",
        "        return pd.DataFrame(processed_data)\n",
        "\n",
        "    def save_results(self, df: pd.DataFrame, filename: str = \"protein_batch_results.csv\"):\n",
        "        \"\"\"\n",
        "        Save results to CSV file\n",
        "\n",
        "        Args:\n",
        "            df: DataFrame containing protein information\n",
        "            filename: Output filename\n",
        "        \"\"\"\n",
        "        df.to_csv(filename, index=False)\n",
        "        print(f\"Results saved to {filename}\")\n",
        "\n",
        "    def batch_lookup_with_retry(self, accessions: List[str], batch_size: int = 50,\n",
        "                               delay: float = 1.0) -> pd.DataFrame:\n",
        "        \"\"\"\n",
        "        Perform batch lookup with automatic batching and retry logic\n",
        "\n",
        "        Args:\n",
        "            accessions: List of UniProt accession numbers\n",
        "            batch_size: Number of accessions to process per batch\n",
        "            delay: Delay between batches in seconds\n",
        "\n",
        "        Returns:\n",
        "            Combined DataFrame with all results\n",
        "        \"\"\"\n",
        "        all_results = []\n",
        "        total_batches = (len(accessions) + batch_size - 1) // batch_size\n",
        "\n",
        "        for i in range(0, len(accessions), batch_size):\n",
        "            batch_num = (i // batch_size) + 1\n",
        "            batch = accessions[i:i + batch_size]\n",
        "\n",
        "            print(f\"Processing batch {batch_num}/{total_batches} ({len(batch)} proteins)\")\n",
        "\n",
        "            # Get protein information for current batch\n",
        "            protein_data = self.get_protein_info(batch)\n",
        "\n",
        "            if protein_data:\n",
        "                # Process the data\n",
        "                batch_df = self.process_protein_data(protein_data)\n",
        "                all_results.append(batch_df)\n",
        "\n",
        "            # Add delay between batches to be respectful to the API\n",
        "            if i + batch_size < len(accessions):\n",
        "                time.sleep(delay)\n",
        "\n",
        "        # Combine all batch results\n",
        "        if all_results:\n",
        "            combined_df = pd.concat(all_results, ignore_index=True)\n",
        "            return combined_df\n",
        "        else:\n",
        "            return pd.DataFrame()\n",
        "\n",
        "def main():\n",
        "    \"\"\"\n",
        "    Example usage of the UniProtBatchLookup class\n",
        "    \"\"\"\n",
        "    # Initialize the batch lookup tool\n",
        "    lookup = UniProtBatchLookup()\n",
        "\n",
        "    # Example list of UniProt accession numbers\n",
        "    # These are real examples - you can replace with your own\n",
        "    accessions = [\n",
        "        'P04637',  # Tumor protein p53\n",
        "        'P53539',  # ATP synthase subunit alpha\n",
        "        'P0A9B2',  # DNA gyrase subunit A\n",
        "        'P12931',  # Proto-oncogene tyrosine-protein kinase Src\n",
        "        'P68871',  # Hemoglobin subunit beta\n",
        "        'P02768',  # Serum albumin\n",
        "        'P01308',  # Insulin\n",
        "        'P04350',  # Tubulin beta-4A chain\n",
        "        'P63104',  # 14-3-3 protein zeta/delta\n",
        "        'P02023'   # Hemoglobin subunit alpha\n",
        "    ]\n",
        "\n",
        "    print(\"=== UniProt Batch Protein Information Lookup ===\\n\")\n",
        "\n",
        "    # Perform batch lookup\n",
        "    results_df = lookup.batch_lookup_with_retry(accessions, batch_size=5, delay=1.0)\n",
        "\n",
        "    if not results_df.empty:\n",
        "        print(f\"\\n=== Results Summary ===\")\n",
        "        print(f\"Total proteins processed: {len(results_df)}\")\n",
        "        print(f\"Columns available: {list(results_df.columns)}\")\n",
        "\n",
        "        # Display first few results\n",
        "        print(f\"\\n=== First 3 Results ===\")\n",
        "        pd.set_option('display.max_columns', None)\n",
        "        pd.set_option('display.width', None)\n",
        "        print(results_df[['accession', 'protein_name', 'gene_names', 'organism']].head(3))\n",
        "\n",
        "        # Save results to CSV\n",
        "        lookup.save_results(results_df, \"protein_batch_lookup_results.csv\")\n",
        "\n",
        "        # Optional: Save detailed results with all columns\n",
        "        results_df.to_excel(\"protein_batch_lookup_detailed.xlsx\", index=False)\n",
        "        print(\"Detailed results saved to protein_batch_lookup_detailed.xlsx\")\n",
        "\n",
        "    else:\n",
        "        print(\"No results obtained. Please check your accession numbers and internet connection.\")\n",
        "\n",
        "if __name__ == \"__main__\":\n",
        "    main()"
      ],
      "metadata": {
        "id": "G8ZxC0oFfD0I"
      },
      "execution_count": null,
      "outputs": []
    },
    {
      "cell_type": "code",
      "source": [
        "# Simple usage\n",
        "lookup = UniProtBatchLookup()\n",
        "accessions = ['P04637', 'P53539', 'P0A9B2']  # Your protein IDs\n",
        "results_df = lookup.batch_lookup_with_retry(accessions)"
      ],
      "metadata": {
        "id": "r8XWRf3L4rQh"
      },
      "execution_count": null,
      "outputs": []
    },
    {
      "cell_type": "code",
      "source": [
        "import requests\n",
        "\n",
        "url = \"https://rest.uniprot.org/uniref/search?query=P60579&size=500\"\n",
        "response = requests.get(url)\n",
        "data = response.json()\n",
        "\n",
        "cluster_names = [entry[\"id\"] for entry in data.get(\"results\", [])]\n",
        "print(cluster_names)"
      ],
      "metadata": {
        "id": "dAYeYsVmjRdT"
      },
      "execution_count": null,
      "outputs": []
    }
  ]
}